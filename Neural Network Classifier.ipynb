{
 "cells": [
  {
   "cell_type": "code",
   "execution_count": 1,
   "metadata": {
    "colab": {
     "base_uri": "https://localhost:8080/"
    },
    "id": "gMPNGHDXbxEw",
    "outputId": "8ed99e11-ac95-400c-9c4b-cad7c6738855"
   },
   "outputs": [],
   "source": [
    "# We need to first download the data here:\n",
    "file_id = '1-mQuJbHvSq9nRugy96dr0aB7isfzaxMZ'\n",
    "file_download_link = \"https://docs.google.com/uc?export=download&id=\" + file_id\n",
    "#!wget -O data.zip --no-check-certificate \"$file_download_link\"\n",
    "#!unzip data.zip\n"
   ]
  },
  {
   "cell_type": "markdown",
   "metadata": {
    "id": "Lb3TFMsiYnaV"
   },
   "source": [
    "#### Dense Layer Class\n",
    "- structure to hold an arbitrary number of nodes\n",
    "- will have various activation functions\n",
    "- will perform the forward pass through the single layer (z and A)\n",
    "- will perform the backward pass for the layer\n",
    "- will perform the update step for the layer\n",
    "\n",
    "#### Neural Network Class\n",
    "- structure to hold an arbitrary number of layers\n",
    "- will perform the forward pass sequentially through all layers\n",
    "- will do the cost calculation for various loss functions\n",
    "- will perform the backward pass and calculate all gradients\n",
    "- will do an update (a step of gradient descent)\n"
   ]
  },
  {
   "cell_type": "markdown",
   "metadata": {
    "id": "N-xm3KnxYnaW"
   },
   "source": [
    "## Step by step implementation of our ANN class"
   ]
  },
  {
   "cell_type": "markdown",
   "metadata": {
    "id": "uYPvx5awYnaW"
   },
   "source": [
    "Now lets start to implement our NN classes. First import numpy"
   ]
  },
  {
   "cell_type": "code",
   "execution_count": 2,
   "metadata": {
    "id": "zL1c0GPfYnaW"
   },
   "outputs": [],
   "source": [
    "import numpy as np"
   ]
  },
  {
   "cell_type": "markdown",
   "metadata": {
    "id": "cryqx1XlYnaX"
   },
   "source": [
    "Before we can define our main NN class, we need to define our Dense layer class. As I want to do some error checking, we will first define some custom Exceptions:"
   ]
  },
  {
   "cell_type": "code",
   "execution_count": 3,
   "metadata": {
    "id": "eAemRcfmYnaX"
   },
   "outputs": [],
   "source": [
    "class ActivationDoesNotExist(Exception):\n",
    "    \"\"\"Valid activations are sigmoid, tanh, and relu, provided as a string\"\"\"\n",
    "    pass\n",
    "\n",
    "class InputDimensionNotCorrect(Exception):\n",
    "    \"\"\"Need to specify input dimension, i.e. input shape into the first layer\"\"\"\n",
    "    pass\n",
    "\n",
    "class LossFunctionNotDefined(Exception):\n",
    "    \"\"\"Loss function in cost() method not defined\"\"\"\n",
    "    pass"
   ]
  },
  {
   "cell_type": "markdown",
   "metadata": {
    "id": "OXbJ-bRVYnaX"
   },
   "source": [
    "Now we can begin with our new class called DenseLayer. This class takes an constructor with two required parameters:\n",
    "- inputDimension, i.e. the number of features of the input vector, or the number of units from the previous layer\n",
    "- units, i.e. the number of neurons in this layer\n",
    "There are two more optional parameters:\n",
    "- activation: here you can indicate what activation the layer should use. Defined are sigmoid, relu, tanh, and ''. The empty string indicates no activation, meaning we just have a regression.\n",
    "- randomMultiplier is the value which the random weights are multiplied. Generally 0.01 is fine, but sometimes tweaking this number can help.\n",
    "\n",
    "As there can me different activation functions and we do not want to chech which activation we have using an if-statement, we make a reference to the used activation functions in the init statement.\n",
    "\n",
    "In the initialize method, the weights are initialized. Notice that the number of neurons nh (units) are in the rows, and the number of input features nx are the columns. This is required to make our dot product work later.\n",
    "\n",
    "Another thing I learned recently is the use of 'self' in Python. While I though I understood the concept, I did not fully understand the concequences. The definition of the class is separated from the values of each instance. These values are stored in the self object, i.e. the object of the instance. In other programming languages it is common to define types it the class itself. However, in Python you have to define these in the init method. When not doing this, the variable is the same object in all your instances and you can get weird results. I just found this [blog-post](https://towardsdatascience.com/python-pitfall-mutable-default-arguments-9385e8265422) where Don Cross has a very clear explanation.\n",
    "\n",
    "\n",
    "```python\n",
    "class DenseLayer:\n",
    "    def __init__(self, inputDimension, units, activation='', randomMultiplier=0.01):\n",
    "        self.weights, self.bias = self.initialize(inputDimension, units, randomMultiplier)\n",
    "        if activation == 'sigmoid':\n",
    "            self.activation = activation\n",
    "            self.activationForward = self.sigmoid\n",
    "            self.activationBackward = self.sigmoidGrad\n",
    "        elif activation == 'relu':\n",
    "            self.activation = activation\n",
    "            self.activationForward = self.relu\n",
    "            self.activationBackward = self.reluGrad\n",
    "        elif activation == 'tanh':\n",
    "            self.activation = activation\n",
    "            self.activationFunction = self.tanh\n",
    "            self.activationBackward = self.tanhGrad\n",
    "        elif activation != '':\n",
    "            raise ActivationDoesNotExist\n",
    "        else:\n",
    "            self.activation = 'none'\n",
    "            self.activationFunction = self.linear\n",
    "            self.activationBackward = self.linear\n",
    "    \n",
    "    def initialize(self, nx, nh, randomMultiplier):\n",
    "        weights = randomMultiplier * np.random.randn(nh, nx)\n",
    "        bias = np.zeros([nh, 1])\n",
    "        return weights, bias\n",
    "\n",
    "```"
   ]
  },
  {
   "cell_type": "markdown",
   "metadata": {
    "id": "oHqOChxmYnaY"
   },
   "source": [
    "Next we define all used activation functions. The sigmoid we already know from the previous Tutorial, however we also include tanh and relu, which are also very common activation functions.\n",
    "\n",
    "Tanh or hyperbolic tangent in full is a function which is similar to the sigmoid, however it maps all real values between -1 and +1. It was very popular, before the Relu function made its way to the stage. \n",
    "\n",
    "Relu, which stands for Rectified linear unit, is probably the most popular activation function. It is fast to calculate and has often better results than the Tanh function. Therefore, if you are not sure, the Relu function is a great start. The Relu function maps all values smaller than 0 to zero and all values larger than 0 as the value itself. \n",
    "\n",
    "The last activation function we will introduce is called the linear function. This is the same as not having an activation function, and is just a placeholder. What comes in, comes out and we use it to test our previous excersise on Linear regression.\n",
    "\n",
    "The backward pass needs the differentials of all these functions, which are provided with the Grad suffix. Feel free to check if these differentials are correct. One additional step for each Grad calculation is that we multiply the input gradient (dA0 with the calculated gradient. This is required because we use the [chain rule](https://en.wikipedia.org/wiki/Differentiation_rules#The_chain_rule) (continously through back propagation).\n"
   ]
  },
  {
   "cell_type": "markdown",
   "metadata": {
    "id": "pSxl13x4YnaY"
   },
   "source": [
    "```python\n",
    "    def sigmoid(self, Z):\n",
    "            A = 1 / (1 + np.exp(-Z))\n",
    "            return A\n",
    "        \n",
    "    def sigmoidGrad(self, dA):\n",
    "            s = 1 / (1 + np.exp(-self.prevZ))\n",
    "            dZ = dA * s * (1 - s)\n",
    "            return dZ\n",
    "    \n",
    "    \n",
    "    def relu(self, Z):\n",
    "            A = np.maximum(0, Z)\n",
    "            return A\n",
    "        \n",
    "    def reluGrad(self, dA):\n",
    "            s = np.maximum(0, self.prevZ)\n",
    "            dZ = (s>0) * 1 * dA\n",
    "            return dZ \n",
    "\n",
    "        \n",
    "    def tanh(self, Z):\n",
    "            A = np.tanh(Z)\n",
    "            return A\n",
    "\n",
    "    def tanhGrad(self, dA):\n",
    "            s = np.tanh(self.prevZ)\n",
    "            dZ = (1 - s**2) * dA\n",
    "            return dZ\n",
    "\n",
    "\n",
    "    def linear(self, Z):\n",
    "        return Z\n",
    "```"
   ]
  },
  {
   "cell_type": "markdown",
   "metadata": {
    "id": "AWvqxVobYnaY"
   },
   "source": [
    "Next, we define the forward propagation step, which should look very familiar:\n",
    "```python\n",
    "    def forward(self, A):\n",
    "        Z = np.dot(self.weights, A) + self.bias\n",
    "        self.prevZ = Z\n",
    "        self.prevA = A\n",
    "        A = self.activationForward(Z)\n",
    "        return A\n",
    "```\n",
    "\n",
    "Here, we first calculate the linear part. Store the values for Z and A for later use in the back propagation and next apply the activation function.\n"
   ]
  },
  {
   "cell_type": "markdown",
   "metadata": {
    "id": "yxnfkWXWYnaY"
   },
   "source": [
    "Before starting our backpropstep we need to define our loss function. For logistic regression it's done with the binary cross entropy, for which I will simply give the equation. \n",
    "\\begin{equation}\n",
    "loss = -\\frac{1}{m}\\sum_{i=1}^{m}y\\log(A)+(1-y)\\log(1-A)\n",
    "\\end{equation}\n",
    "\n",
    "Now for the backwards pass, We would need to differentiate the Loss function with $W$ and $b$. Not to  bore you guys, \n",
    "I have provided these functions:\n",
    "\n",
    "\\begin{equation}\n",
    " \\frac{\\partial loss}{\\partial W} = \\frac{1}{m} \\sum_{i=1}^m  X(A - Y)^T \\\\\n",
    " \\frac{\\partial loss}{\\partial b} = \\frac{1}{m} \\sum_{i=1}^m (A - y)\n",
    "\\end{equation}\n",
    "\n",
    "In Python, this looks like this:\n",
    "\n",
    "The backward propagation looks again similar to the previous tutorial, however we have split the backward activation part to the activation functions itself. Also this function expects to get dA, which is a more generalized form for multiple layers. In our previous single layer example we combined the differential of the loss function in this step. Now this step is in our NN class and not in each layer, as it is only required at the last layer.\n",
    "\n",
    "```python\n",
    "  def backward(self, dA):\n",
    "        dZ = self.activationBackward(dA)\n",
    "        m = self.prevA.shape[1]\n",
    "        self.dW = 1 / m * np.dot(dZ, self.prevA.T)\n",
    "        self.db = 1 / m * np.sum(dZ, axis=1, keepdims=True)\n",
    "        prevdA = np.dot(self.weights.T, dZ)\n",
    "        return prevdA \n",
    "```\n",
    "\n",
    "The gradients are stored in the layer and can be used later by the update function, which performs the gradient descent step. This backward passes chain together for each layer as we will see later.\n"
   ]
  },
  {
   "cell_type": "markdown",
   "metadata": {
    "id": "0WCvZ8OwYnaZ"
   },
   "source": [
    "The final required function is the update function, which performs the gradient descent step. Nothing spectacular but it expects a learning rate.\n",
    "\n",
    "```python\n",
    "    def update(self, learning_rate):\n",
    "        self.weights = self.weights - learning_rate * self.dW\n",
    "        self.bias = self.bias - learning_rate * self.db\n",
    "```\n"
   ]
  },
  {
   "cell_type": "markdown",
   "metadata": {
    "id": "-tYYtmXeYnaZ"
   },
   "source": [
    "While not required, these next function help in printing the model\n",
    "\n",
    "```python    \n",
    "    def __repr__(self):\n",
    "        act = 'none' if self.activation == '' else self.activation\n",
    "        return f'Dense layer (nx={self.weights.shape[1]}, nh={self.weights.shape[0]}, activation={act})'\n",
    "```\n"
   ]
  },
  {
   "cell_type": "markdown",
   "metadata": {
    "id": "X8s37ly0YnaZ"
   },
   "source": [
    "### The complete DenseLayer class"
   ]
  },
  {
   "cell_type": "code",
   "execution_count": 4,
   "metadata": {
    "id": "rYdB_I4XYnaZ"
   },
   "outputs": [],
   "source": [
    "class DenseLayer:\n",
    "    \"\"\"\n",
    "    A class to define fully connected layers.\n",
    "    \"\"\"\n",
    "    \n",
    "    def __init__(self, inputDimension, units, activation='', randomMultiplier=0.01):\n",
    "        \"\"\"\n",
    "        Constructor:\n",
    "          inputDimension: number of input features\n",
    "          units: number of neurons in the layer\n",
    "          activation: activation function applied to layer\n",
    "            - options: 'sigmoid', 'tanh', 'relu', ''\n",
    "          randomMultiplier: multiplier applied to the random weights during initialization\n",
    "        \"\"\"\n",
    "        self.weights, self.bias = self.initialize(inputDimension, units, randomMultiplier)\n",
    "        if activation == 'sigmoid':\n",
    "            self.activation = activation\n",
    "            self.activationForward = self.sigmoid\n",
    "            self.activationBackward = self.sigmoidGrad\n",
    "        elif activation == 'relu':\n",
    "            self.activation = activation\n",
    "            self.activationForward = self.relu\n",
    "            self.activationBackward = self.reluGrad\n",
    "        elif activation == 'tanh':\n",
    "            self.activation = activation\n",
    "            self.activationForward = self.tanh\n",
    "            self.activationBackward = self.tanhGrad\n",
    "        elif activation != '':\n",
    "            raise ActivationDoesNotExist\n",
    "        else:\n",
    "            self.activation = 'none'\n",
    "            self.activationForward = self.linear\n",
    "            self.activationBackward = self.linear\n",
    "    \n",
    "    def initialize(self, nx, nh, randomMultiplier):\n",
    "        \"\"\"\n",
    "        Initializes weights randomly:\n",
    "          nx: number of input features\n",
    "          nh: number of units\n",
    "          randomMultiplier: multiplier applied to the random weights during initialization\n",
    "        returns:\n",
    "          weights: the randomly initialized weights\n",
    "          bias: the bias terms\n",
    "        \"\"\"\n",
    "        weights = randomMultiplier * np.random.randn(nh, nx)\n",
    "        bias = np.zeros([nh, 1])\n",
    "        return weights, bias\n",
    "\n",
    "    \n",
    "    def sigmoid(self, Z):\n",
    "        \"\"\"\n",
    "        Sigmoid activation function\n",
    "        \"\"\"\n",
    "        A = 1 / (1 + np.exp(-Z))\n",
    "        return A\n",
    "        \n",
    "    def sigmoidGrad(self, dA):\n",
    "        \"\"\"\n",
    "        Differential of sigmoid function with chain rule applied\n",
    "        \"\"\"\n",
    "        s = 1 / (1 + np.exp(-self.prevZ))\n",
    "        dZ = dA * s * (1 - s)\n",
    "        return dZ\n",
    "    \n",
    "    \n",
    "    def relu(self, Z):\n",
    "        \"\"\"\n",
    "        Relu activation function\n",
    "        \"\"\"\n",
    "        A = np.maximum(0, Z)\n",
    "        return A\n",
    "        \n",
    "    def reluGrad(self, dA):\n",
    "        \"\"\"\n",
    "        Differential of relu function with chain rule applied\n",
    "        \"\"\"\n",
    "        s = np.maximum(0, self.prevZ)\n",
    "        dZ = (s>0) * 1 * dA\n",
    "        return dZ \n",
    "\n",
    "        \n",
    "    def tanh(self, Z):\n",
    "        \"\"\"\n",
    "        Tanh activation function\n",
    "        \"\"\"\n",
    "        A = np.tanh(Z)\n",
    "        return A\n",
    "\n",
    "    def tanhGrad(self, dA):\n",
    "        \"\"\"\n",
    "        Differential of tanh function with chain rule applied\n",
    "        \"\"\"\n",
    "        s = np.tanh(self.prevZ)\n",
    "        dZ = (1 - s**2) * dA\n",
    "        return dZ\n",
    "\n",
    "\n",
    "    def linear(self, Z):\n",
    "        \"\"\"\n",
    "        Placeholder when no activation function is used\n",
    "        \"\"\"\n",
    "        return Z\n",
    "        \n",
    "    \n",
    "    def forward(self, A):\n",
    "        \"\"\"\n",
    "        Forward pass through layer\n",
    "          A: input vector\n",
    "        \"\"\"\n",
    "        Z = np.dot(self.weights, A) + self.bias\n",
    "        self.prevZ = Z\n",
    "        self.prevA = A\n",
    "        A = self.activationForward(Z)\n",
    "        return A\n",
    "    \n",
    "    \n",
    "    def backward(self, dA):\n",
    "        \"\"\"\n",
    "        Backward pass through layer\n",
    "          dA: previous gradient\n",
    "        \"\"\"\n",
    "        dZ = self.activationBackward(dA)\n",
    "        m = self.prevA.shape[1]\n",
    "        self.dW = 1 / m * np.dot(dZ, self.prevA.T)\n",
    "        self.db = 1 / m * np.sum(dZ, axis=1, keepdims=True)\n",
    "        prevdA = np.dot(self.weights.T, dZ)\n",
    "        return prevdA\n",
    "    \n",
    "    \n",
    "    def update(self, learning_rate):\n",
    "        \"\"\"\n",
    "        Update weights using gradients from backward pass\n",
    "          learning_rate: the learning rate used in the gradient descent\n",
    "        \"\"\"\n",
    "        self.weights = self.weights - learning_rate * self.dW\n",
    "        self.bias = self.bias - learning_rate * self.db\n",
    "\n",
    "        \n",
    "    def outputDimension(self):\n",
    "        \"\"\"\n",
    "        Returns the output dimension for the next layer\n",
    "        \"\"\"\n",
    "        return len(self.bias)\n",
    "\n",
    "    \n",
    "    def __repr__(self):\n",
    "        \"\"\"\n",
    "        Used to print a pretty summary of the layer\n",
    "        \"\"\"\n",
    "        act = 'none' if self.activation == '' else self.activation\n",
    "        return f'Dense layer (nx={self.weights.shape[1]}, nh={self.weights.shape[0]}, activation={act})'\n",
    "\n"
   ]
  },
  {
   "cell_type": "code",
   "execution_count": null,
   "metadata": {
    "id": "hUniQiGeYnaZ"
   },
   "outputs": [],
   "source": []
  },
  {
   "cell_type": "markdown",
   "metadata": {
    "id": "qjDFwaYqYnaZ"
   },
   "source": [
    "### Alright, one down and one to go.\n",
    "Next we will create a class that will combine the layers. It will also hold the loss function and has to calculate the gradient of the loss. For convenience, we will also add a wrapper to add layers and add a way to pretty print our model."
   ]
  },
  {
   "cell_type": "markdown",
   "metadata": {
    "id": "tpp-8fHAYnaZ"
   },
   "source": [
    "First we start again with the constructor, which has two options, the loss function to be used, and the randomMultiplier used for new layers. The loss function are again created in a function reference and are called using wrapper functions.\n",
    "\n",
    "The model starts with no layers (empty).\n",
    "\n",
    "```python\n",
    "class NeuralNetwork:\n",
    "    def __init__(self, loss='cross-entropy', randomMultiplier = 0.01):\n",
    "        self.layers=[]\n",
    "        self.randomMultiplier = randomMultiplier\n",
    "        if loss=='cross-entropy':\n",
    "            self.lossFunction = self.crossEntropyLoss\n",
    "            self.lossBackward = self.crossEntropyLossGrad\n",
    "        elif loss=='mean-square-error':\n",
    "            self.lossFunction = self.meanSquareError\n",
    "            self.lossBackward = self.meanSquareErrorGrad\n",
    "        else:\n",
    "            raise LossFunctionNotDefined\n",
    "        self.loss=loss\n",
    "```\n"
   ]
  },
  {
   "cell_type": "markdown",
   "metadata": {
    "id": "vbcHcWDWYnaa"
   },
   "source": [
    "The next function is a helper function to add layers to the model. You need to give the inputDimension, i.e. the number of input features of the first layer. For the second and further, it will look for the previous layer and use that as the input dimension.\n",
    "\n",
    "You have to specify the number of neurons in the layer (units) and which activation function to use.\n",
    "\n",
    "```python\n",
    "    def addLayer(self, inputDimension=None, units=1, activation=''):\n",
    "        if (inputDimension is None):\n",
    "            if (len(self.layers)==0):\n",
    "                raise InputDimensionNotCorrect\n",
    "            inputDimension=self.layers[-1].outputDimension()\n",
    "        layer = DenseLayer(inputDimension, units, activation, randomMultiplier= self.randomMultiplier)\n",
    "        self.layers.append(layer)\n",
    "```"
   ]
  },
  {
   "cell_type": "markdown",
   "metadata": {
    "id": "6RrD_LoxYnaa"
   },
   "source": [
    "Next we define the loss functions and their differentials. Feel free to check if the differentials are correct. the cost method is a wrapper to cal the cost in the training loop later.\n",
    "\n",
    "```python\n",
    "    def crossEntropyLoss(self, Y, A, epsilon=1e-15):\n",
    "        m = Y.shape[1]\n",
    "        loss = -1 * (Y * np.log(A + epsilon) + (1 - Y) * np.log(1 - A + epsilon))\n",
    "        cost = 1 / m * np.sum(loss)\n",
    "        return np.squeeze(cost)\n",
    "            \n",
    "    def crossEntropyLossGrad(self, Y, A):\n",
    "        dA = -(np.divide(Y, A) - np.divide(1 - Y, 1 - A))\n",
    "        return dA\n",
    "    \n",
    "    \n",
    "    def meanSquareError(self, Y, A):\n",
    "        loss = np.square(Y - A)\n",
    "        m = Y.shape[1]\n",
    "        cost = 1 / m * np.sum(loss)\n",
    "        return np.squeeze(cost)\n",
    "    \n",
    "    def meanSquareErrorGrad(self, Y, A):\n",
    "        dA = -2 * (Y - A)\n",
    "        return dA\n",
    "\n",
    "    \n",
    "    def cost(self, Y, A):\n",
    "        return self.lossFunction(Y, A)\n",
    "```"
   ]
  },
  {
   "cell_type": "markdown",
   "metadata": {
    "id": "rD0CgvgbYnaa"
   },
   "source": [
    "The forward, backward, and update method are quite similar as they loop over the layers:\n",
    "\n",
    "```python\n",
    "    def forward(self, X):\n",
    "        x = np.copy(X)\n",
    "        for layer in self.layers:\n",
    "            x = layer.forward(x)\n",
    "        return x\n",
    "            \n",
    "    \n",
    "    def backward(self, A, Y):\n",
    "        dA = self.lossBackward(Y, A)\n",
    "        for layer in reversed(self.layers):\n",
    "            dA = layer.backward(dA)\n",
    "    \n",
    "    \n",
    "    def update(self, learning_rate=0.01):\n",
    "        for layer in self.layers:\n",
    "            layer.update(learning_rate)\n",
    "```\n",
    "\n",
    "the backward pass first hast to calculate the first dA, which is de gradient between the activation and the real values. This is then looped through the layers to calculate all gradients.\n"
   ]
  },
  {
   "cell_type": "markdown",
   "metadata": {
    "id": "LkZF67zdYnaa"
   },
   "source": [
    "The last two methods are again for pretty printing and one for trainable parameter counting. Nothing special."
   ]
  },
  {
   "cell_type": "markdown",
   "metadata": {
    "id": "OSfKvJ8rYnaa"
   },
   "source": [
    "### The complete NeuralNetwork class"
   ]
  },
  {
   "cell_type": "code",
   "execution_count": 5,
   "metadata": {
    "id": "YjQSvkftYnaa"
   },
   "outputs": [],
   "source": [
    "class NeuralNetwork:\n",
    "    \"\"\"\n",
    "    Neural Network structure that holds our layers\n",
    "    \"\"\"\n",
    "    \n",
    "    def __init__(self, loss='cross-entropy', randomMultiplier = 0.01):\n",
    "        \"\"\"\n",
    "        Constructor:\n",
    "          loss: the loss function. Two are defined:\n",
    "             - 'cross-entropy' and 'mean-square-error'\n",
    "          randomMultiplier: multiplier applied to the random weights during initialization\n",
    "        \"\"\"\n",
    "        self.layers=[]\n",
    "        self.randomMultiplier = randomMultiplier\n",
    "        if loss=='cross-entropy':\n",
    "            self.lossFunction = self.crossEntropyLoss\n",
    "            self.lossBackward = self.crossEntropyLossGrad\n",
    "        elif loss=='mean-square-error':\n",
    "            self.lossFunction = self.meanSquareError\n",
    "            self.lossBackward = self.meanSquareErrorGrad\n",
    "        else:\n",
    "            raise LossFunctionNotDefined\n",
    "        self.loss=loss\n",
    "\n",
    "\n",
    "    def addLayer(self, inputDimension=None, units=1, activation=''):\n",
    "        \"\"\"\n",
    "        Adds a Dense layer to the network:\n",
    "          inputDimension: required when it is the first layer. otherwise takes dimensions of previous layer.\n",
    "          units: number of neurons in the layer\n",
    "          activation: activation function: valid choices are: 'sigmoid', 'tanh', 'relu', ''\n",
    "        \"\"\"\n",
    "        if (inputDimension is None):\n",
    "            if (len(self.layers)==0):\n",
    "                raise InputDimensionNotCorrect\n",
    "            inputDimension=self.layers[-1].outputDimension()\n",
    "        layer = DenseLayer(inputDimension, units, activation, randomMultiplier= self.randomMultiplier)\n",
    "        self.layers.append(layer)\n",
    "\n",
    "    def crossEntropyLoss(self, Y, A, epsilon=1e-15):\n",
    "        \"\"\"\n",
    "        Cross Entropy loss function\n",
    "          Y: true labels\n",
    "          A: final activation function (predicted labels)\n",
    "          epsilon: small value to make minimize chance for log(0) error\n",
    "        \"\"\"\n",
    "        m = Y.shape[1]\n",
    "        loss = -1 * (Y * np.log(A + epsilon) + (1 - Y) * np.log(1 - A + epsilon))\n",
    "        cost = 1 / m * np.sum(loss)\n",
    "        return np.squeeze(cost)\n",
    "            \n",
    "    def crossEntropyLossGrad(self, Y, A):\n",
    "        \"\"\"\n",
    "        Cross Entropy loss Gradient\n",
    "          Y: true labels\n",
    "          A: final activation function (predicted labels)\n",
    "        \"\"\"\n",
    "        dA = -(np.divide(Y, A) - np.divide(1 - Y, 1 - A))\n",
    "        return dA\n",
    "    \n",
    "    \n",
    "    def meanSquareError(self, Y, A):\n",
    "        \"\"\"\n",
    "        Mean square error loss function\n",
    "          Y: true labels\n",
    "          A: final activation function (predicted labels)\n",
    "        \"\"\"\n",
    "        loss = np.square(Y - A)\n",
    "        m = Y.shape[1]\n",
    "        cost = 1 / m * np.sum(loss)\n",
    "        return np.squeeze(cost)\n",
    "    \n",
    "    def meanSquareErrorGrad(self, Y, A):\n",
    "        \"\"\"\n",
    "        Mean square error loss gradient\n",
    "          Y: true labels\n",
    "          A: final activation function (predicted labels)\n",
    "        \"\"\"\n",
    "        dA = -2 * (Y - A)\n",
    "        return dA\n",
    "\n",
    "    \n",
    "    def cost(self, Y, A):\n",
    "        \"\"\"\n",
    "        Cost function wrapper\n",
    "          Y: true labels\n",
    "          A: final activation function (predicted labels)\n",
    "        \"\"\"\n",
    "        return self.lossFunction(Y, A)\n",
    "\n",
    "        \n",
    "    def forward(self, X):\n",
    "        \"\"\"\n",
    "        Forward pass through the whole model.\n",
    "          X: input vector\n",
    "        \"\"\"\n",
    "        x = np.copy(X)\n",
    "        for layer in self.layers:\n",
    "            x = layer.forward(x)\n",
    "        return x\n",
    "            \n",
    "    \n",
    "    def backward(self, A, Y):\n",
    "        \"\"\"\n",
    "        backward pass through the whole model\n",
    "          Y: true labels\n",
    "          A: final activation function (predicted labels)\n",
    "        \"\"\"\n",
    "        dA = self.lossBackward(Y, A)\n",
    "        for layer in reversed(self.layers):\n",
    "            dA = layer.backward(dA)\n",
    "    \n",
    "    \n",
    "    def update(self, learning_rate=0.01):\n",
    "        \"\"\"\n",
    "        Update weights and do a step of gradient descent for the whole model.\n",
    "          learning_rate: learning_rate to use\n",
    "        \"\"\"\n",
    "        for layer in self.layers:\n",
    "            layer.update(learning_rate)\n",
    "    \n",
    "    \n",
    "    def __repr__(self):\n",
    "        \"\"\"\n",
    "        Pretty print the model\n",
    "        \"\"\"\n",
    "        layrepr = ['  ' + str(ix+1)+' -> ' + str(x) for ix, x in enumerate(self.layers)]\n",
    "        return '[\\n' + '\\n'.join(layrepr) + '\\n]'\n",
    "   \n",
    "    \n",
    "    def numberOfParameters(self):\n",
    "        \"\"\"\n",
    "        Print number of trainable parameters in the model\n",
    "        \"\"\"\n",
    "        n = 0\n",
    "        for layer in self.layers:\n",
    "            n += np.size(layer.weights) + len(layer.bias)\n",
    "        print(f'There are {n} trainable parameters in the model.')\n",
    "            "
   ]
  },
  {
   "cell_type": "code",
   "execution_count": null,
   "metadata": {
    "id": "ggh2LaiwYnab"
   },
   "outputs": [],
   "source": []
  },
  {
   "cell_type": "markdown",
   "metadata": {
    "id": "jPsr5O_CYnab"
   },
   "source": [
    "Alright, the classes are done. Now we need to put these classes to a test. While it looks quite ordered, a small error in one of the differentials can make our whole system useless. Therefore, we will test in small steps in the next section. Looking forward for the spin!"
   ]
  },
  {
   "cell_type": "markdown",
   "metadata": {
    "id": "guiYfD2PYnab"
   },
   "source": [
    "### Linear regression"
   ]
  },
  {
   "cell_type": "markdown",
   "metadata": {
    "id": "E-4wqNarYnac"
   },
   "source": [
    "We created an array with a couple of input values $X$. Next we supplied $Y$ using the super duper complicated formula $y = 2x + 1$. In Numpy this looks like this:"
   ]
  },
  {
   "cell_type": "code",
   "execution_count": 6,
   "metadata": {
    "id": "m8QguaNmQK8o"
   },
   "outputs": [],
   "source": [
    "import numpy as np"
   ]
  },
  {
   "cell_type": "code",
   "execution_count": 7,
   "metadata": {
    "id": "WwPq6Dk8Ynac"
   },
   "outputs": [],
   "source": [
    "X = np.arange(-2, 5, 1).reshape([1, 7]) # Columns as examples\n",
    "Y = 2 * X + 1"
   ]
  },
  {
   "cell_type": "markdown",
   "metadata": {
    "id": "SQJQ60yrYnac"
   },
   "source": [
    "Now we will build our model which will try to find our difficult formula and match the true value of 25. For this we will initiate our fresh class and set the loss to mean-square-error. Next we will add a single layer, with a single neuron and no activation function. Lets also try our pretty print :-)"
   ]
  },
  {
   "cell_type": "code",
   "execution_count": 8,
   "metadata": {
    "colab": {
     "base_uri": "https://localhost:8080/"
    },
    "id": "9oBvjh0iYnac",
    "outputId": "aeab2552-d7c3-427b-83ff-2276ac3f009e"
   },
   "outputs": [
    {
     "data": {
      "text/plain": [
       "[\n",
       "  1 -> Dense layer (nx=1, nh=1, activation=none)\n",
       "]"
      ]
     },
     "execution_count": 8,
     "metadata": {},
     "output_type": "execute_result"
    }
   ],
   "source": [
    "np.random.seed(1)\n",
    "\n",
    "model = NeuralNetwork(loss='mean-square-error')\n",
    "model.addLayer(inputDimension=1, units=1, activation='')\n",
    "model"
   ]
  },
  {
   "cell_type": "markdown",
   "metadata": {
    "id": "mxLEd262Ynac"
   },
   "source": [
    "Now we will need our training loop again. It will look very familiar to our logistic regression model from last time:"
   ]
  },
  {
   "cell_type": "code",
   "execution_count": 9,
   "metadata": {
    "colab": {
     "base_uri": "https://localhost:8080/"
    },
    "id": "i3QrXRjoYnac",
    "outputId": "f3f81326-02a9-44cb-ca7c-dfb85bce6c60"
   },
   "outputs": [
    {
     "name": "stdout",
     "output_type": "stream",
     "text": [
      "cost: 24.643963268924306\n",
      "cost: 0.009408179907957642\n",
      "cost: 0.00043269013393172113\n",
      "cost: 1.989979716251954e-05\n",
      "cost: 9.152090515935006e-07\n",
      "cost: 4.2091263608210285e-08\n",
      "cost: 1.935813975001762e-09\n",
      "cost: 8.902977540761639e-11\n",
      "cost: 4.094557128292547e-12\n",
      "cost: 1.8831225851087109e-13\n"
     ]
    }
   ],
   "source": [
    "num_iterations = 1000\n",
    "for ix in range(num_iterations):\n",
    "    A = model.forward(X)\n",
    "    model.backward(A, Y)\n",
    "    model.update()\n",
    "    if ix % 100 == 0:\n",
    "        print('cost:', model.cost(Y, A)) "
   ]
  },
  {
   "cell_type": "markdown",
   "metadata": {
    "id": "KdAIEiusYnac"
   },
   "source": [
    "The cost decreases as expected and due to the long training the value is close to machine precision. Would we again find 25 when we use the forward?"
   ]
  },
  {
   "cell_type": "code",
   "execution_count": 10,
   "metadata": {
    "colab": {
     "base_uri": "https://localhost:8080/"
    },
    "id": "UVBDmEHKYnac",
    "outputId": "917987ad-0175-44f7-8e70-cc2de49471f0"
   },
   "outputs": [
    {
     "data": {
      "text/plain": [
       "array([[25.00000019]])"
      ]
     },
     "execution_count": 10,
     "metadata": {},
     "output_type": "execute_result"
    }
   ],
   "source": [
    "model.forward(12)"
   ]
  },
  {
   "cell_type": "markdown",
   "metadata": {
    "id": "bIyoz_XPYnac"
   },
   "source": [
    "Of course we do!"
   ]
  },
  {
   "cell_type": "code",
   "execution_count": null,
   "metadata": {
    "id": "usfq0Yk_Ynad"
   },
   "outputs": [],
   "source": []
  },
  {
   "cell_type": "markdown",
   "metadata": {
    "id": "E5tZrqrYYnad"
   },
   "source": [
    "### A go at our Titanic dataset"
   ]
  },
  {
   "cell_type": "code",
   "execution_count": 11,
   "metadata": {
    "id": "WduTB6rNYnad"
   },
   "outputs": [],
   "source": [
    "import pandas as pd"
   ]
  },
  {
   "cell_type": "code",
   "execution_count": 12,
   "metadata": {
    "id": "dYQ-sdC3Ynad"
   },
   "outputs": [],
   "source": [
    "df = pd.read_csv('./data/titanic/train_data.csv')\n",
    "df = df.drop(['Unnamed: 0', 'PassengerId'], axis=1)\n",
    "Y = df['Survived'].to_numpy().reshape([1, -1])\n",
    "X = df.iloc[:,1:].to_numpy().T"
   ]
  },
  {
   "cell_type": "code",
   "execution_count": 13,
   "metadata": {
    "colab": {
     "base_uri": "https://localhost:8080/"
    },
    "id": "ankU5ItgYnad",
    "outputId": "03df8a60-9b80-44a0-fa46-2c60784b6d8a"
   },
   "outputs": [
    {
     "data": {
      "text/plain": [
       "(14, 792)"
      ]
     },
     "execution_count": 13,
     "metadata": {},
     "output_type": "execute_result"
    }
   ],
   "source": [
    "X.shape"
   ]
  },
  {
   "cell_type": "code",
   "execution_count": 14,
   "metadata": {
    "colab": {
     "base_uri": "https://localhost:8080/"
    },
    "id": "KtAjMP9ZYnad",
    "outputId": "1cad1887-b982-47ee-8b1b-e48c425fcf39"
   },
   "outputs": [
    {
     "data": {
      "text/plain": [
       "(1, 792)"
      ]
     },
     "execution_count": 14,
     "metadata": {},
     "output_type": "execute_result"
    }
   ],
   "source": [
    "Y.shape"
   ]
  },
  {
   "cell_type": "markdown",
   "metadata": {
    "id": "GTx3KGp8Ynad"
   },
   "source": [
    "We need to change the model to have 14 input features and of course the sigmoid activation function. The loss function will be cross-entropy, which is the default, so we do not need to specify it."
   ]
  },
  {
   "cell_type": "code",
   "execution_count": 15,
   "metadata": {
    "colab": {
     "base_uri": "https://localhost:8080/"
    },
    "id": "N9nNSPKuYnad",
    "outputId": "0697bc90-dab7-45a3-8bed-03b0d27238a4"
   },
   "outputs": [
    {
     "data": {
      "text/plain": [
       "[\n",
       "  1 -> Dense layer (nx=14, nh=1, activation=sigmoid)\n",
       "]"
      ]
     },
     "execution_count": 15,
     "metadata": {},
     "output_type": "execute_result"
    }
   ],
   "source": [
    "np.random.seed(1)\n",
    "\n",
    "model = NeuralNetwork()\n",
    "model.addLayer(inputDimension=14, units=1, activation='sigmoid')\n",
    "model"
   ]
  },
  {
   "cell_type": "markdown",
   "metadata": {
    "id": "goC62oqsYnae"
   },
   "source": [
    "Last time, we had an train accuracy of 80%. Can we match this as well?"
   ]
  },
  {
   "cell_type": "code",
   "execution_count": 16,
   "metadata": {
    "id": "GQnG-K6bYnae"
   },
   "outputs": [],
   "source": [
    "def roundValue(A):\n",
    "    return np.uint8( A > 0.5)\n",
    "\n",
    "def accuracy(yhat, Y):\n",
    "    return round(np.sum(yhat==Y) / len(yhat.flatten()) * 1000) / 10"
   ]
  },
  {
   "cell_type": "code",
   "execution_count": 17,
   "metadata": {
    "colab": {
     "base_uri": "https://localhost:8080/"
    },
    "id": "m9BHPKlIYnae",
    "outputId": "0e99ab9c-6231-4bef-9417-83e377927b85"
   },
   "outputs": [
    {
     "name": "stdout",
     "output_type": "stream",
     "text": [
      "cost: 0.6912384614194468 \taccuracy: 58.7%\n",
      "cost: 0.5140056920509907 \taccuracy: 75.9%\n",
      "cost: 0.4824062497934128 \taccuracy: 79.5%\n",
      "cost: 0.4697113881273363 \taccuracy: 79.5%\n",
      "cost: 0.46275860969195476 \taccuracy: 79.8%\n",
      "cost: 0.4580742945870081 \taccuracy: 79.8%\n",
      "cost: 0.4544915367177524 \taccuracy: 79.8%\n",
      "cost: 0.4515471545581365 \taccuracy: 80.8%\n"
     ]
    }
   ],
   "source": [
    "num_iterations = 8000\n",
    "for ix in range(num_iterations):\n",
    "    A = model.forward(X)\n",
    "    model.backward(A, Y)\n",
    "    model.update()\n",
    "    if ix % 1000 == 0:\n",
    "        yhat = roundValue(A)\n",
    "        print('cost:', model.cost(Y, A), f'\\taccuracy: {accuracy(yhat, Y)}%')     "
   ]
  },
  {
   "cell_type": "markdown",
   "metadata": {
    "id": "dhwpjVLgYnae"
   },
   "source": [
    "Of course we can!"
   ]
  },
  {
   "cell_type": "code",
   "execution_count": 18,
   "metadata": {
    "colab": {
     "base_uri": "https://localhost:8080/",
     "height": 52
    },
    "id": "qwAdEE9sSwUH",
    "outputId": "3aa24fc7-6527-4259-d2c1-3f87c64bb7e1"
   },
   "outputs": [],
   "source": [
    "# Prerequisite library imports\n",
    "import pandas as pd\n",
    "from sklearn.model_selection import train_test_split\n",
    "\n",
    "df = pd.read_csv('./data/titanic/train_data.csv')\n",
    "X = df.drop(['Unnamed: 0', 'PassengerId'], axis=1)\n",
    "y = df['Survived']\n",
    "X = X.drop(columns = 'Survived')"
   ]
  },
  {
   "cell_type": "code",
   "execution_count": 19,
   "metadata": {},
   "outputs": [],
   "source": [
    "import seaborn as sns\n",
    "#sns.pairplot(X)"
   ]
  },
  {
   "cell_type": "code",
   "execution_count": 20,
   "metadata": {
    "id": "c4f1E7_QnuJE"
   },
   "outputs": [],
   "source": [
    "# Please use your scalarization of X here: then run the cell below to split your training and test data\n",
    "import pandas as pd \n",
    "\n",
    "df = pd.read_csv(\"./data/titanic/train_data.csv\")\n",
    "\n",
    "normalized_df=(df-df.min())/(df.max()-df.min())\n",
    "\n",
    "X = normalized_df.drop(['Unnamed: 0', 'PassengerId'], axis = 1)\n",
    "y = normalized_df['Survived']\n",
    "X = normalized_df.drop(columns = 'Survived')"
   ]
  },
  {
   "cell_type": "code",
   "execution_count": 21,
   "metadata": {},
   "outputs": [
    {
     "data": {
      "text/plain": [
       "(633, 16)"
      ]
     },
     "metadata": {},
     "output_type": "display_data"
    },
    {
     "data": {
      "text/plain": [
       "(633,)"
      ]
     },
     "metadata": {},
     "output_type": "display_data"
    }
   ],
   "source": [
    "from sklearn.model_selection import train_test_split \n",
    "X_train, X_test, y_train, y_test = train_test_split(X, y, test_size=0.2, random_state=21)\n",
    "display(X_train.shape)\n",
    "display(y_train.shape)"
   ]
  },
  {
   "cell_type": "markdown",
   "metadata": {},
   "source": [
    "I predicted that there would be a possible negative value here. Thus I used min max normalisation. "
   ]
  },
  {
   "cell_type": "markdown",
   "metadata": {
    "id": "6ru-Sg5jYnae"
   },
   "source": [
    "```python\n",
    "MYACTIVATIONFXN = 'SOMEFXN'\n",
    "model.add(Dense(units = 14, activation = MYACTIVATIONFXN, input_dim = ?))\n",
    "```\n"
   ]
  },
  {
   "cell_type": "code",
   "execution_count": 53,
   "metadata": {
    "id": "U6D4qvTGYnaf"
   },
   "outputs": [],
   "source": [
    "from keras.models import Sequential\n",
    "from keras.layers import Activation, Dense\n",
    "from sklearn.model_selection import train_test_split \n",
    "import pandas as pd \n",
    "\n",
    "df = pd.read_csv(\"data/titanic/train_data.csv\")\n",
    "\n",
    "normalized_df=(df-df.min())/(df.max()-df.min())\n",
    "\n",
    "X = normalized_df.drop(['Unnamed: 0', 'PassengerId'], axis = 1)\n",
    "y = normalized_df['Survived']\n",
    "X = normalized_df.drop(columns = 'Survived')\n",
    "\n",
    "X_train, X_test, y_train, y_test = train_test_split(X, y, test_size=0.2, random_state=21)\n",
    "\n",
    "model = Sequential()\n",
    "\n",
    "MYACTIVATIONFXN = 'relu'\n",
    "model.add(Dense(units = 16, activation = MYACTIVATIONFXN, input_dim = X_train.shape[1]))\n",
    "model.add(Dense(units = 1, activation = MYACTIVATIONFXN, input_dim = X_train.shape[1]))"
   ]
  },
  {
   "cell_type": "code",
   "execution_count": 23,
   "metadata": {
    "id": "FPF064_rUIGk"
   },
   "outputs": [],
   "source": [
    "model.compile(optimizer = 'rmsprop', loss = 'binary_crossentropy')"
   ]
  },
  {
   "cell_type": "markdown",
   "metadata": {
    "id": "8xXvT24DUlRF"
   },
   "source": [
    "### Here we will run our ANN using the fit function using a batch size of 1 and 10 epochs"
   ]
  },
  {
   "cell_type": "code",
   "execution_count": 24,
   "metadata": {
    "colab": {
     "base_uri": "https://localhost:8080/"
    },
    "id": "ELg4LXeYUpdx",
    "outputId": "989026b5-9ae9-4167-8253-7e530ce28380"
   },
   "outputs": [
    {
     "name": "stdout",
     "output_type": "stream",
     "text": [
      "Epoch 1/10\n",
      "633/633 [==============================] - 1s 1ms/step - loss: 5.1413\n",
      "Epoch 2/10\n",
      "633/633 [==============================] - 1s 1ms/step - loss: 2.9486\n",
      "Epoch 3/10\n",
      "633/633 [==============================] - 1s 1ms/step - loss: 1.7081\n",
      "Epoch 4/10\n",
      "633/633 [==============================] - 1s 1ms/step - loss: 1.5057\n",
      "Epoch 5/10\n",
      "633/633 [==============================] - 1s 1ms/step - loss: 1.5422\n",
      "Epoch 6/10\n",
      "633/633 [==============================] - 1s 2ms/step - loss: 1.5927\n",
      "Epoch 7/10\n",
      "633/633 [==============================] - 1s 1ms/step - loss: 1.6044\n",
      "Epoch 8/10\n",
      "633/633 [==============================] - 1s 1ms/step - loss: 1.8324\n",
      "Epoch 9/10\n",
      "633/633 [==============================] - 1s 1ms/step - loss: 1.7176\n",
      "Epoch 10/10\n",
      "633/633 [==============================] - 1s 1ms/step - loss: 1.8075\n"
     ]
    },
    {
     "data": {
      "text/plain": [
       "<keras.src.callbacks.History at 0x7f1470532cb0>"
      ]
     },
     "execution_count": 24,
     "metadata": {},
     "output_type": "execute_result"
    }
   ],
   "source": [
    "model.fit(X_train.astype('float'), y_train, batch_size = 1, epochs = 10)"
   ]
  },
  {
   "cell_type": "code",
   "execution_count": 25,
   "metadata": {
    "colab": {
     "base_uri": "https://localhost:8080/"
    },
    "id": "fP8EYlBUYnaf",
    "outputId": "91980151-1ba1-4663-fd2d-6da5a9846006"
   },
   "outputs": [
    {
     "name": "stdout",
     "output_type": "stream",
     "text": [
      "5/5 [==============================] - 0s 2ms/step\n"
     ]
    }
   ],
   "source": [
    "yhat_test = model.predict(X_test)\n",
    "yhat_test = [ 1 if y>=0.5 else 0 for y in yhat_test ]"
   ]
  },
  {
   "cell_type": "code",
   "execution_count": 26,
   "metadata": {},
   "outputs": [
    {
     "name": "stdout",
     "output_type": "stream",
     "text": [
      "              precision    recall  f1-score   support\n",
      "\n",
      "         0.0       0.74      0.89      0.81        92\n",
      "         1.0       0.79      0.57      0.66        67\n",
      "\n",
      "    accuracy                           0.75       159\n",
      "   macro avg       0.77      0.73      0.73       159\n",
      "weighted avg       0.76      0.75      0.75       159\n",
      "\n"
     ]
    }
   ],
   "source": [
    "from sklearn.metrics import confusion_matrix, ConfusionMatrixDisplay, classification_report\n",
    "myconfusionmatrix = confusion_matrix(y_test, yhat_test)\n",
    "print(classification_report(y_test, yhat_test))"
   ]
  },
  {
   "cell_type": "markdown",
   "metadata": {},
   "source": [
    "The precision and recall values for the two combine out to be the aggregate for our model. That returns the accuracy for our model. This is in the late 70s based on the runs. This run that it is written after gave an accuracy of 77 percent. This is less than the 80 percent accuracy of the example which is probably due to the fine tuned nature of the example which is specific to this dataset whereas the model I have will run on any dataset. Due to the general nature, we lose the accuracy aspect of the result. "
   ]
  },
  {
   "cell_type": "markdown",
   "metadata": {
    "id": "NfKWyWNHYnaf"
   },
   "source": [
    "## 2) Complex fit of flowers"
   ]
  },
  {
   "cell_type": "markdown",
   "metadata": {
    "id": "A_PTyVq4Ynaf"
   },
   "source": [
    "First we need to import the data:"
   ]
  },
  {
   "cell_type": "code",
   "execution_count": 27,
   "metadata": {
    "id": "qMMal0QFYnaf"
   },
   "outputs": [],
   "source": [
    "import numpy as np\n",
    "data = np.load('./data/rose/rose.npz')\n",
    "X, Y = data['X'], data['Y']"
   ]
  },
  {
   "cell_type": "markdown",
   "metadata": {
    "id": "Zo5iuacCYnaf"
   },
   "source": [
    "To give a feel how it looks, we will first plot the rose, which has 7 petals:"
   ]
  },
  {
   "cell_type": "code",
   "execution_count": 28,
   "metadata": {
    "id": "od7DDx7YYnaf"
   },
   "outputs": [],
   "source": [
    "import matplotlib.pyplot as plt"
   ]
  },
  {
   "cell_type": "code",
   "execution_count": 29,
   "metadata": {
    "colab": {
     "base_uri": "https://localhost:8080/",
     "height": 391
    },
    "id": "kuZmpnJAYnag",
    "outputId": "07ab16be-d4dd-4dde-e17b-d2f697d8957a"
   },
   "outputs": [
    {
     "data": {
      "text/plain": [
       "<matplotlib.collections.PathCollection at 0x7f1470227eb0>"
      ]
     },
     "execution_count": 29,
     "metadata": {},
     "output_type": "execute_result"
    },
    {
     "data": {
      "image/png": "[encoded data removed]",
      "text/plain": [
       "<Figure size 600x600 with 1 Axes>"
      ]
     },
     "metadata": {},
     "output_type": "display_data"
    }
   ],
   "source": [
    "fig, ax = plt.subplots(1, 1, figsize=(6, 6))\n",
    "plt.scatter(X[0,:], X[1,:], c=Y.flatten())"
   ]
  },
  {
   "cell_type": "markdown",
   "metadata": {
    "id": "UVKVjDw3Ynag"
   },
   "source": [
    "We discussed before that a logistic regression model, like we have defined in our previous example, can only divide in a line. Lets try this out, as the data is clearly not defined in a line."
   ]
  },
  {
   "cell_type": "code",
   "execution_count": 30,
   "metadata": {
    "colab": {
     "base_uri": "https://localhost:8080/"
    },
    "id": "n4JRKEVSYnag",
    "outputId": "b0195645-5e4d-48d6-aba4-c456db4e8351"
   },
   "outputs": [
    {
     "data": {
      "text/plain": [
       "[\n",
       "  1 -> Dense layer (nx=2, nh=1, activation=sigmoid)\n",
       "]"
      ]
     },
     "execution_count": 30,
     "metadata": {},
     "output_type": "execute_result"
    }
   ],
   "source": [
    "np.random.seed(1)\n",
    "\n",
    "model = NeuralNetwork()\n",
    "model.addLayer(inputDimension=2, units=1, activation='sigmoid')\n",
    "model"
   ]
  },
  {
   "cell_type": "code",
   "execution_count": 31,
   "metadata": {
    "colab": {
     "base_uri": "https://localhost:8080/"
    },
    "id": "-tJDZBn4Ynag",
    "outputId": "6fa48bc9-d608-4386-9b1c-a2e32f08760f"
   },
   "outputs": [
    {
     "name": "stdout",
     "output_type": "stream",
     "text": [
      "cost: 0.6927732264810165\n"
     ]
    }
   ],
   "source": [
    "num_iterations = 1000\n",
    "for ix in range(num_iterations):\n",
    "    A = model.forward(X)\n",
    "    model.backward(A, Y)\n",
    "    model.update(learning_rate=1.2)\n",
    "    if ix % 1000 == 0:\n",
    "        print('cost:', model.cost(Y, A)) "
   ]
  },
  {
   "cell_type": "markdown",
   "metadata": {
    "id": "q37ZURKIYnag"
   },
   "source": [
    "A short piece of code to generate a contour plot and our Rose"
   ]
  },
  {
   "cell_type": "code",
   "execution_count": 32,
   "metadata": {
    "colab": {
     "base_uri": "https://localhost:8080/",
     "height": 265
    },
    "id": "UiiPh-czYnag",
    "outputId": "2a0d60ac-a9b3-47f6-dc4f-ca8e8f0fffd1"
   },
   "outputs": [
    {
     "data": {
      "image/png": "[encoded data removed]",
      "text/plain": [
       "<Figure size 640x480 with 1 Axes>"
      ]
     },
     "metadata": {},
     "output_type": "display_data"
    }
   ],
   "source": [
    "def testModel(X, Y, h=0.1, f=1.05):\n",
    "    r = X.max()\n",
    "    xmesh, ymesh = np.meshgrid(np.arange(-r*f, r*f+h, h), np.arange(-r*f, r*f+h, h))\n",
    "    Z = model.forward(((np.c_[xmesh.ravel(), ymesh.ravel()]).T))\n",
    "    Z = (Z > 0.5) * 1\n",
    "    Z = Z.T.reshape(xmesh.shape)\n",
    "    plt.contourf(xmesh, ymesh, Z, cmap=plt.cm.OrRd)\n",
    "    plt.scatter(X[0, :], X[1, :], c=Y.flatten(), cmap=plt.cm.OrRd)\n",
    "testModel(X, Y)"
   ]
  },
  {
   "cell_type": "markdown",
   "metadata": {
    "id": "JpUgbGGdYnag"
   },
   "source": [
    "Definitely not a great fit and clearly a line. Now lets add another layer with four units to the model, with the last layer being the same sigmoid layer. The activation function for this model we keep similar to the one from Andrew, which was a tanh."
   ]
  },
  {
   "cell_type": "code",
   "execution_count": 33,
   "metadata": {
    "colab": {
     "base_uri": "https://localhost:8080/"
    },
    "id": "u8Gg9vGBYnah",
    "outputId": "0de97367-6daa-4661-dd79-f470b215923c"
   },
   "outputs": [
    {
     "data": {
      "text/plain": [
       "[\n",
       "  1 -> Dense layer (nx=2, nh=4, activation=tanh)\n",
       "  2 -> Dense layer (nx=4, nh=1, activation=sigmoid)\n",
       "]"
      ]
     },
     "execution_count": 33,
     "metadata": {},
     "output_type": "execute_result"
    }
   ],
   "source": [
    "np.random.seed(1)\n",
    "\n",
    "model = NeuralNetwork()\n",
    "model.addLayer(inputDimension=2, units=4, activation='tanh')\n",
    "model.addLayer(units=1, activation='sigmoid')\n",
    "model"
   ]
  },
  {
   "cell_type": "code",
   "execution_count": 34,
   "metadata": {
    "colab": {
     "base_uri": "https://localhost:8080/"
    },
    "id": "AST-GxmYYnah",
    "outputId": "9882c353-6017-49bf-be1e-1275325a10f4"
   },
   "outputs": [
    {
     "name": "stdout",
     "output_type": "stream",
     "text": [
      "cost: 0.6931058695708833\n",
      "cost: 0.01872511046013703\n",
      "cost: 0.010960375476196646\n",
      "cost: 0.007723264407820055\n"
     ]
    }
   ],
   "source": [
    "num_iterations = 4000\n",
    "for ix in range(num_iterations):\n",
    "    A = model.forward(X)\n",
    "    model.backward(A, Y)\n",
    "    model.update(learning_rate=1.2)\n",
    "    if ix % 1000 == 0:\n",
    "        print('cost:', model.cost(Y, A)) "
   ]
  },
  {
   "cell_type": "code",
   "execution_count": 35,
   "metadata": {
    "colab": {
     "base_uri": "https://localhost:8080/",
     "height": 265
    },
    "id": "ksAoyXP1Ynah",
    "outputId": "2ab00574-703b-4ff6-f147-33af04f3f594"
   },
   "outputs": [
    {
     "data": {
      "image/png": "[encoded data removed]",
      "text/plain": [
       "<Figure size 640x480 with 1 Axes>"
      ]
     },
     "metadata": {},
     "output_type": "display_data"
    }
   ],
   "source": [
    "testModel(X,Y)"
   ]
  },
  {
   "cell_type": "markdown",
   "metadata": {
    "id": "1o_C8CDbYnah"
   },
   "source": [
    "This is something that really amazes me. Just a tiny layer more and we have the power to learn this much more complex function. Really great stuff!"
   ]
  },
  {
   "cell_type": "code",
   "execution_count": 36,
   "metadata": {
    "colab": {
     "base_uri": "https://localhost:8080/",
     "height": 86
    },
    "id": "cZF8N-qpbJ-M",
    "outputId": "c2fe06ae-fc4b-4b1a-baec-12e1f2c80eb7"
   },
   "outputs": [
    {
     "data": {
      "text/plain": [
       "(688, 2)"
      ]
     },
     "metadata": {},
     "output_type": "display_data"
    },
    {
     "data": {
      "text/plain": [
       "(688, 1)"
      ]
     },
     "metadata": {},
     "output_type": "display_data"
    },
    {
     "data": {
      "text/plain": [
       "(550, 2)"
      ]
     },
     "metadata": {},
     "output_type": "display_data"
    },
    {
     "data": {
      "text/plain": [
       "(550, 1)"
      ]
     },
     "metadata": {},
     "output_type": "display_data"
    }
   ],
   "source": [
    "import numpy as np\n",
    "data = np.load('./data/rose/rose.npz')\n",
    "X, y = data['X'].transpose(), data['Y'].transpose()\n",
    "display(X.shape)\n",
    "display(y.shape)\n",
    "\n",
    "X_train, X_test, y_train, y_test = train_test_split(X, y, test_size=0.2, random_state=21)\n",
    "display(X_train.shape)\n",
    "display(y_train.shape)\n",
    "\n",
    "# Let's initialize our model\n",
    "tanh = Sequential() # Initialising the ANN for tanh\n",
    "relu = Sequential() # Initialising the ANN for relu\n",
    "sigmoid = Sequential() # Initialising the ANN for sigmoid"
   ]
  },
  {
   "cell_type": "code",
   "execution_count": 37,
   "metadata": {
    "colab": {
     "base_uri": "https://localhost:8080/"
    },
    "id": "hUa1-L50Ynah",
    "outputId": "5d08f4cd-60cd-4ac1-d30a-2b829cb038fb"
   },
   "outputs": [
    {
     "name": "stdout",
     "output_type": "stream",
     "text": [
      "Epoch 1/10\n",
      "550/550 [==============================] - 1s 1ms/step - loss: 2.6334\n",
      "Epoch 2/10\n",
      "550/550 [==============================] - 1s 1ms/step - loss: 2.4344\n",
      "Epoch 3/10\n",
      "550/550 [==============================] - 1s 1ms/step - loss: 2.3726\n",
      "Epoch 4/10\n",
      "550/550 [==============================] - 1s 1ms/step - loss: 2.3069\n",
      "Epoch 5/10\n",
      "550/550 [==============================] - 1s 990us/step - loss: 2.2812\n",
      "Epoch 6/10\n",
      "550/550 [==============================] - 1s 979us/step - loss: 2.2641\n",
      "Epoch 7/10\n",
      "550/550 [==============================] - 1s 1ms/step - loss: 2.1932\n",
      "Epoch 8/10\n",
      "550/550 [==============================] - 1s 980us/step - loss: 2.2347\n",
      "Epoch 9/10\n",
      "550/550 [==============================] - 1s 1ms/step - loss: 2.1767\n",
      "Epoch 10/10\n",
      "550/550 [==============================] - 1s 1ms/step - loss: 2.1690\n"
     ]
    },
    {
     "data": {
      "text/plain": [
       "<keras.src.callbacks.History at 0x7f14683cefe0>"
      ]
     },
     "execution_count": 37,
     "metadata": {},
     "output_type": "execute_result"
    }
   ],
   "source": [
    "tanh.add(Dense(units = 1, activation = 'tanh', input_dim = X_train.shape[1]))\n",
    "tanh.compile(optimizer = 'rmsprop', loss = 'binary_crossentropy')\n",
    "tanh.fit(X_train.astype('float'), y_train, batch_size = 1, epochs = 10)"
   ]
  },
  {
   "cell_type": "code",
   "execution_count": 38,
   "metadata": {},
   "outputs": [
    {
     "name": "stdout",
     "output_type": "stream",
     "text": [
      "Epoch 1/10\n",
      "550/550 [==============================] - 1s 1ms/step - loss: 6.7400\n",
      "Epoch 2/10\n",
      "550/550 [==============================] - 1s 1ms/step - loss: 6.0019\n",
      "Epoch 3/10\n",
      "550/550 [==============================] - 1s 1ms/step - loss: 4.9882\n",
      "Epoch 4/10\n",
      "550/550 [==============================] - 1s 1ms/step - loss: 4.1257\n",
      "Epoch 5/10\n",
      "550/550 [==============================] - 1s 1ms/step - loss: 4.0601\n",
      "Epoch 6/10\n",
      "550/550 [==============================] - 1s 1ms/step - loss: 4.0730\n",
      "Epoch 7/10\n",
      "550/550 [==============================] - 1s 1ms/step - loss: 4.0676\n",
      "Epoch 8/10\n",
      "550/550 [==============================] - 1s 1ms/step - loss: 4.0865\n",
      "Epoch 9/10\n",
      "550/550 [==============================] - 1s 1ms/step - loss: 4.1093\n",
      "Epoch 10/10\n",
      "550/550 [==============================] - 1s 1ms/step - loss: 4.1108\n"
     ]
    },
    {
     "data": {
      "text/plain": [
       "<keras.src.callbacks.History at 0x7f1468350100>"
      ]
     },
     "execution_count": 38,
     "metadata": {},
     "output_type": "execute_result"
    }
   ],
   "source": [
    "relu.add(Dense(units = 1, activation = 'relu', input_dim = X_train.shape[1]))\n",
    "relu.compile(optimizer = 'rmsprop', loss = 'binary_crossentropy')\n",
    "relu.fit(X_train.astype('float'), y_train, batch_size = 1, epochs = 10)"
   ]
  },
  {
   "cell_type": "code",
   "execution_count": 39,
   "metadata": {},
   "outputs": [
    {
     "name": "stdout",
     "output_type": "stream",
     "text": [
      "Epoch 1/10\n",
      "550/550 [==============================] - 1s 1ms/step - loss: 0.9007\n",
      "Epoch 2/10\n",
      "550/550 [==============================] - 1s 2ms/step - loss: 0.7862\n",
      "Epoch 3/10\n",
      "550/550 [==============================] - 1s 1ms/step - loss: 0.7218\n",
      "Epoch 4/10\n",
      "550/550 [==============================] - 1s 1ms/step - loss: 0.6897\n",
      "Epoch 5/10\n",
      "550/550 [==============================] - 1s 1ms/step - loss: 0.6759\n",
      "Epoch 6/10\n",
      "550/550 [==============================] - 1s 1ms/step - loss: 0.6703\n",
      "Epoch 7/10\n",
      "550/550 [==============================] - 1s 999us/step - loss: 0.6682\n",
      "Epoch 8/10\n",
      "550/550 [==============================] - 1s 1ms/step - loss: 0.6671\n",
      "Epoch 9/10\n",
      "550/550 [==============================] - 1s 1ms/step - loss: 0.6672\n",
      "Epoch 10/10\n",
      "550/550 [==============================] - 1s 950us/step - loss: 0.6674\n"
     ]
    },
    {
     "data": {
      "text/plain": [
       "<keras.src.callbacks.History at 0x7f14682b2e90>"
      ]
     },
     "execution_count": 39,
     "metadata": {},
     "output_type": "execute_result"
    }
   ],
   "source": [
    "sigmoid.add(Dense(units = 1, activation = 'sigmoid', input_dim = X_train.shape[1]))\n",
    "sigmoid.compile(optimizer = 'rmsprop', loss = 'binary_crossentropy')\n",
    "sigmoid.fit(X_train.astype('float'), y_train, batch_size = 1, epochs = 10)"
   ]
  },
  {
   "cell_type": "markdown",
   "metadata": {},
   "source": [
    "The three functions used here were relu, tanh, and sigmoid. These are the conclusions - \n",
    "\n",
    "For tanh, the loss saw a sharp decline from epoch one to two. Then after that the loss kept declining, but more gradually than the above the drop from 1 to 2. \n",
    "\n",
    "For relu, there was no discernable pattern and the value kept fluctuating up and down without any clear pattern. \n",
    "\n",
    "For sigmoid, the loss kept constantly going down but there was again a huge dip from one to two with gradual declines following that massive drop. \n",
    "\n",
    "For the next question, we use the sigmoid and "
   ]
  },
  {
   "cell_type": "code",
   "execution_count": 40,
   "metadata": {
    "colab": {
     "base_uri": "https://localhost:8080/"
    },
    "id": "nvi8QHpjYnah",
    "outputId": "fcbecff5-a292-49f6-cad8-f5d34b52d908"
   },
   "outputs": [
    {
     "name": "stdout",
     "output_type": "stream",
     "text": [
      "5/5 [==============================] - 0s 1ms/step\n",
      "              precision    recall  f1-score   support\n",
      "\n",
      "           0       0.70      0.78      0.74        86\n",
      "           1       0.55      0.44      0.49        52\n",
      "\n",
      "    accuracy                           0.65       138\n",
      "   macro avg       0.62      0.61      0.61       138\n",
      "weighted avg       0.64      0.65      0.64       138\n",
      "\n"
     ]
    }
   ],
   "source": [
    "# For tanh activation \n",
    "ytanh_test = tanh.predict(X_test)\n",
    "ytanh_test  = [ 1 if y>=0.5 else 0 for y in ytanh_test ]\n",
    "tanh_confusionmatrix = confusion_matrix(y_test, ytanh_test)\n",
    "print(classification_report(y_test, ytanh_test))"
   ]
  },
  {
   "cell_type": "code",
   "execution_count": 41,
   "metadata": {},
   "outputs": [
    {
     "name": "stdout",
     "output_type": "stream",
     "text": [
      "5/5 [==============================] - 0s 1ms/step\n",
      "              precision    recall  f1-score   support\n",
      "\n",
      "           0       0.61      0.64      0.63        86\n",
      "           1       0.35      0.33      0.34        52\n",
      "\n",
      "    accuracy                           0.52       138\n",
      "   macro avg       0.48      0.48      0.48       138\n",
      "weighted avg       0.51      0.52      0.52       138\n",
      "\n"
     ]
    }
   ],
   "source": [
    "# For sigmoid activation \n",
    "ysig_test = sigmoid.predict(X_test)\n",
    "ysig_test = [ 1 if y>=0.5 else 0 for y in ysig_test ]\n",
    "sig_confusionmatrix = confusion_matrix(y_test, ysig_test)\n",
    "print(classification_report(y_test, ysig_test))"
   ]
  },
  {
   "cell_type": "markdown",
   "metadata": {},
   "source": [
    "The values are different but not extremely. They differ by 10 percent. This is probably due to the distinct nature of the activation functions that we have used in the two models. "
   ]
  },
  {
   "cell_type": "markdown",
   "metadata": {
    "id": "oRRH5UW1Ynai"
   },
   "source": [
    "## 3) Cats vs not cats"
   ]
  },
  {
   "cell_type": "markdown",
   "metadata": {
    "id": "RfHJ4U5UYnai"
   },
   "source": [
    "In the same course from Andrew, they pointed out that there is a terrible shortage of cat-detectors on the internet. Therefore, our class should detect cats in style! Lets download the same dataset. For details, please check out Andrew's Course, which is big fun!"
   ]
  },
  {
   "cell_type": "code",
   "execution_count": 42,
   "metadata": {
    "colab": {
     "base_uri": "https://localhost:8080/",
     "height": 52
    },
    "id": "1oU-QdGGYnai",
    "outputId": "c7617fb4-ac6d-4d33-ea05-9b623c26c923"
   },
   "outputs": [
    {
     "data": {
      "text/plain": [
       "(12288, 209)"
      ]
     },
     "metadata": {},
     "output_type": "display_data"
    },
    {
     "data": {
      "text/plain": [
       "(1, 209)"
      ]
     },
     "metadata": {},
     "output_type": "display_data"
    }
   ],
   "source": [
    "data = np.load('./data/cats/cats.npz')\n",
    "X_train, y_train = data['Xtrain'], data['Ytrain']\n",
    "X_test, y_test = data['Xtest'], data['Ytest']\n",
    "display(X_train.shape)\n",
    "display(y_train.shape)"
   ]
  },
  {
   "cell_type": "markdown",
   "metadata": {
    "id": "Z94ZPG6MYnai"
   },
   "source": [
    "Same functions as before."
   ]
  },
  {
   "cell_type": "code",
   "execution_count": 43,
   "metadata": {
    "id": "CMvK3YERYnaj"
   },
   "outputs": [],
   "source": [
    "def roundValue(A):\n",
    "    return np.uint8( A > 0.5)\n",
    "\n",
    "def accuracy(yhat, Y):\n",
    "    return round(np.sum(yhat==Y) / len(yhat.flatten()) * 1000) / 10"
   ]
  },
  {
   "cell_type": "markdown",
   "metadata": {
    "id": "J6vjLs7pYnaj"
   },
   "source": [
    "The model will be the same as the two layer model from the course. first layer has 7 units and a Relu activation function. Second layer is the sigmoid cat/no-cat layer."
   ]
  },
  {
   "cell_type": "code",
   "execution_count": 44,
   "metadata": {
    "colab": {
     "base_uri": "https://localhost:8080/"
    },
    "id": "8at1sjWEYnaj",
    "outputId": "2d70c526-414c-42ee-bf07-c7c4ed99e6e6"
   },
   "outputs": [
    {
     "data": {
      "text/plain": [
       "[\n",
       "  1 -> Dense layer (nx=12288, nh=7, activation=relu)\n",
       "  2 -> Dense layer (nx=7, nh=1, activation=sigmoid)\n",
       "]"
      ]
     },
     "execution_count": 44,
     "metadata": {},
     "output_type": "execute_result"
    }
   ],
   "source": [
    "nx = X_train.shape[0]\n",
    "\n",
    "np.random.seed(1)\n",
    "\n",
    "model = NeuralNetwork()\n",
    "model.addLayer(inputDimension=nx, units=7, activation='relu')\n",
    "model.addLayer(units=1, activation='sigmoid')\n",
    "model"
   ]
  },
  {
   "cell_type": "code",
   "execution_count": 45,
   "metadata": {
    "colab": {
     "base_uri": "https://localhost:8080/"
    },
    "id": "FiDOXq2rYnaj",
    "outputId": "8fb5f83a-60c2-48c8-a38a-936665036a21"
   },
   "outputs": [
    {
     "name": "stdout",
     "output_type": "stream",
     "text": [
      "cost: 0.5638451365986756 \taccuracy: 65.6%\n",
      "cost: 0.5020981427480248 \taccuracy: 66.5%\n",
      "cost: 0.45295946374162377 \taccuracy: 81.3%\n",
      "cost: 0.3926069326751231 \taccuracy: 77.5%\n",
      "cost: 0.46671945669083503 \taccuracy: 75.6%\n",
      "cost: 0.42690871480600756 \taccuracy: 75.6%\n",
      "cost: 0.19321772392481393 \taccuracy: 93.3%\n",
      "cost: 0.1568299031045292 \taccuracy: 96.2%\n",
      "cost: 0.07464233176025305 \taccuracy: 98.6%\n",
      "cost: 0.04773207870968046 \taccuracy: 99.0%\n"
     ]
    }
   ],
   "source": [
    "num_iterations = 1000\n",
    "for ix in range(1, num_iterations+1):\n",
    "    A = model.forward(X_train)\n",
    "    model.backward(A, y_train)\n",
    "    model.update(learning_rate=0.03)\n",
    "    if ix % 100 == 0:\n",
    "        yhat_test = roundValue(A)\n",
    "        print('cost:', model.cost(y_train, A), f'\\taccuracy: {accuracy(yhat_test, y_train)}%')     "
   ]
  },
  {
   "cell_type": "markdown",
   "metadata": {
    "id": "NjVsxQrMYnak"
   },
   "source": [
    "Amazing accuracy. But we of course all know we should check this with a proper test set:"
   ]
  },
  {
   "cell_type": "code",
   "execution_count": 46,
   "metadata": {
    "colab": {
     "base_uri": "https://localhost:8080/"
    },
    "id": "cIYb-ebSYnak",
    "outputId": "3f42c701-1737-4651-d749-6fc38c1f0425"
   },
   "outputs": [
    {
     "data": {
      "text/plain": [
       "72.0"
      ]
     },
     "execution_count": 46,
     "metadata": {},
     "output_type": "execute_result"
    }
   ],
   "source": [
    "A = model.forward(X_test)\n",
    "yhat_test = roundValue(A)\n",
    "acc = accuracy(yhat_test, y_test)\n",
    "acc"
   ]
  },
  {
   "cell_type": "markdown",
   "metadata": {
    "id": "qv1MjXhlYnak"
   },
   "source": [
    "An accuracy of 72% is great for such a simple model which only works on pixel values."
   ]
  },
  {
   "cell_type": "code",
   "execution_count": 48,
   "metadata": {
    "colab": {
     "base_uri": "https://localhost:8080/",
     "height": 52
    },
    "id": "UVrE_ZFuiarQ",
    "outputId": "77c4f5c3-7ff4-4e0d-c392-f71a65b7e498"
   },
   "outputs": [
    {
     "data": {
      "text/plain": [
       "(209, 12288)"
      ]
     },
     "metadata": {},
     "output_type": "display_data"
    },
    {
     "data": {
      "text/plain": [
       "(209, 1)"
      ]
     },
     "metadata": {},
     "output_type": "display_data"
    }
   ],
   "source": [
    "import numpy as np\n",
    "from sklearn.model_selection import train_test_split\n",
    "from keras.models import Sequential\n",
    "from keras.layers import Dense\n",
    "\n",
    "data = np.load('data/cats/cats.npz')\n",
    "X_train, y_train = data['Xtrain'].transpose(), data['Ytrain'].transpose()\n",
    "X_test, y_test = data['Xtest'].transpose(), data['Ytest'].transpose()\n",
    "display(X_train.shape)\n",
    "display(y_train.shape)\n",
    "\n",
    "# Let's initialize our model\n",
    "model = Sequential() # Initialising the ANN"
   ]
  },
  {
   "cell_type": "code",
   "execution_count": 49,
   "metadata": {
    "id": "wmdATv6tYnak"
   },
   "outputs": [
    {
     "name": "stdout",
     "output_type": "stream",
     "text": [
      "Epochs = 10\n",
      "\n",
      "Epoch 1/10\n",
      "209/209 [==============================] - 0s 1ms/step - loss: 9.4927\n",
      "Epoch 2/10\n",
      "209/209 [==============================] - 0s 1ms/step - loss: 9.9959\n",
      "Epoch 3/10\n",
      "209/209 [==============================] - 0s 1ms/step - loss: 9.9959\n",
      "Epoch 4/10\n",
      "209/209 [==============================] - 0s 1ms/step - loss: 9.9959\n",
      "Epoch 5/10\n",
      "209/209 [==============================] - 0s 1ms/step - loss: 9.9959\n",
      "Epoch 6/10\n",
      "209/209 [==============================] - 0s 1ms/step - loss: 9.9959\n",
      "Epoch 7/10\n",
      "209/209 [==============================] - 0s 1ms/step - loss: 9.9959\n",
      "Epoch 8/10\n",
      "209/209 [==============================] - 0s 1ms/step - loss: 9.9959\n",
      "Epoch 9/10\n",
      "209/209 [==============================] - 0s 1ms/step - loss: 9.9959\n",
      "Epoch 10/10\n",
      "209/209 [==============================] - 0s 1ms/step - loss: 9.9959\n",
      "\n",
      "\n",
      "Epochs = 100\n",
      "\n",
      "Epoch 1/100\n",
      "209/209 [==============================] - 1s 1ms/step - loss: 5.3139\n",
      "Epoch 2/100\n",
      "209/209 [==============================] - 0s 1ms/step - loss: 5.3139\n",
      "Epoch 3/100\n",
      "209/209 [==============================] - 0s 1ms/step - loss: 5.3139\n",
      "Epoch 4/100\n",
      "209/209 [==============================] - 0s 1ms/step - loss: 5.3139\n",
      "Epoch 5/100\n",
      "209/209 [==============================] - 0s 1ms/step - loss: 5.3139\n",
      "Epoch 6/100\n",
      "209/209 [==============================] - 0s 1ms/step - loss: 5.3139\n",
      "Epoch 7/100\n",
      "209/209 [==============================] - 0s 1ms/step - loss: 5.3139\n",
      "Epoch 8/100\n",
      "209/209 [==============================] - 0s 1ms/step - loss: 5.3139\n",
      "Epoch 9/100\n",
      "209/209 [==============================] - 0s 1ms/step - loss: 5.3139\n",
      "Epoch 10/100\n",
      "209/209 [==============================] - 0s 1ms/step - loss: 5.3139\n",
      "Epoch 11/100\n",
      "209/209 [==============================] - 0s 1ms/step - loss: 5.3139\n",
      "Epoch 12/100\n",
      "209/209 [==============================] - 0s 1ms/step - loss: 5.3139\n",
      "Epoch 13/100\n",
      "209/209 [==============================] - 0s 1ms/step - loss: 5.3139\n",
      "Epoch 14/100\n",
      "209/209 [==============================] - 0s 2ms/step - loss: 5.3139\n",
      "Epoch 15/100\n",
      "209/209 [==============================] - 0s 1ms/step - loss: 5.3139\n",
      "Epoch 16/100\n",
      "209/209 [==============================] - 0s 1ms/step - loss: 5.3139\n",
      "Epoch 17/100\n",
      "209/209 [==============================] - 0s 1ms/step - loss: 5.3139\n",
      "Epoch 18/100\n",
      "209/209 [==============================] - 0s 1ms/step - loss: 5.3139\n",
      "Epoch 19/100\n",
      "209/209 [==============================] - 0s 1ms/step - loss: 5.3139\n",
      "Epoch 20/100\n",
      "209/209 [==============================] - 0s 1ms/step - loss: 5.3139\n",
      "Epoch 21/100\n",
      "209/209 [==============================] - 0s 1ms/step - loss: 5.3139\n",
      "Epoch 22/100\n",
      "209/209 [==============================] - 0s 1ms/step - loss: 5.3139\n",
      "Epoch 23/100\n",
      "209/209 [==============================] - 0s 1ms/step - loss: 5.3139\n",
      "Epoch 24/100\n",
      "209/209 [==============================] - 0s 1ms/step - loss: 5.3139\n",
      "Epoch 25/100\n",
      "209/209 [==============================] - 0s 1ms/step - loss: 5.3139\n",
      "Epoch 26/100\n",
      "209/209 [==============================] - 0s 1ms/step - loss: 5.3139\n",
      "Epoch 27/100\n",
      "209/209 [==============================] - 0s 1ms/step - loss: 5.3139\n",
      "Epoch 28/100\n",
      "209/209 [==============================] - 0s 2ms/step - loss: 5.3139\n",
      "Epoch 29/100\n",
      "209/209 [==============================] - 0s 1ms/step - loss: 5.3139\n",
      "Epoch 30/100\n",
      "209/209 [==============================] - 0s 1ms/step - loss: 5.3139\n",
      "Epoch 31/100\n",
      "209/209 [==============================] - 0s 1ms/step - loss: 5.3139\n",
      "Epoch 32/100\n",
      "209/209 [==============================] - 0s 1ms/step - loss: 5.3139\n",
      "Epoch 33/100\n",
      "209/209 [==============================] - 0s 1ms/step - loss: 5.3139\n",
      "Epoch 34/100\n",
      "209/209 [==============================] - 0s 1ms/step - loss: 5.3139\n",
      "Epoch 35/100\n",
      "209/209 [==============================] - 0s 1ms/step - loss: 5.3139\n",
      "Epoch 36/100\n",
      "209/209 [==============================] - 0s 1ms/step - loss: 5.3139\n",
      "Epoch 37/100\n",
      "209/209 [==============================] - 0s 1ms/step - loss: 5.3139\n",
      "Epoch 38/100\n",
      "209/209 [==============================] - 0s 1ms/step - loss: 5.3139\n",
      "Epoch 39/100\n",
      "209/209 [==============================] - 0s 1ms/step - loss: 5.3139\n",
      "Epoch 40/100\n",
      "209/209 [==============================] - 0s 1ms/step - loss: 5.3139\n",
      "Epoch 41/100\n",
      "209/209 [==============================] - 0s 1ms/step - loss: 5.3139\n",
      "Epoch 42/100\n",
      "209/209 [==============================] - 0s 1ms/step - loss: 5.3139\n",
      "Epoch 43/100\n",
      "209/209 [==============================] - 0s 1ms/step - loss: 5.3139\n",
      "Epoch 44/100\n",
      "209/209 [==============================] - 0s 1ms/step - loss: 5.3139\n",
      "Epoch 45/100\n",
      "209/209 [==============================] - 0s 1ms/step - loss: 5.3139\n",
      "Epoch 46/100\n",
      "209/209 [==============================] - 0s 1ms/step - loss: 5.3139\n",
      "Epoch 47/100\n",
      "209/209 [==============================] - 0s 2ms/step - loss: 5.3139\n",
      "Epoch 48/100\n",
      "209/209 [==============================] - 0s 2ms/step - loss: 5.3139\n",
      "Epoch 49/100\n",
      "209/209 [==============================] - 0s 1ms/step - loss: 5.3139\n",
      "Epoch 50/100\n",
      "209/209 [==============================] - 0s 1ms/step - loss: 5.3139\n",
      "Epoch 51/100\n",
      "209/209 [==============================] - 0s 2ms/step - loss: 5.3139\n",
      "Epoch 52/100\n",
      "209/209 [==============================] - 0s 2ms/step - loss: 5.3139\n",
      "Epoch 53/100\n",
      "209/209 [==============================] - 0s 1ms/step - loss: 5.3139\n",
      "Epoch 54/100\n",
      "209/209 [==============================] - 0s 1ms/step - loss: 5.3139\n",
      "Epoch 55/100\n",
      "209/209 [==============================] - 0s 1ms/step - loss: 5.3139\n",
      "Epoch 56/100\n",
      "209/209 [==============================] - 0s 1ms/step - loss: 5.3139\n",
      "Epoch 57/100\n",
      "209/209 [==============================] - 0s 1ms/step - loss: 5.3139\n",
      "Epoch 58/100\n",
      "209/209 [==============================] - 0s 1ms/step - loss: 5.3139\n",
      "Epoch 59/100\n",
      "209/209 [==============================] - 0s 2ms/step - loss: 5.3139\n",
      "Epoch 60/100\n",
      "209/209 [==============================] - 0s 1ms/step - loss: 5.3139\n",
      "Epoch 61/100\n",
      "209/209 [==============================] - 0s 1ms/step - loss: 5.3139\n",
      "Epoch 62/100\n",
      "209/209 [==============================] - 0s 1ms/step - loss: 5.3139\n",
      "Epoch 63/100\n",
      "209/209 [==============================] - 0s 1ms/step - loss: 5.3139\n",
      "Epoch 64/100\n",
      "209/209 [==============================] - 0s 1ms/step - loss: 5.3139\n",
      "Epoch 65/100\n",
      "209/209 [==============================] - 0s 1ms/step - loss: 5.3139\n",
      "Epoch 66/100\n",
      "209/209 [==============================] - 0s 1ms/step - loss: 5.3139\n",
      "Epoch 67/100\n",
      "209/209 [==============================] - 0s 1ms/step - loss: 5.3139\n",
      "Epoch 68/100\n",
      "209/209 [==============================] - 0s 1ms/step - loss: 5.3139\n",
      "Epoch 69/100\n",
      "209/209 [==============================] - 0s 1ms/step - loss: 5.3139\n",
      "Epoch 70/100\n",
      "209/209 [==============================] - 0s 1ms/step - loss: 5.3139\n",
      "Epoch 71/100\n",
      "209/209 [==============================] - 0s 1ms/step - loss: 5.3139\n",
      "Epoch 72/100\n",
      "209/209 [==============================] - 0s 1ms/step - loss: 5.3139\n",
      "Epoch 73/100\n",
      "209/209 [==============================] - 0s 1ms/step - loss: 5.3139\n",
      "Epoch 74/100\n",
      "209/209 [==============================] - 0s 1ms/step - loss: 5.3139\n",
      "Epoch 75/100\n",
      "209/209 [==============================] - 0s 1ms/step - loss: 5.3139\n",
      "Epoch 76/100\n",
      "209/209 [==============================] - 0s 1ms/step - loss: 5.3139\n",
      "Epoch 77/100\n",
      "209/209 [==============================] - 0s 2ms/step - loss: 5.3139\n",
      "Epoch 78/100\n",
      "209/209 [==============================] - 0s 1ms/step - loss: 5.3139\n",
      "Epoch 79/100\n",
      "209/209 [==============================] - 0s 1ms/step - loss: 5.3139\n",
      "Epoch 80/100\n",
      "209/209 [==============================] - 0s 2ms/step - loss: 5.3139\n",
      "Epoch 81/100\n",
      "209/209 [==============================] - 0s 2ms/step - loss: 5.3139\n",
      "Epoch 82/100\n",
      "209/209 [==============================] - 0s 2ms/step - loss: 5.3139\n",
      "Epoch 83/100\n",
      "209/209 [==============================] - 0s 2ms/step - loss: 5.3139\n",
      "Epoch 84/100\n",
      "209/209 [==============================] - 0s 1ms/step - loss: 5.3139\n",
      "Epoch 85/100\n",
      "209/209 [==============================] - 0s 2ms/step - loss: 5.3139\n",
      "Epoch 86/100\n",
      "209/209 [==============================] - 0s 1ms/step - loss: 5.3139\n",
      "Epoch 87/100\n",
      "209/209 [==============================] - 0s 2ms/step - loss: 5.3139\n",
      "Epoch 88/100\n",
      "209/209 [==============================] - 0s 2ms/step - loss: 5.3139\n",
      "Epoch 89/100\n",
      "209/209 [==============================] - 0s 1ms/step - loss: 5.3139\n",
      "Epoch 90/100\n",
      "209/209 [==============================] - 0s 1ms/step - loss: 5.3139\n",
      "Epoch 91/100\n",
      "209/209 [==============================] - 0s 1ms/step - loss: 5.3139\n",
      "Epoch 92/100\n",
      "209/209 [==============================] - 0s 1ms/step - loss: 5.3139\n",
      "Epoch 93/100\n",
      "209/209 [==============================] - 0s 1ms/step - loss: 5.3139\n",
      "Epoch 94/100\n",
      "209/209 [==============================] - 0s 1ms/step - loss: 5.3139\n",
      "Epoch 95/100\n",
      "209/209 [==============================] - 0s 1ms/step - loss: 5.3139\n",
      "Epoch 96/100\n",
      "209/209 [==============================] - 0s 1ms/step - loss: 5.3139\n",
      "Epoch 97/100\n",
      "209/209 [==============================] - 0s 1ms/step - loss: 5.3139\n",
      "Epoch 98/100\n",
      "209/209 [==============================] - 0s 1ms/step - loss: 5.3139\n",
      "Epoch 99/100\n",
      "209/209 [==============================] - 0s 1ms/step - loss: 5.3139\n",
      "Epoch 100/100\n",
      "209/209 [==============================] - 0s 1ms/step - loss: 5.3139\n",
      "\n",
      "\n",
      "Epochs = 1000\n",
      "\n",
      "Epoch 1/1000\n",
      "209/209 [==============================] - 1s 1ms/step - loss: 5.3139\n",
      "Epoch 2/1000\n",
      "209/209 [==============================] - 0s 1ms/step - loss: 5.3139\n",
      "Epoch 3/1000\n",
      "209/209 [==============================] - 0s 1ms/step - loss: 5.3139\n",
      "Epoch 4/1000\n",
      "209/209 [==============================] - 0s 1ms/step - loss: 5.3139\n",
      "Epoch 5/1000\n",
      "209/209 [==============================] - 0s 1ms/step - loss: 5.3139\n",
      "Epoch 6/1000\n",
      "209/209 [==============================] - 0s 1ms/step - loss: 5.3139\n",
      "Epoch 7/1000\n",
      "209/209 [==============================] - 0s 1ms/step - loss: 5.3139\n",
      "Epoch 8/1000\n",
      "209/209 [==============================] - 0s 1ms/step - loss: 5.3139\n",
      "Epoch 9/1000\n",
      "209/209 [==============================] - 0s 1ms/step - loss: 5.3139\n",
      "Epoch 10/1000\n",
      "209/209 [==============================] - 0s 1ms/step - loss: 5.3139\n",
      "Epoch 11/1000\n",
      "209/209 [==============================] - 0s 1ms/step - loss: 5.3139\n",
      "Epoch 12/1000\n",
      "209/209 [==============================] - 0s 2ms/step - loss: 5.3139\n",
      "Epoch 13/1000\n",
      "209/209 [==============================] - 0s 1ms/step - loss: 5.3139\n",
      "Epoch 14/1000\n",
      "209/209 [==============================] - 0s 1ms/step - loss: 5.3139\n",
      "Epoch 15/1000\n",
      "209/209 [==============================] - 0s 2ms/step - loss: 5.3139\n",
      "Epoch 16/1000\n",
      "209/209 [==============================] - 0s 1ms/step - loss: 5.3139\n",
      "Epoch 17/1000\n",
      "209/209 [==============================] - 0s 2ms/step - loss: 5.3139\n",
      "Epoch 18/1000\n",
      "209/209 [==============================] - 0s 2ms/step - loss: 5.3139\n",
      "Epoch 19/1000\n",
      "209/209 [==============================] - 0s 2ms/step - loss: 5.3139\n",
      "Epoch 20/1000\n",
      "209/209 [==============================] - 0s 1ms/step - loss: 5.3139\n",
      "Epoch 21/1000\n",
      "209/209 [==============================] - 0s 1ms/step - loss: 5.3139\n",
      "Epoch 22/1000\n",
      "209/209 [==============================] - 0s 2ms/step - loss: 5.3139\n",
      "Epoch 23/1000\n",
      "209/209 [==============================] - 0s 2ms/step - loss: 5.3139\n",
      "Epoch 24/1000\n",
      "209/209 [==============================] - 0s 1ms/step - loss: 5.3139\n",
      "Epoch 25/1000\n",
      "209/209 [==============================] - 0s 2ms/step - loss: 5.3139\n",
      "Epoch 26/1000\n",
      "209/209 [==============================] - 0s 1ms/step - loss: 5.3139\n",
      "Epoch 27/1000\n",
      "209/209 [==============================] - 0s 2ms/step - loss: 5.3139\n",
      "Epoch 28/1000\n",
      "209/209 [==============================] - 0s 1ms/step - loss: 5.3139\n",
      "Epoch 29/1000\n",
      "209/209 [==============================] - 0s 2ms/step - loss: 5.3139\n",
      "Epoch 30/1000\n",
      "209/209 [==============================] - 0s 1ms/step - loss: 5.3139\n",
      "Epoch 31/1000\n",
      "209/209 [==============================] - 0s 2ms/step - loss: 5.3139\n",
      "Epoch 32/1000\n",
      "209/209 [==============================] - 0s 2ms/step - loss: 5.3139\n",
      "Epoch 33/1000\n",
      "209/209 [==============================] - 0s 2ms/step - loss: 5.3139\n",
      "Epoch 34/1000\n",
      "209/209 [==============================] - 0s 2ms/step - loss: 5.3139\n",
      "Epoch 35/1000\n",
      "209/209 [==============================] - 0s 1ms/step - loss: 5.3139\n",
      "Epoch 36/1000\n",
      "209/209 [==============================] - 0s 1ms/step - loss: 5.3139\n",
      "Epoch 37/1000\n",
      "209/209 [==============================] - 0s 1ms/step - loss: 5.3139\n",
      "Epoch 38/1000\n",
      "209/209 [==============================] - 0s 2ms/step - loss: 5.3139\n",
      "Epoch 39/1000\n",
      "209/209 [==============================] - 0s 1ms/step - loss: 5.3139\n",
      "Epoch 40/1000\n",
      "209/209 [==============================] - 1s 2ms/step - loss: 5.3139\n",
      "Epoch 41/1000\n",
      "209/209 [==============================] - 0s 2ms/step - loss: 5.3139\n",
      "Epoch 42/1000\n",
      "209/209 [==============================] - 0s 2ms/step - loss: 5.3139\n",
      "Epoch 43/1000\n",
      "209/209 [==============================] - 0s 2ms/step - loss: 5.3139\n",
      "Epoch 44/1000\n",
      "209/209 [==============================] - 0s 2ms/step - loss: 5.3139\n",
      "Epoch 45/1000\n",
      "209/209 [==============================] - 0s 2ms/step - loss: 5.3139\n",
      "Epoch 46/1000\n",
      "209/209 [==============================] - 0s 2ms/step - loss: 5.3139\n",
      "Epoch 47/1000\n",
      "209/209 [==============================] - 0s 2ms/step - loss: 5.3139\n",
      "Epoch 48/1000\n",
      "209/209 [==============================] - 0s 1ms/step - loss: 5.3139\n",
      "Epoch 49/1000\n",
      "209/209 [==============================] - 0s 1ms/step - loss: 5.3139\n",
      "Epoch 50/1000\n",
      "209/209 [==============================] - 0s 2ms/step - loss: 5.3139\n",
      "Epoch 51/1000\n",
      "209/209 [==============================] - 0s 2ms/step - loss: 5.3139\n",
      "Epoch 52/1000\n",
      "209/209 [==============================] - 0s 1ms/step - loss: 5.3139\n",
      "Epoch 53/1000\n",
      "209/209 [==============================] - 0s 1ms/step - loss: 5.3139\n",
      "Epoch 54/1000\n",
      "209/209 [==============================] - 0s 1ms/step - loss: 5.3139\n",
      "Epoch 55/1000\n",
      "209/209 [==============================] - 0s 1ms/step - loss: 5.3139\n",
      "Epoch 56/1000\n",
      "209/209 [==============================] - 0s 1ms/step - loss: 5.3139\n",
      "Epoch 57/1000\n",
      "209/209 [==============================] - 0s 1ms/step - loss: 5.3139\n",
      "Epoch 58/1000\n",
      "209/209 [==============================] - 0s 1ms/step - loss: 5.3139\n",
      "Epoch 59/1000\n",
      "209/209 [==============================] - 0s 1ms/step - loss: 5.3139\n",
      "Epoch 60/1000\n",
      "209/209 [==============================] - 0s 1ms/step - loss: 5.3139\n",
      "Epoch 61/1000\n",
      "209/209 [==============================] - 0s 1ms/step - loss: 5.3139\n",
      "Epoch 62/1000\n",
      "209/209 [==============================] - 0s 1ms/step - loss: 5.3139\n",
      "Epoch 63/1000\n",
      "209/209 [==============================] - 0s 1ms/step - loss: 5.3139\n",
      "Epoch 64/1000\n",
      "209/209 [==============================] - 0s 2ms/step - loss: 5.3139\n",
      "Epoch 65/1000\n",
      "209/209 [==============================] - 0s 2ms/step - loss: 5.3139\n",
      "Epoch 66/1000\n",
      "209/209 [==============================] - 0s 2ms/step - loss: 5.3139\n",
      "Epoch 67/1000\n",
      "209/209 [==============================] - 0s 2ms/step - loss: 5.3139\n",
      "Epoch 68/1000\n",
      "209/209 [==============================] - 0s 2ms/step - loss: 5.3139\n",
      "Epoch 69/1000\n",
      "209/209 [==============================] - 0s 2ms/step - loss: 5.3139\n",
      "Epoch 70/1000\n",
      "209/209 [==============================] - 0s 2ms/step - loss: 5.3139\n",
      "Epoch 71/1000\n",
      "209/209 [==============================] - 0s 2ms/step - loss: 5.3139\n",
      "Epoch 72/1000\n",
      "209/209 [==============================] - 0s 2ms/step - loss: 5.3139\n",
      "Epoch 73/1000\n",
      "209/209 [==============================] - 0s 2ms/step - loss: 5.3139\n",
      "Epoch 74/1000\n",
      "209/209 [==============================] - 0s 1ms/step - loss: 5.3139\n",
      "Epoch 75/1000\n",
      "209/209 [==============================] - 0s 2ms/step - loss: 5.3139\n",
      "Epoch 76/1000\n",
      "209/209 [==============================] - 0s 1ms/step - loss: 5.3139\n",
      "Epoch 77/1000\n",
      "209/209 [==============================] - 0s 2ms/step - loss: 5.3139\n",
      "Epoch 78/1000\n",
      "209/209 [==============================] - 0s 1ms/step - loss: 5.3139\n",
      "Epoch 79/1000\n",
      "209/209 [==============================] - 0s 1ms/step - loss: 5.3139\n",
      "Epoch 80/1000\n",
      "209/209 [==============================] - 0s 1ms/step - loss: 5.3139\n",
      "Epoch 81/1000\n",
      "209/209 [==============================] - 0s 1ms/step - loss: 5.3139\n",
      "Epoch 82/1000\n",
      "209/209 [==============================] - 0s 1ms/step - loss: 5.3139\n",
      "Epoch 83/1000\n",
      "209/209 [==============================] - 0s 1ms/step - loss: 5.3139\n",
      "Epoch 84/1000\n",
      "209/209 [==============================] - 0s 1ms/step - loss: 5.3139\n",
      "Epoch 85/1000\n",
      "209/209 [==============================] - 0s 2ms/step - loss: 5.3139\n",
      "Epoch 86/1000\n",
      "209/209 [==============================] - 0s 1ms/step - loss: 5.3139\n",
      "Epoch 87/1000\n",
      "209/209 [==============================] - 0s 2ms/step - loss: 5.3139\n",
      "Epoch 88/1000\n",
      "209/209 [==============================] - 0s 2ms/step - loss: 5.3139\n",
      "Epoch 89/1000\n",
      "209/209 [==============================] - 0s 2ms/step - loss: 5.3139\n",
      "Epoch 90/1000\n",
      "209/209 [==============================] - 0s 1ms/step - loss: 5.3139\n",
      "Epoch 91/1000\n",
      "209/209 [==============================] - 0s 1ms/step - loss: 5.3139\n",
      "Epoch 92/1000\n",
      "209/209 [==============================] - 0s 1ms/step - loss: 5.3139\n",
      "Epoch 93/1000\n",
      "209/209 [==============================] - 0s 1ms/step - loss: 5.3139\n",
      "Epoch 94/1000\n",
      "209/209 [==============================] - 0s 1ms/step - loss: 5.3139\n",
      "Epoch 95/1000\n",
      "209/209 [==============================] - 0s 1ms/step - loss: 5.3139\n",
      "Epoch 96/1000\n",
      "209/209 [==============================] - 0s 1ms/step - loss: 5.3139\n",
      "Epoch 97/1000\n",
      "209/209 [==============================] - 0s 1ms/step - loss: 5.3139\n",
      "Epoch 98/1000\n",
      "209/209 [==============================] - 0s 1ms/step - loss: 5.3139\n",
      "Epoch 99/1000\n",
      "209/209 [==============================] - 0s 1ms/step - loss: 5.3139\n",
      "Epoch 100/1000\n",
      "209/209 [==============================] - 0s 2ms/step - loss: 5.3139\n",
      "Epoch 101/1000\n",
      "209/209 [==============================] - 0s 1ms/step - loss: 5.3139\n",
      "Epoch 102/1000\n",
      "209/209 [==============================] - 0s 1ms/step - loss: 5.3139\n",
      "Epoch 103/1000\n",
      "209/209 [==============================] - 0s 1ms/step - loss: 5.3139\n",
      "Epoch 104/1000\n",
      "209/209 [==============================] - 0s 1ms/step - loss: 5.3139\n",
      "Epoch 105/1000\n",
      "209/209 [==============================] - 0s 1ms/step - loss: 5.3139\n",
      "Epoch 106/1000\n",
      "209/209 [==============================] - 0s 1ms/step - loss: 5.3139\n",
      "Epoch 107/1000\n",
      "209/209 [==============================] - 0s 1ms/step - loss: 5.3139\n",
      "Epoch 108/1000\n",
      "209/209 [==============================] - 0s 1ms/step - loss: 5.3139\n",
      "Epoch 109/1000\n",
      "209/209 [==============================] - 0s 1ms/step - loss: 5.3139\n",
      "Epoch 110/1000\n",
      "209/209 [==============================] - 0s 1ms/step - loss: 5.3139\n",
      "Epoch 111/1000\n",
      "209/209 [==============================] - 0s 1ms/step - loss: 5.3139\n",
      "Epoch 112/1000\n",
      "209/209 [==============================] - 0s 1ms/step - loss: 5.3139\n",
      "Epoch 113/1000\n",
      "209/209 [==============================] - 0s 1ms/step - loss: 5.3139\n",
      "Epoch 114/1000\n",
      "209/209 [==============================] - 0s 1ms/step - loss: 5.3139\n",
      "Epoch 115/1000\n",
      "209/209 [==============================] - 0s 1ms/step - loss: 5.3139\n",
      "Epoch 116/1000\n",
      "209/209 [==============================] - 0s 1ms/step - loss: 5.3139\n",
      "Epoch 117/1000\n",
      "209/209 [==============================] - 0s 1ms/step - loss: 5.3139\n",
      "Epoch 118/1000\n",
      "209/209 [==============================] - 0s 1ms/step - loss: 5.3139\n",
      "Epoch 119/1000\n",
      "209/209 [==============================] - 0s 1ms/step - loss: 5.3139\n",
      "Epoch 120/1000\n",
      "209/209 [==============================] - 0s 1ms/step - loss: 5.3139\n",
      "Epoch 121/1000\n",
      "209/209 [==============================] - 0s 1ms/step - loss: 5.3139\n",
      "Epoch 122/1000\n",
      "209/209 [==============================] - 0s 2ms/step - loss: 5.3139\n",
      "Epoch 123/1000\n",
      "209/209 [==============================] - 0s 1ms/step - loss: 5.3139\n",
      "Epoch 124/1000\n",
      "209/209 [==============================] - 0s 2ms/step - loss: 5.3139\n",
      "Epoch 125/1000\n",
      "209/209 [==============================] - 0s 1ms/step - loss: 5.3139\n",
      "Epoch 126/1000\n",
      "209/209 [==============================] - 0s 1ms/step - loss: 5.3139\n",
      "Epoch 127/1000\n",
      "209/209 [==============================] - 0s 1ms/step - loss: 5.3139\n",
      "Epoch 128/1000\n",
      "209/209 [==============================] - 0s 1ms/step - loss: 5.3139\n",
      "Epoch 129/1000\n",
      "209/209 [==============================] - 0s 1ms/step - loss: 5.3139\n",
      "Epoch 130/1000\n",
      "209/209 [==============================] - 0s 1ms/step - loss: 5.3139\n",
      "Epoch 131/1000\n",
      "209/209 [==============================] - 0s 1ms/step - loss: 5.3139\n",
      "Epoch 132/1000\n",
      "209/209 [==============================] - 0s 1ms/step - loss: 5.3139\n",
      "Epoch 133/1000\n",
      "209/209 [==============================] - 0s 1ms/step - loss: 5.3139\n",
      "Epoch 134/1000\n",
      "209/209 [==============================] - 0s 1ms/step - loss: 5.3139\n",
      "Epoch 135/1000\n",
      "209/209 [==============================] - 0s 1ms/step - loss: 5.3139\n",
      "Epoch 136/1000\n",
      "209/209 [==============================] - 0s 1ms/step - loss: 5.3139\n",
      "Epoch 137/1000\n",
      "209/209 [==============================] - 0s 1ms/step - loss: 5.3139\n",
      "Epoch 138/1000\n",
      "209/209 [==============================] - 0s 1ms/step - loss: 5.3139\n",
      "Epoch 139/1000\n",
      "209/209 [==============================] - 0s 1ms/step - loss: 5.3139\n",
      "Epoch 140/1000\n",
      "209/209 [==============================] - 0s 1ms/step - loss: 5.3139\n",
      "Epoch 141/1000\n",
      "209/209 [==============================] - 0s 1ms/step - loss: 5.3139\n",
      "Epoch 142/1000\n",
      "209/209 [==============================] - 0s 1ms/step - loss: 5.3139\n",
      "Epoch 143/1000\n",
      "209/209 [==============================] - 0s 1ms/step - loss: 5.3139\n",
      "Epoch 144/1000\n",
      "209/209 [==============================] - 0s 1ms/step - loss: 5.3139\n",
      "Epoch 145/1000\n",
      "209/209 [==============================] - 0s 1ms/step - loss: 5.3139\n",
      "Epoch 146/1000\n",
      "209/209 [==============================] - 0s 1ms/step - loss: 5.3139\n",
      "Epoch 147/1000\n",
      "209/209 [==============================] - 0s 1ms/step - loss: 5.3139\n",
      "Epoch 148/1000\n",
      "209/209 [==============================] - 0s 1ms/step - loss: 5.3139\n",
      "Epoch 149/1000\n",
      "209/209 [==============================] - 0s 1ms/step - loss: 5.3139\n",
      "Epoch 150/1000\n",
      "209/209 [==============================] - 0s 1ms/step - loss: 5.3139\n",
      "Epoch 151/1000\n",
      "209/209 [==============================] - 0s 1ms/step - loss: 5.3139\n",
      "Epoch 152/1000\n",
      "209/209 [==============================] - 0s 1ms/step - loss: 5.3139\n",
      "Epoch 153/1000\n",
      "209/209 [==============================] - 0s 1ms/step - loss: 5.3139\n",
      "Epoch 154/1000\n",
      "209/209 [==============================] - 0s 1ms/step - loss: 5.3139\n",
      "Epoch 155/1000\n",
      "209/209 [==============================] - 0s 1ms/step - loss: 5.3139\n",
      "Epoch 156/1000\n",
      "209/209 [==============================] - 0s 1ms/step - loss: 5.3139\n",
      "Epoch 157/1000\n",
      "209/209 [==============================] - 0s 2ms/step - loss: 5.3139\n",
      "Epoch 158/1000\n",
      "209/209 [==============================] - 0s 1ms/step - loss: 5.3139\n",
      "Epoch 159/1000\n",
      "209/209 [==============================] - 0s 1ms/step - loss: 5.3139\n",
      "Epoch 160/1000\n",
      "209/209 [==============================] - 0s 1ms/step - loss: 5.3139\n",
      "Epoch 161/1000\n",
      "209/209 [==============================] - 0s 1ms/step - loss: 5.3139\n",
      "Epoch 162/1000\n",
      "209/209 [==============================] - 0s 1ms/step - loss: 5.3139\n",
      "Epoch 163/1000\n",
      "209/209 [==============================] - 0s 1ms/step - loss: 5.3139\n",
      "Epoch 164/1000\n",
      "209/209 [==============================] - 0s 1ms/step - loss: 5.3139\n",
      "Epoch 165/1000\n",
      "209/209 [==============================] - 0s 1ms/step - loss: 5.3139\n",
      "Epoch 166/1000\n",
      "209/209 [==============================] - 0s 1ms/step - loss: 5.3139\n",
      "Epoch 167/1000\n",
      "209/209 [==============================] - 0s 1ms/step - loss: 5.3139\n",
      "Epoch 168/1000\n",
      "209/209 [==============================] - 0s 1ms/step - loss: 5.3139\n",
      "Epoch 169/1000\n",
      "209/209 [==============================] - 0s 1ms/step - loss: 5.3139\n",
      "Epoch 170/1000\n",
      "209/209 [==============================] - 0s 1ms/step - loss: 5.3139\n",
      "Epoch 171/1000\n",
      "209/209 [==============================] - 0s 1ms/step - loss: 5.3139\n",
      "Epoch 172/1000\n",
      "209/209 [==============================] - 0s 1ms/step - loss: 5.3139\n",
      "Epoch 173/1000\n",
      "209/209 [==============================] - 0s 1ms/step - loss: 5.3139\n",
      "Epoch 174/1000\n",
      "209/209 [==============================] - 0s 1ms/step - loss: 5.3139\n",
      "Epoch 175/1000\n",
      "209/209 [==============================] - 0s 1ms/step - loss: 5.3139\n",
      "Epoch 176/1000\n",
      "209/209 [==============================] - 0s 1ms/step - loss: 5.3139\n",
      "Epoch 177/1000\n",
      "209/209 [==============================] - 0s 1ms/step - loss: 5.3139\n",
      "Epoch 178/1000\n",
      "209/209 [==============================] - 0s 1ms/step - loss: 5.3139\n",
      "Epoch 179/1000\n",
      "209/209 [==============================] - 0s 1ms/step - loss: 5.3139\n",
      "Epoch 180/1000\n",
      "209/209 [==============================] - 0s 1ms/step - loss: 5.3139\n",
      "Epoch 181/1000\n",
      "209/209 [==============================] - 0s 1ms/step - loss: 5.3139\n",
      "Epoch 182/1000\n",
      "209/209 [==============================] - 0s 1ms/step - loss: 5.3139\n",
      "Epoch 183/1000\n",
      "209/209 [==============================] - 0s 1ms/step - loss: 5.3139\n",
      "Epoch 184/1000\n",
      "209/209 [==============================] - 0s 1ms/step - loss: 5.3139\n",
      "Epoch 185/1000\n",
      "209/209 [==============================] - 0s 1ms/step - loss: 5.3139\n",
      "Epoch 186/1000\n",
      "209/209 [==============================] - 0s 1ms/step - loss: 5.3139\n",
      "Epoch 187/1000\n",
      "209/209 [==============================] - 0s 1ms/step - loss: 5.3139\n",
      "Epoch 188/1000\n",
      "209/209 [==============================] - 0s 1ms/step - loss: 5.3139\n",
      "Epoch 189/1000\n",
      "209/209 [==============================] - 0s 1ms/step - loss: 5.3139\n",
      "Epoch 190/1000\n",
      "209/209 [==============================] - 0s 1ms/step - loss: 5.3139\n",
      "Epoch 191/1000\n",
      "209/209 [==============================] - 0s 2ms/step - loss: 5.3139\n",
      "Epoch 192/1000\n",
      "209/209 [==============================] - 0s 1ms/step - loss: 5.3139\n",
      "Epoch 193/1000\n",
      "209/209 [==============================] - 0s 1ms/step - loss: 5.3139\n",
      "Epoch 194/1000\n",
      "209/209 [==============================] - 0s 1ms/step - loss: 5.3139\n",
      "Epoch 195/1000\n",
      "209/209 [==============================] - 0s 1ms/step - loss: 5.3139\n",
      "Epoch 196/1000\n",
      "209/209 [==============================] - 0s 1ms/step - loss: 5.3139\n",
      "Epoch 197/1000\n",
      "209/209 [==============================] - 0s 1ms/step - loss: 5.3139\n",
      "Epoch 198/1000\n",
      "209/209 [==============================] - 0s 1ms/step - loss: 5.3139\n",
      "Epoch 199/1000\n",
      "209/209 [==============================] - 0s 1ms/step - loss: 5.3139\n",
      "Epoch 200/1000\n",
      "209/209 [==============================] - 0s 1ms/step - loss: 5.3139\n",
      "Epoch 201/1000\n",
      "209/209 [==============================] - 0s 1ms/step - loss: 5.3139\n",
      "Epoch 202/1000\n",
      "209/209 [==============================] - 0s 1ms/step - loss: 5.3139\n",
      "Epoch 203/1000\n",
      "209/209 [==============================] - 0s 1ms/step - loss: 5.3139\n",
      "Epoch 204/1000\n",
      "209/209 [==============================] - 0s 1ms/step - loss: 5.3139\n",
      "Epoch 205/1000\n",
      "209/209 [==============================] - 0s 1ms/step - loss: 5.3139\n",
      "Epoch 206/1000\n",
      "209/209 [==============================] - 0s 1ms/step - loss: 5.3139\n",
      "Epoch 207/1000\n",
      "209/209 [==============================] - 0s 1ms/step - loss: 5.3139\n",
      "Epoch 208/1000\n",
      "209/209 [==============================] - 0s 1ms/step - loss: 5.3139\n",
      "Epoch 209/1000\n",
      "209/209 [==============================] - 0s 1ms/step - loss: 5.3139\n",
      "Epoch 210/1000\n",
      "209/209 [==============================] - 0s 1ms/step - loss: 5.3139\n",
      "Epoch 211/1000\n",
      "209/209 [==============================] - 0s 1ms/step - loss: 5.3139\n",
      "Epoch 212/1000\n",
      "209/209 [==============================] - 0s 1ms/step - loss: 5.3139\n",
      "Epoch 213/1000\n",
      "209/209 [==============================] - 0s 1ms/step - loss: 5.3139\n",
      "Epoch 214/1000\n",
      "209/209 [==============================] - 0s 1ms/step - loss: 5.3139\n",
      "Epoch 215/1000\n",
      "209/209 [==============================] - 0s 1ms/step - loss: 5.3139\n",
      "Epoch 216/1000\n",
      "209/209 [==============================] - 0s 1ms/step - loss: 5.3139\n",
      "Epoch 217/1000\n",
      "209/209 [==============================] - 0s 1ms/step - loss: 5.3139\n",
      "Epoch 218/1000\n",
      "209/209 [==============================] - 0s 1ms/step - loss: 5.3139\n",
      "Epoch 219/1000\n",
      "209/209 [==============================] - 0s 1ms/step - loss: 5.3139\n",
      "Epoch 220/1000\n",
      "209/209 [==============================] - 0s 2ms/step - loss: 5.3139\n",
      "Epoch 221/1000\n",
      "209/209 [==============================] - 0s 1ms/step - loss: 5.3139\n",
      "Epoch 222/1000\n",
      "209/209 [==============================] - 0s 1ms/step - loss: 5.3139\n",
      "Epoch 223/1000\n",
      "209/209 [==============================] - 0s 1ms/step - loss: 5.3139\n",
      "Epoch 224/1000\n",
      "209/209 [==============================] - 0s 1ms/step - loss: 5.3139\n",
      "Epoch 225/1000\n",
      "209/209 [==============================] - 0s 1ms/step - loss: 5.3139\n",
      "Epoch 226/1000\n",
      "209/209 [==============================] - 0s 1ms/step - loss: 5.3139\n",
      "Epoch 227/1000\n",
      "209/209 [==============================] - 0s 1ms/step - loss: 5.3139\n",
      "Epoch 228/1000\n",
      "209/209 [==============================] - 0s 1ms/step - loss: 5.3139\n",
      "Epoch 229/1000\n",
      "209/209 [==============================] - 0s 1ms/step - loss: 5.3139\n",
      "Epoch 230/1000\n",
      "209/209 [==============================] - 0s 1ms/step - loss: 5.3139\n",
      "Epoch 231/1000\n",
      "209/209 [==============================] - 0s 1ms/step - loss: 5.3139\n",
      "Epoch 232/1000\n",
      "209/209 [==============================] - 0s 1ms/step - loss: 5.3139\n",
      "Epoch 233/1000\n",
      "209/209 [==============================] - 0s 1ms/step - loss: 5.3139\n",
      "Epoch 234/1000\n",
      "209/209 [==============================] - 0s 1ms/step - loss: 5.3139\n",
      "Epoch 235/1000\n",
      "209/209 [==============================] - 0s 1ms/step - loss: 5.3139\n",
      "Epoch 236/1000\n",
      "209/209 [==============================] - 0s 1ms/step - loss: 5.3139\n",
      "Epoch 237/1000\n",
      "209/209 [==============================] - 0s 1ms/step - loss: 5.3139\n",
      "Epoch 238/1000\n",
      "209/209 [==============================] - 0s 2ms/step - loss: 5.3139\n",
      "Epoch 239/1000\n",
      "209/209 [==============================] - 0s 1ms/step - loss: 5.3139\n",
      "Epoch 240/1000\n",
      "209/209 [==============================] - 0s 2ms/step - loss: 5.3139\n",
      "Epoch 241/1000\n",
      "209/209 [==============================] - 0s 2ms/step - loss: 5.3139\n",
      "Epoch 242/1000\n",
      "209/209 [==============================] - 0s 2ms/step - loss: 5.3139\n",
      "Epoch 243/1000\n",
      "209/209 [==============================] - 0s 1ms/step - loss: 5.3139\n",
      "Epoch 244/1000\n",
      "209/209 [==============================] - 0s 1ms/step - loss: 5.3139\n",
      "Epoch 245/1000\n",
      "209/209 [==============================] - 0s 1ms/step - loss: 5.3139\n",
      "Epoch 246/1000\n",
      "209/209 [==============================] - 0s 2ms/step - loss: 5.3139\n",
      "Epoch 247/1000\n",
      "209/209 [==============================] - 0s 1ms/step - loss: 5.3139\n",
      "Epoch 248/1000\n",
      "209/209 [==============================] - 0s 1ms/step - loss: 5.3139\n",
      "Epoch 249/1000\n",
      "209/209 [==============================] - 0s 1ms/step - loss: 5.3139\n",
      "Epoch 250/1000\n",
      "209/209 [==============================] - 0s 1ms/step - loss: 5.3139\n",
      "Epoch 251/1000\n",
      "209/209 [==============================] - 0s 1ms/step - loss: 5.3139\n",
      "Epoch 252/1000\n",
      "209/209 [==============================] - 0s 1ms/step - loss: 5.3139\n",
      "Epoch 253/1000\n",
      "209/209 [==============================] - 0s 1ms/step - loss: 5.3139\n",
      "Epoch 254/1000\n",
      "209/209 [==============================] - 0s 1ms/step - loss: 5.3139\n",
      "Epoch 255/1000\n",
      "209/209 [==============================] - 0s 1ms/step - loss: 5.3139\n",
      "Epoch 256/1000\n",
      "209/209 [==============================] - 0s 1ms/step - loss: 5.3139\n",
      "Epoch 257/1000\n",
      "209/209 [==============================] - 0s 1ms/step - loss: 5.3139\n",
      "Epoch 258/1000\n",
      "209/209 [==============================] - 0s 1ms/step - loss: 5.3139\n",
      "Epoch 259/1000\n",
      "209/209 [==============================] - 0s 1ms/step - loss: 5.3139\n",
      "Epoch 260/1000\n",
      "209/209 [==============================] - 0s 1ms/step - loss: 5.3139\n",
      "Epoch 261/1000\n",
      "209/209 [==============================] - 0s 1ms/step - loss: 5.3139\n",
      "Epoch 262/1000\n",
      "209/209 [==============================] - 0s 1ms/step - loss: 5.3139\n",
      "Epoch 263/1000\n",
      "209/209 [==============================] - 0s 1ms/step - loss: 5.3139\n",
      "Epoch 264/1000\n",
      "209/209 [==============================] - 0s 1ms/step - loss: 5.3139\n",
      "Epoch 265/1000\n",
      "209/209 [==============================] - 0s 2ms/step - loss: 5.3139\n",
      "Epoch 266/1000\n",
      "209/209 [==============================] - 0s 1ms/step - loss: 5.3139\n",
      "Epoch 267/1000\n",
      "209/209 [==============================] - 0s 1ms/step - loss: 5.3139\n",
      "Epoch 268/1000\n",
      "209/209 [==============================] - 0s 1ms/step - loss: 5.3139\n",
      "Epoch 269/1000\n",
      "209/209 [==============================] - 0s 2ms/step - loss: 5.3139\n",
      "Epoch 270/1000\n",
      "209/209 [==============================] - 0s 1ms/step - loss: 5.3139\n",
      "Epoch 271/1000\n",
      "209/209 [==============================] - 0s 1ms/step - loss: 5.3139\n",
      "Epoch 272/1000\n",
      "209/209 [==============================] - 0s 1ms/step - loss: 5.3139\n",
      "Epoch 273/1000\n",
      "209/209 [==============================] - 0s 1ms/step - loss: 5.3139\n",
      "Epoch 274/1000\n",
      "209/209 [==============================] - 0s 2ms/step - loss: 5.3139\n",
      "Epoch 275/1000\n",
      "209/209 [==============================] - 0s 1ms/step - loss: 5.3139\n",
      "Epoch 276/1000\n",
      "209/209 [==============================] - 0s 1ms/step - loss: 5.3139\n",
      "Epoch 277/1000\n",
      "209/209 [==============================] - 0s 1ms/step - loss: 5.3139\n",
      "Epoch 278/1000\n",
      "209/209 [==============================] - 0s 1ms/step - loss: 5.3139\n",
      "Epoch 279/1000\n",
      "209/209 [==============================] - 0s 1ms/step - loss: 5.3139\n",
      "Epoch 280/1000\n",
      "209/209 [==============================] - 0s 1ms/step - loss: 5.3139\n",
      "Epoch 281/1000\n",
      "209/209 [==============================] - 0s 1ms/step - loss: 5.3139\n",
      "Epoch 282/1000\n",
      "209/209 [==============================] - 0s 1ms/step - loss: 5.3139\n",
      "Epoch 283/1000\n",
      "209/209 [==============================] - 0s 1ms/step - loss: 5.3139\n",
      "Epoch 284/1000\n",
      "209/209 [==============================] - 0s 1ms/step - loss: 5.3139\n",
      "Epoch 285/1000\n",
      "209/209 [==============================] - 0s 1ms/step - loss: 5.3139\n",
      "Epoch 286/1000\n",
      "209/209 [==============================] - 0s 1ms/step - loss: 5.3139\n",
      "Epoch 287/1000\n",
      "209/209 [==============================] - 0s 1ms/step - loss: 5.3139\n",
      "Epoch 288/1000\n",
      "209/209 [==============================] - 0s 2ms/step - loss: 5.3139\n",
      "Epoch 289/1000\n",
      "209/209 [==============================] - 0s 1ms/step - loss: 5.3139\n",
      "Epoch 290/1000\n",
      "209/209 [==============================] - 0s 1ms/step - loss: 5.3139\n",
      "Epoch 291/1000\n",
      "209/209 [==============================] - 0s 1ms/step - loss: 5.3139\n",
      "Epoch 292/1000\n",
      "209/209 [==============================] - 0s 1ms/step - loss: 5.3139\n",
      "Epoch 293/1000\n",
      "209/209 [==============================] - 0s 1ms/step - loss: 5.3139\n",
      "Epoch 294/1000\n",
      "209/209 [==============================] - 0s 1ms/step - loss: 5.3139\n",
      "Epoch 295/1000\n",
      "209/209 [==============================] - 0s 1ms/step - loss: 5.3139\n",
      "Epoch 296/1000\n",
      "209/209 [==============================] - 0s 1ms/step - loss: 5.3139\n",
      "Epoch 297/1000\n",
      "209/209 [==============================] - 0s 1ms/step - loss: 5.3139\n",
      "Epoch 298/1000\n",
      "209/209 [==============================] - 0s 1ms/step - loss: 5.3139\n",
      "Epoch 299/1000\n",
      "209/209 [==============================] - 0s 1ms/step - loss: 5.3139\n",
      "Epoch 300/1000\n",
      "209/209 [==============================] - 0s 1ms/step - loss: 5.3139\n",
      "Epoch 301/1000\n",
      "209/209 [==============================] - 0s 1ms/step - loss: 5.3139\n",
      "Epoch 302/1000\n",
      "209/209 [==============================] - 0s 1ms/step - loss: 5.3139\n",
      "Epoch 303/1000\n",
      "209/209 [==============================] - 0s 1ms/step - loss: 5.3139\n",
      "Epoch 304/1000\n",
      "209/209 [==============================] - 0s 2ms/step - loss: 5.3139\n",
      "Epoch 305/1000\n",
      "209/209 [==============================] - 0s 2ms/step - loss: 5.3139\n",
      "Epoch 306/1000\n",
      "209/209 [==============================] - 0s 1ms/step - loss: 5.3139\n",
      "Epoch 307/1000\n",
      "209/209 [==============================] - 0s 2ms/step - loss: 5.3139\n",
      "Epoch 308/1000\n",
      "209/209 [==============================] - 0s 1ms/step - loss: 5.3139\n",
      "Epoch 309/1000\n",
      "209/209 [==============================] - 0s 1ms/step - loss: 5.3139\n",
      "Epoch 310/1000\n",
      "209/209 [==============================] - 0s 1ms/step - loss: 5.3139\n",
      "Epoch 311/1000\n",
      "209/209 [==============================] - 0s 1ms/step - loss: 5.3139\n",
      "Epoch 312/1000\n",
      "209/209 [==============================] - 0s 1ms/step - loss: 5.3139\n",
      "Epoch 313/1000\n",
      "209/209 [==============================] - 0s 1ms/step - loss: 5.3139\n",
      "Epoch 314/1000\n",
      "209/209 [==============================] - 0s 1ms/step - loss: 5.3139\n",
      "Epoch 315/1000\n",
      "209/209 [==============================] - 0s 2ms/step - loss: 5.3139\n",
      "Epoch 316/1000\n",
      "209/209 [==============================] - 0s 1ms/step - loss: 5.3139\n",
      "Epoch 317/1000\n",
      "209/209 [==============================] - 0s 2ms/step - loss: 5.3139\n",
      "Epoch 318/1000\n",
      "209/209 [==============================] - 0s 1ms/step - loss: 5.3139\n",
      "Epoch 319/1000\n",
      "209/209 [==============================] - 0s 1ms/step - loss: 5.3139\n",
      "Epoch 320/1000\n",
      "209/209 [==============================] - 0s 1ms/step - loss: 5.3139\n",
      "Epoch 321/1000\n",
      "209/209 [==============================] - 0s 1ms/step - loss: 5.3139\n",
      "Epoch 322/1000\n",
      "209/209 [==============================] - 0s 1ms/step - loss: 5.3139\n",
      "Epoch 323/1000\n",
      "209/209 [==============================] - 0s 1ms/step - loss: 5.3139\n",
      "Epoch 324/1000\n",
      "209/209 [==============================] - 0s 1ms/step - loss: 5.3139\n",
      "Epoch 325/1000\n",
      "209/209 [==============================] - 0s 1ms/step - loss: 5.3139\n",
      "Epoch 326/1000\n",
      "209/209 [==============================] - 0s 1ms/step - loss: 5.3139\n",
      "Epoch 327/1000\n",
      "209/209 [==============================] - 0s 1ms/step - loss: 5.3139\n",
      "Epoch 328/1000\n",
      "209/209 [==============================] - 0s 1ms/step - loss: 5.3139\n",
      "Epoch 329/1000\n",
      "209/209 [==============================] - 0s 1ms/step - loss: 5.3139\n",
      "Epoch 330/1000\n",
      "209/209 [==============================] - 0s 1ms/step - loss: 5.3139\n",
      "Epoch 331/1000\n",
      "209/209 [==============================] - 0s 1ms/step - loss: 5.3139\n",
      "Epoch 332/1000\n",
      "209/209 [==============================] - 0s 1ms/step - loss: 5.3139\n",
      "Epoch 333/1000\n",
      "209/209 [==============================] - 0s 2ms/step - loss: 5.3139\n",
      "Epoch 334/1000\n",
      "209/209 [==============================] - 0s 1ms/step - loss: 5.3139\n",
      "Epoch 335/1000\n",
      "209/209 [==============================] - 0s 1ms/step - loss: 5.3139\n",
      "Epoch 336/1000\n",
      "209/209 [==============================] - 0s 1ms/step - loss: 5.3139\n",
      "Epoch 337/1000\n",
      "209/209 [==============================] - 0s 1ms/step - loss: 5.3139\n",
      "Epoch 338/1000\n",
      "209/209 [==============================] - 0s 1ms/step - loss: 5.3139\n",
      "Epoch 339/1000\n",
      "209/209 [==============================] - 0s 1ms/step - loss: 5.3139\n",
      "Epoch 340/1000\n",
      "209/209 [==============================] - 0s 1ms/step - loss: 5.3139\n",
      "Epoch 341/1000\n",
      "209/209 [==============================] - 0s 1ms/step - loss: 5.3139\n",
      "Epoch 342/1000\n",
      "209/209 [==============================] - 0s 1ms/step - loss: 5.3139\n",
      "Epoch 343/1000\n",
      "209/209 [==============================] - 0s 1ms/step - loss: 5.3139\n",
      "Epoch 344/1000\n",
      "209/209 [==============================] - 0s 1ms/step - loss: 5.3139\n",
      "Epoch 345/1000\n",
      "209/209 [==============================] - 0s 1ms/step - loss: 5.3139\n",
      "Epoch 346/1000\n",
      "209/209 [==============================] - 0s 1ms/step - loss: 5.3139\n",
      "Epoch 347/1000\n",
      "209/209 [==============================] - 0s 1ms/step - loss: 5.3139\n",
      "Epoch 348/1000\n",
      "209/209 [==============================] - 0s 1ms/step - loss: 5.3139\n",
      "Epoch 349/1000\n",
      "209/209 [==============================] - 0s 1ms/step - loss: 5.3139\n",
      "Epoch 350/1000\n",
      "209/209 [==============================] - 0s 1ms/step - loss: 5.3139\n",
      "Epoch 351/1000\n",
      "209/209 [==============================] - 0s 1ms/step - loss: 5.3139\n",
      "Epoch 352/1000\n",
      "209/209 [==============================] - 0s 2ms/step - loss: 5.3139\n",
      "Epoch 353/1000\n",
      "209/209 [==============================] - 0s 2ms/step - loss: 5.3139\n",
      "Epoch 354/1000\n",
      "209/209 [==============================] - 0s 1ms/step - loss: 5.3139\n",
      "Epoch 355/1000\n",
      "209/209 [==============================] - 0s 1ms/step - loss: 5.3139\n",
      "Epoch 356/1000\n",
      "209/209 [==============================] - 0s 1ms/step - loss: 5.3139\n",
      "Epoch 357/1000\n",
      "209/209 [==============================] - 0s 1ms/step - loss: 5.3139\n",
      "Epoch 358/1000\n",
      "209/209 [==============================] - 0s 1ms/step - loss: 5.3139\n",
      "Epoch 359/1000\n",
      "209/209 [==============================] - 0s 1ms/step - loss: 5.3139\n",
      "Epoch 360/1000\n",
      "209/209 [==============================] - 0s 1ms/step - loss: 5.3139\n",
      "Epoch 361/1000\n",
      "209/209 [==============================] - 0s 1ms/step - loss: 5.3139\n",
      "Epoch 362/1000\n",
      "209/209 [==============================] - 0s 1ms/step - loss: 5.3139\n",
      "Epoch 363/1000\n",
      "209/209 [==============================] - 0s 2ms/step - loss: 5.3139\n",
      "Epoch 364/1000\n",
      "209/209 [==============================] - 0s 2ms/step - loss: 5.3139\n",
      "Epoch 365/1000\n",
      "209/209 [==============================] - 0s 1ms/step - loss: 5.3139\n",
      "Epoch 366/1000\n",
      "209/209 [==============================] - 0s 1ms/step - loss: 5.3139\n",
      "Epoch 367/1000\n",
      "209/209 [==============================] - 0s 1ms/step - loss: 5.3139\n",
      "Epoch 368/1000\n",
      "209/209 [==============================] - 0s 1ms/step - loss: 5.3139\n",
      "Epoch 369/1000\n",
      "209/209 [==============================] - 0s 1ms/step - loss: 5.3139\n",
      "Epoch 370/1000\n",
      "209/209 [==============================] - 0s 1ms/step - loss: 5.3139\n",
      "Epoch 371/1000\n",
      "209/209 [==============================] - 0s 1ms/step - loss: 5.3139\n",
      "Epoch 372/1000\n",
      "209/209 [==============================] - 0s 1ms/step - loss: 5.3139\n",
      "Epoch 373/1000\n",
      "209/209 [==============================] - 0s 2ms/step - loss: 5.3139\n",
      "Epoch 374/1000\n",
      "209/209 [==============================] - 0s 1ms/step - loss: 5.3139\n",
      "Epoch 375/1000\n",
      "209/209 [==============================] - 0s 1ms/step - loss: 5.3139\n",
      "Epoch 376/1000\n",
      "209/209 [==============================] - 0s 1ms/step - loss: 5.3139\n",
      "Epoch 377/1000\n",
      "209/209 [==============================] - 0s 1ms/step - loss: 5.3139\n",
      "Epoch 378/1000\n",
      "209/209 [==============================] - 0s 1ms/step - loss: 5.3139\n",
      "Epoch 379/1000\n",
      "209/209 [==============================] - 0s 1ms/step - loss: 5.3139\n",
      "Epoch 380/1000\n",
      "209/209 [==============================] - 0s 1ms/step - loss: 5.3139\n",
      "Epoch 381/1000\n",
      "209/209 [==============================] - 0s 1ms/step - loss: 5.3139\n",
      "Epoch 382/1000\n",
      "209/209 [==============================] - 0s 1ms/step - loss: 5.3139\n",
      "Epoch 383/1000\n",
      "209/209 [==============================] - 0s 1ms/step - loss: 5.3139\n",
      "Epoch 384/1000\n",
      "209/209 [==============================] - 0s 1ms/step - loss: 5.3139\n",
      "Epoch 385/1000\n",
      "209/209 [==============================] - 0s 1ms/step - loss: 5.3139\n",
      "Epoch 386/1000\n",
      "209/209 [==============================] - 0s 1ms/step - loss: 5.3139\n",
      "Epoch 387/1000\n",
      "209/209 [==============================] - 0s 1ms/step - loss: 5.3139\n",
      "Epoch 388/1000\n",
      "209/209 [==============================] - 0s 1ms/step - loss: 5.3139\n",
      "Epoch 389/1000\n",
      "209/209 [==============================] - 0s 1ms/step - loss: 5.3139\n",
      "Epoch 390/1000\n",
      "209/209 [==============================] - 0s 2ms/step - loss: 5.3139\n",
      "Epoch 391/1000\n",
      "209/209 [==============================] - 0s 1ms/step - loss: 5.3139\n",
      "Epoch 392/1000\n",
      "209/209 [==============================] - 0s 1ms/step - loss: 5.3139\n",
      "Epoch 393/1000\n",
      "209/209 [==============================] - 0s 1ms/step - loss: 5.3139\n",
      "Epoch 394/1000\n",
      "209/209 [==============================] - 0s 1ms/step - loss: 5.3139\n",
      "Epoch 395/1000\n",
      "209/209 [==============================] - 0s 1ms/step - loss: 5.3139\n",
      "Epoch 396/1000\n",
      "209/209 [==============================] - 0s 1ms/step - loss: 5.3139\n",
      "Epoch 397/1000\n",
      "209/209 [==============================] - 0s 1ms/step - loss: 5.3139\n",
      "Epoch 398/1000\n",
      "209/209 [==============================] - 0s 1ms/step - loss: 5.3139\n",
      "Epoch 399/1000\n",
      "209/209 [==============================] - 0s 1ms/step - loss: 5.3139\n",
      "Epoch 400/1000\n",
      "209/209 [==============================] - 0s 1ms/step - loss: 5.3139\n",
      "Epoch 401/1000\n",
      "209/209 [==============================] - 0s 1ms/step - loss: 5.3139\n",
      "Epoch 402/1000\n",
      "209/209 [==============================] - 0s 1ms/step - loss: 5.3139\n",
      "Epoch 403/1000\n",
      "209/209 [==============================] - 0s 1ms/step - loss: 5.3139\n",
      "Epoch 404/1000\n",
      "209/209 [==============================] - 0s 1ms/step - loss: 5.3139\n",
      "Epoch 405/1000\n",
      "209/209 [==============================] - 0s 1ms/step - loss: 5.3139\n",
      "Epoch 406/1000\n",
      "209/209 [==============================] - 0s 1ms/step - loss: 5.3139\n",
      "Epoch 407/1000\n",
      "209/209 [==============================] - 0s 1ms/step - loss: 5.3139\n",
      "Epoch 408/1000\n",
      "209/209 [==============================] - 0s 1ms/step - loss: 5.3139\n",
      "Epoch 409/1000\n",
      "209/209 [==============================] - 0s 1ms/step - loss: 5.3139\n",
      "Epoch 410/1000\n",
      "209/209 [==============================] - 0s 2ms/step - loss: 5.3139\n",
      "Epoch 411/1000\n",
      "209/209 [==============================] - 0s 1ms/step - loss: 5.3139\n",
      "Epoch 412/1000\n",
      "209/209 [==============================] - 0s 1ms/step - loss: 5.3139\n",
      "Epoch 413/1000\n",
      "209/209 [==============================] - 0s 1ms/step - loss: 5.3139\n",
      "Epoch 414/1000\n",
      "209/209 [==============================] - 0s 1ms/step - loss: 5.3139\n",
      "Epoch 415/1000\n",
      "209/209 [==============================] - 0s 1ms/step - loss: 5.3139\n",
      "Epoch 416/1000\n",
      "209/209 [==============================] - 0s 1ms/step - loss: 5.3139\n",
      "Epoch 417/1000\n",
      "209/209 [==============================] - 0s 1ms/step - loss: 5.3139\n",
      "Epoch 418/1000\n",
      "209/209 [==============================] - 0s 1ms/step - loss: 5.3139\n",
      "Epoch 419/1000\n",
      "209/209 [==============================] - 0s 1ms/step - loss: 5.3139\n",
      "Epoch 420/1000\n",
      "209/209 [==============================] - 0s 1ms/step - loss: 5.3139\n",
      "Epoch 421/1000\n",
      "209/209 [==============================] - 0s 1ms/step - loss: 5.3139\n",
      "Epoch 422/1000\n",
      "209/209 [==============================] - 0s 2ms/step - loss: 5.3139\n",
      "Epoch 423/1000\n",
      "209/209 [==============================] - 0s 2ms/step - loss: 5.3139\n",
      "Epoch 424/1000\n",
      "209/209 [==============================] - 0s 1ms/step - loss: 5.3139\n",
      "Epoch 425/1000\n",
      "209/209 [==============================] - 0s 1ms/step - loss: 5.3139\n",
      "Epoch 426/1000\n",
      "209/209 [==============================] - 0s 2ms/step - loss: 5.3139\n",
      "Epoch 427/1000\n",
      "209/209 [==============================] - 0s 1ms/step - loss: 5.3139\n",
      "Epoch 428/1000\n",
      "209/209 [==============================] - 0s 1ms/step - loss: 5.3139\n",
      "Epoch 429/1000\n",
      "209/209 [==============================] - 0s 1ms/step - loss: 5.3139\n",
      "Epoch 430/1000\n",
      "209/209 [==============================] - 0s 1ms/step - loss: 5.3139\n",
      "Epoch 431/1000\n",
      "209/209 [==============================] - 0s 1ms/step - loss: 5.3139\n",
      "Epoch 432/1000\n",
      "209/209 [==============================] - 0s 1ms/step - loss: 5.3139\n",
      "Epoch 433/1000\n",
      "209/209 [==============================] - 0s 1ms/step - loss: 5.3139\n",
      "Epoch 434/1000\n",
      "209/209 [==============================] - 0s 1ms/step - loss: 5.3139\n",
      "Epoch 435/1000\n",
      "209/209 [==============================] - 0s 1ms/step - loss: 5.3139\n",
      "Epoch 436/1000\n",
      "209/209 [==============================] - 0s 1ms/step - loss: 5.3139\n",
      "Epoch 437/1000\n",
      "209/209 [==============================] - 0s 1ms/step - loss: 5.3139\n",
      "Epoch 438/1000\n",
      "209/209 [==============================] - 0s 1ms/step - loss: 5.3139\n",
      "Epoch 439/1000\n",
      "209/209 [==============================] - 0s 1ms/step - loss: 5.3139\n",
      "Epoch 440/1000\n",
      "209/209 [==============================] - 0s 1ms/step - loss: 5.3139\n",
      "Epoch 441/1000\n",
      "209/209 [==============================] - 0s 1ms/step - loss: 5.3139\n",
      "Epoch 442/1000\n",
      "209/209 [==============================] - 0s 1ms/step - loss: 5.3139\n",
      "Epoch 443/1000\n",
      "209/209 [==============================] - 0s 1ms/step - loss: 5.3139\n",
      "Epoch 444/1000\n",
      "209/209 [==============================] - 0s 2ms/step - loss: 5.3139\n",
      "Epoch 445/1000\n",
      "209/209 [==============================] - 0s 1ms/step - loss: 5.3139\n",
      "Epoch 446/1000\n",
      "209/209 [==============================] - 0s 1ms/step - loss: 5.3139\n",
      "Epoch 447/1000\n",
      "209/209 [==============================] - 0s 1ms/step - loss: 5.3139\n",
      "Epoch 448/1000\n",
      "209/209 [==============================] - 0s 2ms/step - loss: 5.3139\n",
      "Epoch 449/1000\n",
      "209/209 [==============================] - 0s 1ms/step - loss: 5.3139\n",
      "Epoch 450/1000\n",
      "209/209 [==============================] - 0s 1ms/step - loss: 5.3139\n",
      "Epoch 451/1000\n",
      "209/209 [==============================] - 0s 1ms/step - loss: 5.3139\n",
      "Epoch 452/1000\n",
      "209/209 [==============================] - 0s 1ms/step - loss: 5.3139\n",
      "Epoch 453/1000\n",
      "209/209 [==============================] - 0s 1ms/step - loss: 5.3139\n",
      "Epoch 454/1000\n",
      "209/209 [==============================] - 0s 1ms/step - loss: 5.3139\n",
      "Epoch 455/1000\n",
      "209/209 [==============================] - 0s 1ms/step - loss: 5.3139\n",
      "Epoch 456/1000\n",
      "209/209 [==============================] - 0s 1ms/step - loss: 5.3139\n",
      "Epoch 457/1000\n",
      "209/209 [==============================] - 0s 1ms/step - loss: 5.3139\n",
      "Epoch 458/1000\n",
      "209/209 [==============================] - 0s 1ms/step - loss: 5.3139\n",
      "Epoch 459/1000\n",
      "209/209 [==============================] - 0s 1ms/step - loss: 5.3139\n",
      "Epoch 460/1000\n",
      "209/209 [==============================] - 0s 2ms/step - loss: 5.3139\n",
      "Epoch 461/1000\n",
      "209/209 [==============================] - 0s 1ms/step - loss: 5.3139\n",
      "Epoch 462/1000\n",
      "209/209 [==============================] - 0s 1ms/step - loss: 5.3139\n",
      "Epoch 463/1000\n",
      "209/209 [==============================] - 0s 1ms/step - loss: 5.3139\n",
      "Epoch 464/1000\n",
      "209/209 [==============================] - 0s 1ms/step - loss: 5.3139\n",
      "Epoch 465/1000\n",
      "209/209 [==============================] - 0s 1ms/step - loss: 5.3139\n",
      "Epoch 466/1000\n",
      "209/209 [==============================] - 0s 1ms/step - loss: 5.3139\n",
      "Epoch 467/1000\n",
      "209/209 [==============================] - 0s 1ms/step - loss: 5.3139\n",
      "Epoch 468/1000\n",
      "209/209 [==============================] - 0s 1ms/step - loss: 5.3139\n",
      "Epoch 469/1000\n",
      "209/209 [==============================] - 0s 1ms/step - loss: 5.3139\n",
      "Epoch 470/1000\n",
      "209/209 [==============================] - 0s 1ms/step - loss: 5.3139\n",
      "Epoch 471/1000\n",
      "209/209 [==============================] - 0s 1ms/step - loss: 5.3139\n",
      "Epoch 472/1000\n",
      "209/209 [==============================] - 0s 1ms/step - loss: 5.3139\n",
      "Epoch 473/1000\n",
      "209/209 [==============================] - 0s 1ms/step - loss: 5.3139\n",
      "Epoch 474/1000\n",
      "209/209 [==============================] - 0s 1ms/step - loss: 5.3139\n",
      "Epoch 475/1000\n",
      "209/209 [==============================] - 0s 2ms/step - loss: 5.3139\n",
      "Epoch 476/1000\n",
      "209/209 [==============================] - 0s 1ms/step - loss: 5.3139\n",
      "Epoch 477/1000\n",
      "209/209 [==============================] - 0s 1ms/step - loss: 5.3139\n",
      "Epoch 478/1000\n",
      "209/209 [==============================] - 0s 1ms/step - loss: 5.3139\n",
      "Epoch 479/1000\n",
      "209/209 [==============================] - 0s 1ms/step - loss: 5.3139\n",
      "Epoch 480/1000\n",
      "209/209 [==============================] - 0s 1ms/step - loss: 5.3139\n",
      "Epoch 481/1000\n",
      "209/209 [==============================] - 0s 1ms/step - loss: 5.3139\n",
      "Epoch 482/1000\n",
      "209/209 [==============================] - 0s 1ms/step - loss: 5.3139\n",
      "Epoch 483/1000\n",
      "209/209 [==============================] - 0s 1ms/step - loss: 5.3139\n",
      "Epoch 484/1000\n",
      "209/209 [==============================] - 0s 1ms/step - loss: 5.3139\n",
      "Epoch 485/1000\n",
      "209/209 [==============================] - 0s 1ms/step - loss: 5.3139\n",
      "Epoch 486/1000\n",
      "209/209 [==============================] - 0s 1ms/step - loss: 5.3139\n",
      "Epoch 487/1000\n",
      "209/209 [==============================] - 0s 1ms/step - loss: 5.3139\n",
      "Epoch 488/1000\n",
      "209/209 [==============================] - 0s 1ms/step - loss: 5.3139\n",
      "Epoch 489/1000\n",
      "209/209 [==============================] - 0s 1ms/step - loss: 5.3139\n",
      "Epoch 490/1000\n",
      "209/209 [==============================] - 0s 1ms/step - loss: 5.3139\n",
      "Epoch 491/1000\n",
      "209/209 [==============================] - 0s 1ms/step - loss: 5.3139\n",
      "Epoch 492/1000\n",
      "209/209 [==============================] - 0s 2ms/step - loss: 5.3139\n",
      "Epoch 493/1000\n",
      "209/209 [==============================] - 0s 1ms/step - loss: 5.3139\n",
      "Epoch 494/1000\n",
      "209/209 [==============================] - 0s 1ms/step - loss: 5.3139\n",
      "Epoch 495/1000\n",
      "209/209 [==============================] - 0s 1ms/step - loss: 5.3139\n",
      "Epoch 496/1000\n",
      "209/209 [==============================] - 0s 2ms/step - loss: 5.3139\n",
      "Epoch 497/1000\n",
      "209/209 [==============================] - 0s 1ms/step - loss: 5.3139\n",
      "Epoch 498/1000\n",
      "209/209 [==============================] - 0s 1ms/step - loss: 5.3139\n",
      "Epoch 499/1000\n",
      "209/209 [==============================] - 0s 1ms/step - loss: 5.3139\n",
      "Epoch 500/1000\n",
      "209/209 [==============================] - 0s 2ms/step - loss: 5.3139\n",
      "Epoch 501/1000\n",
      "209/209 [==============================] - 0s 2ms/step - loss: 5.3139\n",
      "Epoch 502/1000\n",
      "209/209 [==============================] - 0s 1ms/step - loss: 5.3139\n",
      "Epoch 503/1000\n",
      "209/209 [==============================] - 0s 1ms/step - loss: 5.3139\n",
      "Epoch 504/1000\n",
      "209/209 [==============================] - 0s 1ms/step - loss: 5.3139\n",
      "Epoch 505/1000\n",
      "209/209 [==============================] - 0s 1ms/step - loss: 5.3139\n",
      "Epoch 506/1000\n",
      "209/209 [==============================] - 0s 1ms/step - loss: 5.3139\n",
      "Epoch 507/1000\n",
      "209/209 [==============================] - 0s 1ms/step - loss: 5.3139\n",
      "Epoch 508/1000\n",
      "209/209 [==============================] - 0s 1ms/step - loss: 5.3139\n",
      "Epoch 509/1000\n",
      "209/209 [==============================] - 0s 1ms/step - loss: 5.3139\n",
      "Epoch 510/1000\n",
      "209/209 [==============================] - 0s 1ms/step - loss: 5.3139\n",
      "Epoch 511/1000\n",
      "209/209 [==============================] - 0s 1ms/step - loss: 5.3139\n",
      "Epoch 512/1000\n",
      "209/209 [==============================] - 0s 1ms/step - loss: 5.3139\n",
      "Epoch 513/1000\n",
      "209/209 [==============================] - 0s 1ms/step - loss: 5.3139\n",
      "Epoch 514/1000\n",
      "209/209 [==============================] - 0s 1ms/step - loss: 5.3139\n",
      "Epoch 515/1000\n",
      "209/209 [==============================] - 0s 2ms/step - loss: 5.3139\n",
      "Epoch 516/1000\n",
      "209/209 [==============================] - 0s 1ms/step - loss: 5.3139\n",
      "Epoch 517/1000\n",
      "209/209 [==============================] - 0s 1ms/step - loss: 5.3139\n",
      "Epoch 518/1000\n",
      "209/209 [==============================] - 0s 1ms/step - loss: 5.3139\n",
      "Epoch 519/1000\n",
      "209/209 [==============================] - 0s 1ms/step - loss: 5.3139\n",
      "Epoch 520/1000\n",
      "209/209 [==============================] - 0s 1ms/step - loss: 5.3139\n",
      "Epoch 521/1000\n",
      "209/209 [==============================] - 0s 1ms/step - loss: 5.3139\n",
      "Epoch 522/1000\n",
      "209/209 [==============================] - 0s 1ms/step - loss: 5.3139\n",
      "Epoch 523/1000\n",
      "209/209 [==============================] - 0s 1ms/step - loss: 5.3139\n",
      "Epoch 524/1000\n",
      "209/209 [==============================] - 0s 1ms/step - loss: 5.3139\n",
      "Epoch 525/1000\n",
      "209/209 [==============================] - 0s 1ms/step - loss: 5.3139\n",
      "Epoch 526/1000\n",
      "209/209 [==============================] - 0s 1ms/step - loss: 5.3139\n",
      "Epoch 527/1000\n",
      "209/209 [==============================] - 0s 1ms/step - loss: 5.3139\n",
      "Epoch 528/1000\n",
      "209/209 [==============================] - 0s 1ms/step - loss: 5.3139\n",
      "Epoch 529/1000\n",
      "209/209 [==============================] - 0s 1ms/step - loss: 5.3139\n",
      "Epoch 530/1000\n",
      "209/209 [==============================] - 0s 1ms/step - loss: 5.3139\n",
      "Epoch 531/1000\n",
      "209/209 [==============================] - 0s 1ms/step - loss: 5.3139\n",
      "Epoch 532/1000\n",
      "209/209 [==============================] - 0s 2ms/step - loss: 5.3139\n",
      "Epoch 533/1000\n",
      "209/209 [==============================] - 0s 1ms/step - loss: 5.3139\n",
      "Epoch 534/1000\n",
      "209/209 [==============================] - 0s 1ms/step - loss: 5.3139\n",
      "Epoch 535/1000\n",
      "209/209 [==============================] - 0s 1ms/step - loss: 5.3139\n",
      "Epoch 536/1000\n",
      "209/209 [==============================] - 0s 1ms/step - loss: 5.3139\n",
      "Epoch 537/1000\n",
      "209/209 [==============================] - 0s 1ms/step - loss: 5.3139\n",
      "Epoch 538/1000\n",
      "209/209 [==============================] - 0s 1ms/step - loss: 5.3139\n",
      "Epoch 539/1000\n",
      "209/209 [==============================] - 0s 1ms/step - loss: 5.3139\n",
      "Epoch 540/1000\n",
      "209/209 [==============================] - 0s 1ms/step - loss: 5.3139\n",
      "Epoch 541/1000\n",
      "209/209 [==============================] - 0s 1ms/step - loss: 5.3139\n",
      "Epoch 542/1000\n",
      "209/209 [==============================] - 0s 1ms/step - loss: 5.3139\n",
      "Epoch 543/1000\n",
      "209/209 [==============================] - 0s 2ms/step - loss: 5.3139\n",
      "Epoch 544/1000\n",
      "209/209 [==============================] - 0s 1ms/step - loss: 5.3139\n",
      "Epoch 545/1000\n",
      "209/209 [==============================] - 0s 1ms/step - loss: 5.3139\n",
      "Epoch 546/1000\n",
      "209/209 [==============================] - 0s 1ms/step - loss: 5.3139\n",
      "Epoch 547/1000\n",
      "209/209 [==============================] - 0s 1ms/step - loss: 5.3139\n",
      "Epoch 548/1000\n",
      "209/209 [==============================] - 0s 2ms/step - loss: 5.3139\n",
      "Epoch 549/1000\n",
      "209/209 [==============================] - 0s 2ms/step - loss: 5.3139\n",
      "Epoch 550/1000\n",
      "209/209 [==============================] - 0s 1ms/step - loss: 5.3139\n",
      "Epoch 551/1000\n",
      "209/209 [==============================] - 0s 1ms/step - loss: 5.3139\n",
      "Epoch 552/1000\n",
      "209/209 [==============================] - 0s 1ms/step - loss: 5.3139\n",
      "Epoch 553/1000\n",
      "209/209 [==============================] - 0s 1ms/step - loss: 5.3139\n",
      "Epoch 554/1000\n",
      "209/209 [==============================] - 0s 1ms/step - loss: 5.3139\n",
      "Epoch 555/1000\n",
      "209/209 [==============================] - 0s 1ms/step - loss: 5.3139\n",
      "Epoch 556/1000\n",
      "209/209 [==============================] - 0s 1ms/step - loss: 5.3139\n",
      "Epoch 557/1000\n",
      "209/209 [==============================] - 0s 1ms/step - loss: 5.3139\n",
      "Epoch 558/1000\n",
      "209/209 [==============================] - 0s 1ms/step - loss: 5.3139\n",
      "Epoch 559/1000\n",
      "209/209 [==============================] - 0s 1ms/step - loss: 5.3139\n",
      "Epoch 560/1000\n",
      "209/209 [==============================] - 0s 1ms/step - loss: 5.3139\n",
      "Epoch 561/1000\n",
      "209/209 [==============================] - 0s 1ms/step - loss: 5.3139\n",
      "Epoch 562/1000\n",
      "209/209 [==============================] - 0s 2ms/step - loss: 5.3139\n",
      "Epoch 563/1000\n",
      "209/209 [==============================] - 0s 1ms/step - loss: 5.3139\n",
      "Epoch 564/1000\n",
      "209/209 [==============================] - 0s 1ms/step - loss: 5.3139\n",
      "Epoch 565/1000\n",
      "209/209 [==============================] - 0s 1ms/step - loss: 5.3139\n",
      "Epoch 566/1000\n",
      "209/209 [==============================] - 0s 1ms/step - loss: 5.3139\n",
      "Epoch 567/1000\n",
      "209/209 [==============================] - 0s 1ms/step - loss: 5.3139\n",
      "Epoch 568/1000\n",
      "209/209 [==============================] - 0s 1ms/step - loss: 5.3139\n",
      "Epoch 569/1000\n",
      "209/209 [==============================] - 0s 1ms/step - loss: 5.3139\n",
      "Epoch 570/1000\n",
      "209/209 [==============================] - 0s 1ms/step - loss: 5.3139\n",
      "Epoch 571/1000\n",
      "209/209 [==============================] - 0s 1ms/step - loss: 5.3139\n",
      "Epoch 572/1000\n",
      "209/209 [==============================] - 0s 1ms/step - loss: 5.3139\n",
      "Epoch 573/1000\n",
      "209/209 [==============================] - 0s 1ms/step - loss: 5.3139\n",
      "Epoch 574/1000\n",
      "209/209 [==============================] - 0s 1ms/step - loss: 5.3139\n",
      "Epoch 575/1000\n",
      "209/209 [==============================] - 0s 1ms/step - loss: 5.3139\n",
      "Epoch 576/1000\n",
      "209/209 [==============================] - 0s 1ms/step - loss: 5.3139\n",
      "Epoch 577/1000\n",
      "209/209 [==============================] - 0s 1ms/step - loss: 5.3139\n",
      "Epoch 578/1000\n",
      "209/209 [==============================] - 0s 1ms/step - loss: 5.3139\n",
      "Epoch 579/1000\n",
      "209/209 [==============================] - 0s 1ms/step - loss: 5.3139\n",
      "Epoch 580/1000\n",
      "209/209 [==============================] - 0s 1ms/step - loss: 5.3139\n",
      "Epoch 581/1000\n",
      "209/209 [==============================] - 0s 1ms/step - loss: 5.3139\n",
      "Epoch 582/1000\n",
      "209/209 [==============================] - 0s 1ms/step - loss: 5.3139\n",
      "Epoch 583/1000\n",
      "209/209 [==============================] - 0s 1ms/step - loss: 5.3139\n",
      "Epoch 584/1000\n",
      "209/209 [==============================] - 0s 1ms/step - loss: 5.3139\n",
      "Epoch 585/1000\n",
      "209/209 [==============================] - 0s 1ms/step - loss: 5.3139\n",
      "Epoch 586/1000\n",
      "209/209 [==============================] - 0s 1ms/step - loss: 5.3139\n",
      "Epoch 587/1000\n",
      "209/209 [==============================] - 0s 1ms/step - loss: 5.3139\n",
      "Epoch 588/1000\n",
      "209/209 [==============================] - 0s 1ms/step - loss: 5.3139\n",
      "Epoch 589/1000\n",
      "209/209 [==============================] - 0s 1ms/step - loss: 5.3139\n",
      "Epoch 590/1000\n",
      "209/209 [==============================] - 0s 2ms/step - loss: 5.3139\n",
      "Epoch 591/1000\n",
      "209/209 [==============================] - 0s 1ms/step - loss: 5.3139\n",
      "Epoch 592/1000\n",
      "209/209 [==============================] - 0s 1ms/step - loss: 5.3139\n",
      "Epoch 593/1000\n",
      "209/209 [==============================] - 0s 1ms/step - loss: 5.3139\n",
      "Epoch 594/1000\n",
      "209/209 [==============================] - 0s 1ms/step - loss: 5.3139\n",
      "Epoch 595/1000\n",
      "209/209 [==============================] - 0s 1ms/step - loss: 5.3139\n",
      "Epoch 596/1000\n",
      "209/209 [==============================] - 0s 1ms/step - loss: 5.3139\n",
      "Epoch 597/1000\n",
      "209/209 [==============================] - 0s 1ms/step - loss: 5.3139\n",
      "Epoch 598/1000\n",
      "209/209 [==============================] - 0s 1ms/step - loss: 5.3139\n",
      "Epoch 599/1000\n",
      "209/209 [==============================] - 0s 1ms/step - loss: 5.3139\n",
      "Epoch 600/1000\n",
      "209/209 [==============================] - 0s 1ms/step - loss: 5.3139\n",
      "Epoch 601/1000\n",
      "209/209 [==============================] - 0s 1ms/step - loss: 5.3139\n",
      "Epoch 602/1000\n",
      "209/209 [==============================] - 0s 1ms/step - loss: 5.3139\n",
      "Epoch 603/1000\n",
      "209/209 [==============================] - 0s 1ms/step - loss: 5.3139\n",
      "Epoch 604/1000\n",
      "209/209 [==============================] - 0s 1ms/step - loss: 5.3139\n",
      "Epoch 605/1000\n",
      "209/209 [==============================] - 0s 1ms/step - loss: 5.3139\n",
      "Epoch 606/1000\n",
      "209/209 [==============================] - 0s 1ms/step - loss: 5.3139\n",
      "Epoch 607/1000\n",
      "209/209 [==============================] - 0s 1ms/step - loss: 5.3139\n",
      "Epoch 608/1000\n",
      "209/209 [==============================] - 0s 1ms/step - loss: 5.3139\n",
      "Epoch 609/1000\n",
      "209/209 [==============================] - 0s 1ms/step - loss: 5.3139\n",
      "Epoch 610/1000\n",
      "209/209 [==============================] - 0s 1ms/step - loss: 5.3139\n",
      "Epoch 611/1000\n",
      "209/209 [==============================] - 0s 1ms/step - loss: 5.3139\n",
      "Epoch 612/1000\n",
      "209/209 [==============================] - 0s 1ms/step - loss: 5.3139\n",
      "Epoch 613/1000\n",
      "209/209 [==============================] - 0s 1ms/step - loss: 5.3139\n",
      "Epoch 614/1000\n",
      "209/209 [==============================] - 0s 1ms/step - loss: 5.3139\n",
      "Epoch 615/1000\n",
      "209/209 [==============================] - 0s 1ms/step - loss: 5.3139\n",
      "Epoch 616/1000\n",
      "209/209 [==============================] - 0s 1ms/step - loss: 5.3139\n",
      "Epoch 617/1000\n",
      "209/209 [==============================] - 0s 1ms/step - loss: 5.3139\n",
      "Epoch 618/1000\n",
      "209/209 [==============================] - 0s 1ms/step - loss: 5.3139\n",
      "Epoch 619/1000\n",
      "209/209 [==============================] - 0s 1ms/step - loss: 5.3139\n",
      "Epoch 620/1000\n",
      "209/209 [==============================] - 0s 1ms/step - loss: 5.3139\n",
      "Epoch 621/1000\n",
      "209/209 [==============================] - 0s 1ms/step - loss: 5.3139\n",
      "Epoch 622/1000\n",
      "209/209 [==============================] - 0s 2ms/step - loss: 5.3139\n",
      "Epoch 623/1000\n",
      "209/209 [==============================] - 0s 1ms/step - loss: 5.3139\n",
      "Epoch 624/1000\n",
      "209/209 [==============================] - 0s 1ms/step - loss: 5.3139\n",
      "Epoch 625/1000\n",
      "209/209 [==============================] - 0s 1ms/step - loss: 5.3139\n",
      "Epoch 626/1000\n",
      "209/209 [==============================] - 0s 1ms/step - loss: 5.3139\n",
      "Epoch 627/1000\n",
      "209/209 [==============================] - 0s 2ms/step - loss: 5.3139\n",
      "Epoch 628/1000\n",
      "209/209 [==============================] - 0s 1ms/step - loss: 5.3139\n",
      "Epoch 629/1000\n",
      "209/209 [==============================] - 0s 1ms/step - loss: 5.3139\n",
      "Epoch 630/1000\n",
      "209/209 [==============================] - 0s 1ms/step - loss: 5.3139\n",
      "Epoch 631/1000\n",
      "209/209 [==============================] - 0s 1ms/step - loss: 5.3139\n",
      "Epoch 632/1000\n",
      "209/209 [==============================] - 0s 1ms/step - loss: 5.3139\n",
      "Epoch 633/1000\n",
      "209/209 [==============================] - 0s 1ms/step - loss: 5.3139\n",
      "Epoch 634/1000\n",
      "209/209 [==============================] - 0s 1ms/step - loss: 5.3139\n",
      "Epoch 635/1000\n",
      "209/209 [==============================] - 0s 1ms/step - loss: 5.3139\n",
      "Epoch 636/1000\n",
      "209/209 [==============================] - 0s 1ms/step - loss: 5.3139\n",
      "Epoch 637/1000\n",
      "209/209 [==============================] - 0s 1ms/step - loss: 5.3139\n",
      "Epoch 638/1000\n",
      "209/209 [==============================] - 0s 1ms/step - loss: 5.3139\n",
      "Epoch 639/1000\n",
      "209/209 [==============================] - 0s 1ms/step - loss: 5.3139\n",
      "Epoch 640/1000\n",
      "209/209 [==============================] - 0s 1ms/step - loss: 5.3139\n",
      "Epoch 641/1000\n",
      "209/209 [==============================] - 0s 1ms/step - loss: 5.3139\n",
      "Epoch 642/1000\n",
      "209/209 [==============================] - 0s 1ms/step - loss: 5.3139\n",
      "Epoch 643/1000\n",
      "209/209 [==============================] - 0s 1ms/step - loss: 5.3139\n",
      "Epoch 644/1000\n",
      "209/209 [==============================] - 0s 1ms/step - loss: 5.3139\n",
      "Epoch 645/1000\n",
      "209/209 [==============================] - 0s 1ms/step - loss: 5.3139\n",
      "Epoch 646/1000\n",
      "209/209 [==============================] - 0s 1ms/step - loss: 5.3139\n",
      "Epoch 647/1000\n",
      "209/209 [==============================] - 0s 1ms/step - loss: 5.3139\n",
      "Epoch 648/1000\n",
      "209/209 [==============================] - 0s 1ms/step - loss: 5.3139\n",
      "Epoch 649/1000\n",
      "209/209 [==============================] - 0s 1ms/step - loss: 5.3139\n",
      "Epoch 650/1000\n",
      "209/209 [==============================] - 0s 1ms/step - loss: 5.3139\n",
      "Epoch 651/1000\n",
      "209/209 [==============================] - 0s 1ms/step - loss: 5.3139\n",
      "Epoch 652/1000\n",
      "209/209 [==============================] - 0s 1ms/step - loss: 5.3139\n",
      "Epoch 653/1000\n",
      "209/209 [==============================] - 0s 1ms/step - loss: 5.3139\n",
      "Epoch 654/1000\n",
      "209/209 [==============================] - 0s 1ms/step - loss: 5.3139\n",
      "Epoch 655/1000\n",
      "209/209 [==============================] - 0s 1ms/step - loss: 5.3139\n",
      "Epoch 656/1000\n",
      "209/209 [==============================] - 0s 1ms/step - loss: 5.3139\n",
      "Epoch 657/1000\n",
      "209/209 [==============================] - 0s 1ms/step - loss: 5.3139\n",
      "Epoch 658/1000\n",
      "209/209 [==============================] - 0s 1ms/step - loss: 5.3139\n",
      "Epoch 659/1000\n",
      "209/209 [==============================] - 0s 1ms/step - loss: 5.3139\n",
      "Epoch 660/1000\n",
      "209/209 [==============================] - 0s 1ms/step - loss: 5.3139\n",
      "Epoch 661/1000\n",
      "209/209 [==============================] - 0s 1ms/step - loss: 5.3139\n",
      "Epoch 662/1000\n",
      "209/209 [==============================] - 0s 1ms/step - loss: 5.3139\n",
      "Epoch 663/1000\n",
      "209/209 [==============================] - 0s 2ms/step - loss: 5.3139\n",
      "Epoch 664/1000\n",
      "209/209 [==============================] - 0s 1ms/step - loss: 5.3139\n",
      "Epoch 665/1000\n",
      "209/209 [==============================] - 0s 1ms/step - loss: 5.3139\n",
      "Epoch 666/1000\n",
      "209/209 [==============================] - 0s 1ms/step - loss: 5.3139\n",
      "Epoch 667/1000\n",
      "209/209 [==============================] - 0s 1ms/step - loss: 5.3139\n",
      "Epoch 668/1000\n",
      "209/209 [==============================] - 0s 2ms/step - loss: 5.3139\n",
      "Epoch 669/1000\n",
      "209/209 [==============================] - 0s 1ms/step - loss: 5.3139\n",
      "Epoch 670/1000\n",
      "209/209 [==============================] - 0s 1ms/step - loss: 5.3139\n",
      "Epoch 671/1000\n",
      "209/209 [==============================] - 0s 1ms/step - loss: 5.3139\n",
      "Epoch 672/1000\n",
      "209/209 [==============================] - 0s 1ms/step - loss: 5.3139\n",
      "Epoch 673/1000\n",
      "209/209 [==============================] - 0s 1ms/step - loss: 5.3139\n",
      "Epoch 674/1000\n",
      "209/209 [==============================] - 0s 1ms/step - loss: 5.3139\n",
      "Epoch 675/1000\n",
      "209/209 [==============================] - 0s 1ms/step - loss: 5.3139\n",
      "Epoch 676/1000\n",
      "209/209 [==============================] - 0s 1ms/step - loss: 5.3139\n",
      "Epoch 677/1000\n",
      "209/209 [==============================] - 0s 1ms/step - loss: 5.3139\n",
      "Epoch 678/1000\n",
      "209/209 [==============================] - 0s 1ms/step - loss: 5.3139\n",
      "Epoch 679/1000\n",
      "209/209 [==============================] - 0s 1ms/step - loss: 5.3139\n",
      "Epoch 680/1000\n",
      "209/209 [==============================] - 0s 1ms/step - loss: 5.3139\n",
      "Epoch 681/1000\n",
      "209/209 [==============================] - 0s 1ms/step - loss: 5.3139\n",
      "Epoch 682/1000\n",
      "209/209 [==============================] - 0s 1ms/step - loss: 5.3139\n",
      "Epoch 683/1000\n",
      "209/209 [==============================] - 0s 1ms/step - loss: 5.3139\n",
      "Epoch 684/1000\n",
      "209/209 [==============================] - 0s 1ms/step - loss: 5.3139\n",
      "Epoch 685/1000\n",
      "209/209 [==============================] - 0s 1ms/step - loss: 5.3139\n",
      "Epoch 686/1000\n",
      "209/209 [==============================] - 0s 1ms/step - loss: 5.3139\n",
      "Epoch 687/1000\n",
      "209/209 [==============================] - 0s 1ms/step - loss: 5.3139\n",
      "Epoch 688/1000\n",
      "209/209 [==============================] - 0s 1ms/step - loss: 5.3139\n",
      "Epoch 689/1000\n",
      "209/209 [==============================] - 0s 1ms/step - loss: 5.3139\n",
      "Epoch 690/1000\n",
      "209/209 [==============================] - 0s 1ms/step - loss: 5.3139\n",
      "Epoch 691/1000\n",
      "209/209 [==============================] - 0s 1ms/step - loss: 5.3139\n",
      "Epoch 692/1000\n",
      "209/209 [==============================] - 0s 1ms/step - loss: 5.3139\n",
      "Epoch 693/1000\n",
      "209/209 [==============================] - 0s 1ms/step - loss: 5.3139\n",
      "Epoch 694/1000\n",
      "209/209 [==============================] - 0s 1ms/step - loss: 5.3139\n",
      "Epoch 695/1000\n",
      "209/209 [==============================] - 0s 1ms/step - loss: 5.3139\n",
      "Epoch 696/1000\n",
      "209/209 [==============================] - 0s 1ms/step - loss: 5.3139\n",
      "Epoch 697/1000\n",
      "209/209 [==============================] - 0s 1ms/step - loss: 5.3139\n",
      "Epoch 698/1000\n",
      "209/209 [==============================] - 0s 1ms/step - loss: 5.3139\n",
      "Epoch 699/1000\n",
      "209/209 [==============================] - 0s 1ms/step - loss: 5.3139\n",
      "Epoch 700/1000\n",
      "209/209 [==============================] - 0s 1ms/step - loss: 5.3139\n",
      "Epoch 701/1000\n",
      "209/209 [==============================] - 0s 1ms/step - loss: 5.3139\n",
      "Epoch 702/1000\n",
      "209/209 [==============================] - 0s 1ms/step - loss: 5.3139\n",
      "Epoch 703/1000\n",
      "209/209 [==============================] - 0s 1ms/step - loss: 5.3139\n",
      "Epoch 704/1000\n",
      "209/209 [==============================] - 0s 1ms/step - loss: 5.3139\n",
      "Epoch 705/1000\n",
      "209/209 [==============================] - 0s 1ms/step - loss: 5.3139\n",
      "Epoch 706/1000\n",
      "209/209 [==============================] - 0s 1ms/step - loss: 5.3139\n",
      "Epoch 707/1000\n",
      "209/209 [==============================] - 0s 1ms/step - loss: 5.3139\n",
      "Epoch 708/1000\n",
      "209/209 [==============================] - 0s 1ms/step - loss: 5.3139\n",
      "Epoch 709/1000\n",
      "209/209 [==============================] - 0s 1ms/step - loss: 5.3139\n",
      "Epoch 710/1000\n",
      "209/209 [==============================] - 0s 1ms/step - loss: 5.3139\n",
      "Epoch 711/1000\n",
      "209/209 [==============================] - 0s 1ms/step - loss: 5.3139\n",
      "Epoch 712/1000\n",
      "209/209 [==============================] - 0s 1ms/step - loss: 5.3139\n",
      "Epoch 713/1000\n",
      "209/209 [==============================] - 0s 1ms/step - loss: 5.3139\n",
      "Epoch 714/1000\n",
      "209/209 [==============================] - 0s 1ms/step - loss: 5.3139\n",
      "Epoch 715/1000\n",
      "209/209 [==============================] - 0s 1ms/step - loss: 5.3139\n",
      "Epoch 716/1000\n",
      "209/209 [==============================] - 0s 1ms/step - loss: 5.3139\n",
      "Epoch 717/1000\n",
      "209/209 [==============================] - 0s 1ms/step - loss: 5.3139\n",
      "Epoch 718/1000\n",
      "209/209 [==============================] - 0s 1ms/step - loss: 5.3139\n",
      "Epoch 719/1000\n",
      "209/209 [==============================] - 0s 1ms/step - loss: 5.3139\n",
      "Epoch 720/1000\n",
      "209/209 [==============================] - 0s 1ms/step - loss: 5.3139\n",
      "Epoch 721/1000\n",
      "209/209 [==============================] - 0s 1ms/step - loss: 5.3139\n",
      "Epoch 722/1000\n",
      "209/209 [==============================] - 0s 1ms/step - loss: 5.3139\n",
      "Epoch 723/1000\n",
      "209/209 [==============================] - 0s 1ms/step - loss: 5.3139\n",
      "Epoch 724/1000\n",
      "209/209 [==============================] - 0s 1ms/step - loss: 5.3139\n",
      "Epoch 725/1000\n",
      "209/209 [==============================] - 0s 1ms/step - loss: 5.3139\n",
      "Epoch 726/1000\n",
      "209/209 [==============================] - 0s 1ms/step - loss: 5.3139\n",
      "Epoch 727/1000\n",
      "209/209 [==============================] - 0s 2ms/step - loss: 5.3139\n",
      "Epoch 728/1000\n",
      "209/209 [==============================] - 0s 1ms/step - loss: 5.3139\n",
      "Epoch 729/1000\n",
      "209/209 [==============================] - 0s 1ms/step - loss: 5.3139\n",
      "Epoch 730/1000\n",
      "209/209 [==============================] - 0s 2ms/step - loss: 5.3139\n",
      "Epoch 731/1000\n",
      "209/209 [==============================] - 0s 1ms/step - loss: 5.3139\n",
      "Epoch 732/1000\n",
      "209/209 [==============================] - 0s 1ms/step - loss: 5.3139\n",
      "Epoch 733/1000\n",
      "209/209 [==============================] - 0s 1ms/step - loss: 5.3139\n",
      "Epoch 734/1000\n",
      "209/209 [==============================] - 0s 1ms/step - loss: 5.3139\n",
      "Epoch 735/1000\n",
      "209/209 [==============================] - 0s 1ms/step - loss: 5.3139\n",
      "Epoch 736/1000\n",
      "209/209 [==============================] - 0s 1ms/step - loss: 5.3139\n",
      "Epoch 737/1000\n",
      "209/209 [==============================] - 0s 1ms/step - loss: 5.3139\n",
      "Epoch 738/1000\n",
      "209/209 [==============================] - 0s 1ms/step - loss: 5.3139\n",
      "Epoch 739/1000\n",
      "209/209 [==============================] - 0s 1ms/step - loss: 5.3139\n",
      "Epoch 740/1000\n",
      "209/209 [==============================] - 0s 1ms/step - loss: 5.3139\n",
      "Epoch 741/1000\n",
      "209/209 [==============================] - 0s 1ms/step - loss: 5.3139\n",
      "Epoch 742/1000\n",
      "209/209 [==============================] - 0s 1ms/step - loss: 5.3139\n",
      "Epoch 743/1000\n",
      "209/209 [==============================] - 0s 1ms/step - loss: 5.3139\n",
      "Epoch 744/1000\n",
      "209/209 [==============================] - 0s 1ms/step - loss: 5.3139\n",
      "Epoch 745/1000\n",
      "209/209 [==============================] - 0s 1ms/step - loss: 5.3139\n",
      "Epoch 746/1000\n",
      "209/209 [==============================] - 0s 1ms/step - loss: 5.3139\n",
      "Epoch 747/1000\n",
      "209/209 [==============================] - 1s 2ms/step - loss: 5.3139\n",
      "Epoch 748/1000\n",
      "209/209 [==============================] - 0s 2ms/step - loss: 5.3139\n",
      "Epoch 749/1000\n",
      "209/209 [==============================] - 0s 1ms/step - loss: 5.3139\n",
      "Epoch 750/1000\n",
      "209/209 [==============================] - 0s 1ms/step - loss: 5.3139\n",
      "Epoch 751/1000\n",
      "209/209 [==============================] - 0s 1ms/step - loss: 5.3139\n",
      "Epoch 752/1000\n",
      "209/209 [==============================] - 0s 1ms/step - loss: 5.3139\n",
      "Epoch 753/1000\n",
      "209/209 [==============================] - 0s 1ms/step - loss: 5.3139\n",
      "Epoch 754/1000\n",
      "209/209 [==============================] - 0s 1ms/step - loss: 5.3139\n",
      "Epoch 755/1000\n",
      "209/209 [==============================] - 0s 1ms/step - loss: 5.3139\n",
      "Epoch 756/1000\n",
      "209/209 [==============================] - 0s 1ms/step - loss: 5.3139\n",
      "Epoch 757/1000\n",
      "209/209 [==============================] - 0s 1ms/step - loss: 5.3139\n",
      "Epoch 758/1000\n",
      "209/209 [==============================] - 0s 2ms/step - loss: 5.3139\n",
      "Epoch 759/1000\n",
      "209/209 [==============================] - 0s 1ms/step - loss: 5.3139\n",
      "Epoch 760/1000\n",
      "209/209 [==============================] - 0s 1ms/step - loss: 5.3139\n",
      "Epoch 761/1000\n",
      "209/209 [==============================] - 0s 2ms/step - loss: 5.3139\n",
      "Epoch 762/1000\n",
      "209/209 [==============================] - 0s 1ms/step - loss: 5.3139\n",
      "Epoch 763/1000\n",
      "209/209 [==============================] - 0s 2ms/step - loss: 5.3139\n",
      "Epoch 764/1000\n",
      "209/209 [==============================] - 0s 1ms/step - loss: 5.3139\n",
      "Epoch 765/1000\n",
      "209/209 [==============================] - 0s 1ms/step - loss: 5.3139\n",
      "Epoch 766/1000\n",
      "209/209 [==============================] - 0s 2ms/step - loss: 5.3139\n",
      "Epoch 767/1000\n",
      "209/209 [==============================] - 0s 1ms/step - loss: 5.3139\n",
      "Epoch 768/1000\n",
      "209/209 [==============================] - 0s 2ms/step - loss: 5.3139\n",
      "Epoch 769/1000\n",
      "209/209 [==============================] - 0s 2ms/step - loss: 5.3139\n",
      "Epoch 770/1000\n",
      "209/209 [==============================] - 0s 2ms/step - loss: 5.3139\n",
      "Epoch 771/1000\n",
      "209/209 [==============================] - 1s 3ms/step - loss: 5.3139\n",
      "Epoch 772/1000\n",
      "209/209 [==============================] - 1s 3ms/step - loss: 5.3139\n",
      "Epoch 773/1000\n",
      "209/209 [==============================] - 1s 3ms/step - loss: 5.3139\n",
      "Epoch 774/1000\n",
      "209/209 [==============================] - 0s 2ms/step - loss: 5.3139\n",
      "Epoch 775/1000\n",
      "209/209 [==============================] - 0s 2ms/step - loss: 5.3139\n",
      "Epoch 776/1000\n",
      "209/209 [==============================] - 0s 2ms/step - loss: 5.3139\n",
      "Epoch 777/1000\n",
      "209/209 [==============================] - 0s 2ms/step - loss: 5.3139\n",
      "Epoch 778/1000\n",
      "209/209 [==============================] - 0s 1ms/step - loss: 5.3139\n",
      "Epoch 779/1000\n",
      "209/209 [==============================] - 0s 1ms/step - loss: 5.3139\n",
      "Epoch 780/1000\n",
      "209/209 [==============================] - 0s 2ms/step - loss: 5.3139\n",
      "Epoch 781/1000\n",
      "209/209 [==============================] - 0s 1ms/step - loss: 5.3139\n",
      "Epoch 782/1000\n",
      "209/209 [==============================] - 0s 2ms/step - loss: 5.3139\n",
      "Epoch 783/1000\n",
      "209/209 [==============================] - 0s 1ms/step - loss: 5.3139\n",
      "Epoch 784/1000\n",
      "209/209 [==============================] - 0s 1ms/step - loss: 5.3139\n",
      "Epoch 785/1000\n",
      "209/209 [==============================] - 0s 2ms/step - loss: 5.3139\n",
      "Epoch 786/1000\n",
      "209/209 [==============================] - 0s 1ms/step - loss: 5.3139\n",
      "Epoch 787/1000\n",
      "209/209 [==============================] - 0s 1ms/step - loss: 5.3139\n",
      "Epoch 788/1000\n",
      "209/209 [==============================] - 0s 2ms/step - loss: 5.3139\n",
      "Epoch 789/1000\n",
      "209/209 [==============================] - 0s 1ms/step - loss: 5.3139\n",
      "Epoch 790/1000\n",
      "209/209 [==============================] - 0s 2ms/step - loss: 5.3139\n",
      "Epoch 791/1000\n",
      "209/209 [==============================] - 0s 1ms/step - loss: 5.3139\n",
      "Epoch 792/1000\n",
      "209/209 [==============================] - 0s 1ms/step - loss: 5.3139\n",
      "Epoch 793/1000\n",
      "209/209 [==============================] - 0s 2ms/step - loss: 5.3139\n",
      "Epoch 794/1000\n",
      "209/209 [==============================] - 0s 1ms/step - loss: 5.3139\n",
      "Epoch 795/1000\n",
      "209/209 [==============================] - 0s 2ms/step - loss: 5.3139\n",
      "Epoch 796/1000\n",
      "209/209 [==============================] - 0s 1ms/step - loss: 5.3139\n",
      "Epoch 797/1000\n",
      "209/209 [==============================] - 0s 1ms/step - loss: 5.3139\n",
      "Epoch 798/1000\n",
      "209/209 [==============================] - 0s 2ms/step - loss: 5.3139\n",
      "Epoch 799/1000\n",
      "209/209 [==============================] - 0s 1ms/step - loss: 5.3139\n",
      "Epoch 800/1000\n",
      "209/209 [==============================] - 0s 1ms/step - loss: 5.3139\n",
      "Epoch 801/1000\n",
      "209/209 [==============================] - 0s 2ms/step - loss: 5.3139\n",
      "Epoch 802/1000\n",
      "209/209 [==============================] - 0s 1ms/step - loss: 5.3139\n",
      "Epoch 803/1000\n",
      "209/209 [==============================] - 0s 2ms/step - loss: 5.3139\n",
      "Epoch 804/1000\n",
      "209/209 [==============================] - 0s 2ms/step - loss: 5.3139\n",
      "Epoch 805/1000\n",
      "209/209 [==============================] - 0s 1ms/step - loss: 5.3139\n",
      "Epoch 806/1000\n",
      "209/209 [==============================] - 0s 2ms/step - loss: 5.3139\n",
      "Epoch 807/1000\n",
      "209/209 [==============================] - 0s 1ms/step - loss: 5.3139\n",
      "Epoch 808/1000\n",
      "209/209 [==============================] - 0s 2ms/step - loss: 5.3139\n",
      "Epoch 809/1000\n",
      "209/209 [==============================] - 0s 1ms/step - loss: 5.3139\n",
      "Epoch 810/1000\n",
      "209/209 [==============================] - 0s 1ms/step - loss: 5.3139\n",
      "Epoch 811/1000\n",
      "209/209 [==============================] - 0s 2ms/step - loss: 5.3139\n",
      "Epoch 812/1000\n",
      "209/209 [==============================] - 0s 1ms/step - loss: 5.3139\n",
      "Epoch 813/1000\n",
      "209/209 [==============================] - 0s 2ms/step - loss: 5.3139\n",
      "Epoch 814/1000\n",
      "209/209 [==============================] - 0s 1ms/step - loss: 5.3139\n",
      "Epoch 815/1000\n",
      "209/209 [==============================] - 0s 1ms/step - loss: 5.3139\n",
      "Epoch 816/1000\n",
      "209/209 [==============================] - 0s 2ms/step - loss: 5.3139\n",
      "Epoch 817/1000\n",
      "209/209 [==============================] - 0s 1ms/step - loss: 5.3139\n",
      "Epoch 818/1000\n",
      "209/209 [==============================] - 0s 2ms/step - loss: 5.3139\n",
      "Epoch 819/1000\n",
      "209/209 [==============================] - 0s 1ms/step - loss: 5.3139\n",
      "Epoch 820/1000\n",
      "209/209 [==============================] - 0s 1ms/step - loss: 5.3139\n",
      "Epoch 821/1000\n",
      "209/209 [==============================] - 0s 2ms/step - loss: 5.3139\n",
      "Epoch 822/1000\n",
      "209/209 [==============================] - 0s 1ms/step - loss: 5.3139\n",
      "Epoch 823/1000\n",
      "209/209 [==============================] - 0s 2ms/step - loss: 5.3139\n",
      "Epoch 824/1000\n",
      "209/209 [==============================] - 0s 1ms/step - loss: 5.3139\n",
      "Epoch 825/1000\n",
      "209/209 [==============================] - 0s 2ms/step - loss: 5.3139\n",
      "Epoch 826/1000\n",
      "209/209 [==============================] - 0s 1ms/step - loss: 5.3139\n",
      "Epoch 827/1000\n",
      "209/209 [==============================] - 0s 1ms/step - loss: 5.3139\n",
      "Epoch 828/1000\n",
      "209/209 [==============================] - 0s 2ms/step - loss: 5.3139\n",
      "Epoch 829/1000\n",
      "209/209 [==============================] - 0s 1ms/step - loss: 5.3139\n",
      "Epoch 830/1000\n",
      "209/209 [==============================] - 0s 1ms/step - loss: 5.3139\n",
      "Epoch 831/1000\n",
      "209/209 [==============================] - 0s 1ms/step - loss: 5.3139\n",
      "Epoch 832/1000\n",
      "209/209 [==============================] - 0s 1ms/step - loss: 5.3139\n",
      "Epoch 833/1000\n",
      "209/209 [==============================] - 0s 2ms/step - loss: 5.3139\n",
      "Epoch 834/1000\n",
      "209/209 [==============================] - 0s 1ms/step - loss: 5.3139\n",
      "Epoch 835/1000\n",
      "209/209 [==============================] - 0s 1ms/step - loss: 5.3139\n",
      "Epoch 836/1000\n",
      "209/209 [==============================] - 0s 2ms/step - loss: 5.3139\n",
      "Epoch 837/1000\n",
      "209/209 [==============================] - 0s 1ms/step - loss: 5.3139\n",
      "Epoch 838/1000\n",
      "209/209 [==============================] - 0s 1ms/step - loss: 5.3139\n",
      "Epoch 839/1000\n",
      "209/209 [==============================] - 0s 1ms/step - loss: 5.3139\n",
      "Epoch 840/1000\n",
      "209/209 [==============================] - 0s 1ms/step - loss: 5.3139\n",
      "Epoch 841/1000\n",
      "209/209 [==============================] - 0s 1ms/step - loss: 5.3139\n",
      "Epoch 842/1000\n",
      "209/209 [==============================] - 0s 1ms/step - loss: 5.3139\n",
      "Epoch 843/1000\n",
      "209/209 [==============================] - 0s 1ms/step - loss: 5.3139\n",
      "Epoch 844/1000\n",
      "209/209 [==============================] - 0s 1ms/step - loss: 5.3139\n",
      "Epoch 845/1000\n",
      "209/209 [==============================] - 0s 1ms/step - loss: 5.3139\n",
      "Epoch 846/1000\n",
      "209/209 [==============================] - 0s 1ms/step - loss: 5.3139\n",
      "Epoch 847/1000\n",
      "209/209 [==============================] - 0s 1ms/step - loss: 5.3139\n",
      "Epoch 848/1000\n",
      "209/209 [==============================] - 0s 1ms/step - loss: 5.3139\n",
      "Epoch 849/1000\n",
      "209/209 [==============================] - 0s 1ms/step - loss: 5.3139\n",
      "Epoch 850/1000\n",
      "209/209 [==============================] - 0s 1ms/step - loss: 5.3139\n",
      "Epoch 851/1000\n",
      "209/209 [==============================] - 0s 1ms/step - loss: 5.3139\n",
      "Epoch 852/1000\n",
      "209/209 [==============================] - 0s 1ms/step - loss: 5.3139\n",
      "Epoch 853/1000\n",
      "209/209 [==============================] - 0s 1ms/step - loss: 5.3139\n",
      "Epoch 854/1000\n",
      "209/209 [==============================] - 0s 1ms/step - loss: 5.3139\n",
      "Epoch 855/1000\n",
      "209/209 [==============================] - 0s 1ms/step - loss: 5.3139\n",
      "Epoch 856/1000\n",
      "209/209 [==============================] - 0s 1ms/step - loss: 5.3139\n",
      "Epoch 857/1000\n",
      "209/209 [==============================] - 0s 1ms/step - loss: 5.3139\n",
      "Epoch 858/1000\n",
      "209/209 [==============================] - 0s 2ms/step - loss: 5.3139\n",
      "Epoch 859/1000\n",
      "209/209 [==============================] - 0s 1ms/step - loss: 5.3139\n",
      "Epoch 860/1000\n",
      "209/209 [==============================] - 0s 1ms/step - loss: 5.3139\n",
      "Epoch 861/1000\n",
      "209/209 [==============================] - 0s 1ms/step - loss: 5.3139\n",
      "Epoch 862/1000\n",
      "209/209 [==============================] - 0s 1ms/step - loss: 5.3139\n",
      "Epoch 863/1000\n",
      "209/209 [==============================] - 0s 1ms/step - loss: 5.3139\n",
      "Epoch 864/1000\n",
      "209/209 [==============================] - 0s 1ms/step - loss: 5.3139\n",
      "Epoch 865/1000\n",
      "209/209 [==============================] - 0s 1ms/step - loss: 5.3139\n",
      "Epoch 866/1000\n",
      "209/209 [==============================] - 0s 1ms/step - loss: 5.3139\n",
      "Epoch 867/1000\n",
      "209/209 [==============================] - 0s 1ms/step - loss: 5.3139\n",
      "Epoch 868/1000\n",
      "209/209 [==============================] - 0s 1ms/step - loss: 5.3139\n",
      "Epoch 869/1000\n",
      "209/209 [==============================] - 0s 1ms/step - loss: 5.3139\n",
      "Epoch 870/1000\n",
      "209/209 [==============================] - 0s 1ms/step - loss: 5.3139\n",
      "Epoch 871/1000\n",
      "209/209 [==============================] - 0s 1ms/step - loss: 5.3139\n",
      "Epoch 872/1000\n",
      "209/209 [==============================] - 0s 1ms/step - loss: 5.3139\n",
      "Epoch 873/1000\n",
      "209/209 [==============================] - 0s 1ms/step - loss: 5.3139\n",
      "Epoch 874/1000\n",
      "209/209 [==============================] - 0s 1ms/step - loss: 5.3139\n",
      "Epoch 875/1000\n",
      "209/209 [==============================] - 0s 2ms/step - loss: 5.3139\n",
      "Epoch 876/1000\n",
      "209/209 [==============================] - 0s 1ms/step - loss: 5.3139\n",
      "Epoch 877/1000\n",
      "209/209 [==============================] - 0s 2ms/step - loss: 5.3139\n",
      "Epoch 878/1000\n",
      "209/209 [==============================] - 0s 2ms/step - loss: 5.3139\n",
      "Epoch 879/1000\n",
      "209/209 [==============================] - 0s 1ms/step - loss: 5.3139\n",
      "Epoch 880/1000\n",
      "209/209 [==============================] - 0s 1ms/step - loss: 5.3139\n",
      "Epoch 881/1000\n",
      "209/209 [==============================] - 0s 2ms/step - loss: 5.3139\n",
      "Epoch 882/1000\n",
      "209/209 [==============================] - 0s 1ms/step - loss: 5.3139\n",
      "Epoch 883/1000\n",
      "209/209 [==============================] - 0s 1ms/step - loss: 5.3139\n",
      "Epoch 884/1000\n",
      "209/209 [==============================] - 0s 1ms/step - loss: 5.3139\n",
      "Epoch 885/1000\n",
      "209/209 [==============================] - 0s 1ms/step - loss: 5.3139\n",
      "Epoch 886/1000\n",
      "209/209 [==============================] - 0s 1ms/step - loss: 5.3139\n",
      "Epoch 887/1000\n",
      "209/209 [==============================] - 0s 2ms/step - loss: 5.3139\n",
      "Epoch 888/1000\n",
      "209/209 [==============================] - 0s 1ms/step - loss: 5.3139\n",
      "Epoch 889/1000\n",
      "209/209 [==============================] - 0s 1ms/step - loss: 5.3139\n",
      "Epoch 890/1000\n",
      "209/209 [==============================] - 0s 1ms/step - loss: 5.3139\n",
      "Epoch 891/1000\n",
      "209/209 [==============================] - 0s 1ms/step - loss: 5.3139\n",
      "Epoch 892/1000\n",
      "209/209 [==============================] - 0s 1ms/step - loss: 5.3139\n",
      "Epoch 893/1000\n",
      "209/209 [==============================] - 0s 1ms/step - loss: 5.3139\n",
      "Epoch 894/1000\n",
      "209/209 [==============================] - 0s 1ms/step - loss: 5.3139\n",
      "Epoch 895/1000\n",
      "209/209 [==============================] - 0s 1ms/step - loss: 5.3139\n",
      "Epoch 896/1000\n",
      "209/209 [==============================] - 0s 1ms/step - loss: 5.3139\n",
      "Epoch 897/1000\n",
      "209/209 [==============================] - 0s 1ms/step - loss: 5.3139\n",
      "Epoch 898/1000\n",
      "209/209 [==============================] - 0s 1ms/step - loss: 5.3139\n",
      "Epoch 899/1000\n",
      "209/209 [==============================] - 0s 1ms/step - loss: 5.3139\n",
      "Epoch 900/1000\n",
      "209/209 [==============================] - 0s 1ms/step - loss: 5.3139\n",
      "Epoch 901/1000\n",
      "209/209 [==============================] - 0s 1ms/step - loss: 5.3139\n",
      "Epoch 902/1000\n",
      "209/209 [==============================] - 0s 1ms/step - loss: 5.3139\n",
      "Epoch 903/1000\n",
      "209/209 [==============================] - 0s 1ms/step - loss: 5.3139\n",
      "Epoch 904/1000\n",
      "209/209 [==============================] - 0s 1ms/step - loss: 5.3139\n",
      "Epoch 905/1000\n",
      "209/209 [==============================] - 0s 1ms/step - loss: 5.3139\n",
      "Epoch 906/1000\n",
      "209/209 [==============================] - 0s 1ms/step - loss: 5.3139\n",
      "Epoch 907/1000\n",
      "209/209 [==============================] - 0s 1ms/step - loss: 5.3139\n",
      "Epoch 908/1000\n",
      "209/209 [==============================] - 0s 1ms/step - loss: 5.3139\n",
      "Epoch 909/1000\n",
      "209/209 [==============================] - 0s 1ms/step - loss: 5.3139\n",
      "Epoch 910/1000\n",
      "209/209 [==============================] - 0s 1ms/step - loss: 5.3139\n",
      "Epoch 911/1000\n",
      "209/209 [==============================] - 0s 1ms/step - loss: 5.3139\n",
      "Epoch 912/1000\n",
      "209/209 [==============================] - 0s 1ms/step - loss: 5.3139\n",
      "Epoch 913/1000\n",
      "209/209 [==============================] - 0s 1ms/step - loss: 5.3139\n",
      "Epoch 914/1000\n",
      "209/209 [==============================] - 0s 1ms/step - loss: 5.3139\n",
      "Epoch 915/1000\n",
      "209/209 [==============================] - 0s 1ms/step - loss: 5.3139\n",
      "Epoch 916/1000\n",
      "209/209 [==============================] - 0s 1ms/step - loss: 5.3139\n",
      "Epoch 917/1000\n",
      "209/209 [==============================] - 0s 2ms/step - loss: 5.3139\n",
      "Epoch 918/1000\n",
      "209/209 [==============================] - 0s 2ms/step - loss: 5.3139\n",
      "Epoch 919/1000\n",
      "209/209 [==============================] - 0s 1ms/step - loss: 5.3139\n",
      "Epoch 920/1000\n",
      "209/209 [==============================] - 0s 1ms/step - loss: 5.3139\n",
      "Epoch 921/1000\n",
      "209/209 [==============================] - 0s 1ms/step - loss: 5.3139\n",
      "Epoch 922/1000\n",
      "209/209 [==============================] - 0s 1ms/step - loss: 5.3139\n",
      "Epoch 923/1000\n",
      "209/209 [==============================] - 0s 2ms/step - loss: 5.3139\n",
      "Epoch 924/1000\n",
      "209/209 [==============================] - 0s 1ms/step - loss: 5.3139\n",
      "Epoch 925/1000\n",
      "209/209 [==============================] - 0s 1ms/step - loss: 5.3139\n",
      "Epoch 926/1000\n",
      "209/209 [==============================] - 0s 1ms/step - loss: 5.3139\n",
      "Epoch 927/1000\n",
      "209/209 [==============================] - 0s 1ms/step - loss: 5.3139\n",
      "Epoch 928/1000\n",
      "209/209 [==============================] - 0s 1ms/step - loss: 5.3139\n",
      "Epoch 929/1000\n",
      "209/209 [==============================] - 0s 2ms/step - loss: 5.3139\n",
      "Epoch 930/1000\n",
      "209/209 [==============================] - 0s 1ms/step - loss: 5.3139\n",
      "Epoch 931/1000\n",
      "209/209 [==============================] - 0s 1ms/step - loss: 5.3139\n",
      "Epoch 932/1000\n",
      "209/209 [==============================] - 0s 1ms/step - loss: 5.3139\n",
      "Epoch 933/1000\n",
      "209/209 [==============================] - 0s 1ms/step - loss: 5.3139\n",
      "Epoch 934/1000\n",
      "209/209 [==============================] - 0s 2ms/step - loss: 5.3139\n",
      "Epoch 935/1000\n",
      "209/209 [==============================] - 0s 1ms/step - loss: 5.3139\n",
      "Epoch 936/1000\n",
      "209/209 [==============================] - 0s 933us/step - loss: 5.3139\n",
      "Epoch 937/1000\n",
      "209/209 [==============================] - 0s 1ms/step - loss: 5.3139\n",
      "Epoch 938/1000\n",
      "209/209 [==============================] - 0s 1ms/step - loss: 5.3139\n",
      "Epoch 939/1000\n",
      "209/209 [==============================] - 0s 1ms/step - loss: 5.3139\n",
      "Epoch 940/1000\n",
      "209/209 [==============================] - 0s 1ms/step - loss: 5.3139\n",
      "Epoch 941/1000\n",
      "209/209 [==============================] - 0s 1ms/step - loss: 5.3139\n",
      "Epoch 942/1000\n",
      "209/209 [==============================] - 0s 1ms/step - loss: 5.3139\n",
      "Epoch 943/1000\n",
      "209/209 [==============================] - 0s 1ms/step - loss: 5.3139\n",
      "Epoch 944/1000\n",
      "209/209 [==============================] - 0s 1ms/step - loss: 5.3139\n",
      "Epoch 945/1000\n",
      "209/209 [==============================] - 0s 1ms/step - loss: 5.3139\n",
      "Epoch 946/1000\n",
      "209/209 [==============================] - 0s 2ms/step - loss: 5.3139\n",
      "Epoch 947/1000\n",
      "209/209 [==============================] - 0s 1ms/step - loss: 5.3139\n",
      "Epoch 948/1000\n",
      "209/209 [==============================] - 0s 934us/step - loss: 5.3139\n",
      "Epoch 949/1000\n",
      "209/209 [==============================] - 0s 1ms/step - loss: 5.3139\n",
      "Epoch 950/1000\n",
      "209/209 [==============================] - 0s 2ms/step - loss: 5.3139\n",
      "Epoch 951/1000\n",
      "209/209 [==============================] - 0s 950us/step - loss: 5.3139\n",
      "Epoch 952/1000\n",
      "209/209 [==============================] - 0s 1ms/step - loss: 5.3139\n",
      "Epoch 953/1000\n",
      "209/209 [==============================] - 0s 2ms/step - loss: 5.3139\n",
      "Epoch 954/1000\n",
      "209/209 [==============================] - 0s 1ms/step - loss: 5.3139\n",
      "Epoch 955/1000\n",
      "209/209 [==============================] - 0s 950us/step - loss: 5.3139\n",
      "Epoch 956/1000\n",
      "209/209 [==============================] - 0s 2ms/step - loss: 5.3139\n",
      "Epoch 957/1000\n",
      "209/209 [==============================] - 0s 1ms/step - loss: 5.3139\n",
      "Epoch 958/1000\n",
      "209/209 [==============================] - 0s 1ms/step - loss: 5.3139\n",
      "Epoch 959/1000\n",
      "209/209 [==============================] - 0s 1ms/step - loss: 5.3139\n",
      "Epoch 960/1000\n",
      "209/209 [==============================] - 0s 1ms/step - loss: 5.3139\n",
      "Epoch 961/1000\n",
      "209/209 [==============================] - 0s 1ms/step - loss: 5.3139\n",
      "Epoch 962/1000\n",
      "209/209 [==============================] - 0s 2ms/step - loss: 5.3139\n",
      "Epoch 963/1000\n",
      "209/209 [==============================] - 0s 1ms/step - loss: 5.3139\n",
      "Epoch 964/1000\n",
      "209/209 [==============================] - 0s 1ms/step - loss: 5.3139\n",
      "Epoch 965/1000\n",
      "209/209 [==============================] - 0s 1ms/step - loss: 5.3139\n",
      "Epoch 966/1000\n",
      "209/209 [==============================] - 0s 1ms/step - loss: 5.3139\n",
      "Epoch 967/1000\n",
      "209/209 [==============================] - 0s 1ms/step - loss: 5.3139\n",
      "Epoch 968/1000\n",
      "209/209 [==============================] - 0s 1ms/step - loss: 5.3139\n",
      "Epoch 969/1000\n",
      "209/209 [==============================] - 0s 953us/step - loss: 5.3139\n",
      "Epoch 970/1000\n",
      "209/209 [==============================] - 0s 1ms/step - loss: 5.3139\n",
      "Epoch 971/1000\n",
      "209/209 [==============================] - 0s 1ms/step - loss: 5.3139\n",
      "Epoch 972/1000\n",
      "209/209 [==============================] - 0s 930us/step - loss: 5.3139\n",
      "Epoch 973/1000\n",
      "209/209 [==============================] - 0s 1ms/step - loss: 5.3139\n",
      "Epoch 974/1000\n",
      "209/209 [==============================] - 0s 1ms/step - loss: 5.3139\n",
      "Epoch 975/1000\n",
      "209/209 [==============================] - 0s 917us/step - loss: 5.3139\n",
      "Epoch 976/1000\n",
      "209/209 [==============================] - 0s 1ms/step - loss: 5.3139\n",
      "Epoch 977/1000\n",
      "209/209 [==============================] - 0s 930us/step - loss: 5.3139\n",
      "Epoch 978/1000\n",
      "209/209 [==============================] - 0s 912us/step - loss: 5.3139\n",
      "Epoch 979/1000\n",
      "209/209 [==============================] - 0s 1ms/step - loss: 5.3139\n",
      "Epoch 980/1000\n",
      "209/209 [==============================] - 0s 944us/step - loss: 5.3139\n",
      "Epoch 981/1000\n",
      "209/209 [==============================] - 0s 903us/step - loss: 5.3139\n",
      "Epoch 982/1000\n",
      "209/209 [==============================] - 0s 1ms/step - loss: 5.3139\n",
      "Epoch 983/1000\n",
      "209/209 [==============================] - 0s 950us/step - loss: 5.3139\n",
      "Epoch 984/1000\n",
      "209/209 [==============================] - 0s 898us/step - loss: 5.3139\n",
      "Epoch 985/1000\n",
      "209/209 [==============================] - 0s 1ms/step - loss: 5.3139\n",
      "Epoch 986/1000\n",
      "209/209 [==============================] - 0s 912us/step - loss: 5.3139\n",
      "Epoch 987/1000\n",
      "209/209 [==============================] - 0s 933us/step - loss: 5.3139\n",
      "Epoch 988/1000\n",
      "209/209 [==============================] - 0s 1ms/step - loss: 5.3139\n",
      "Epoch 989/1000\n",
      "209/209 [==============================] - 0s 919us/step - loss: 5.3139\n",
      "Epoch 990/1000\n",
      "209/209 [==============================] - 0s 918us/step - loss: 5.3139\n",
      "Epoch 991/1000\n",
      "209/209 [==============================] - 0s 1ms/step - loss: 5.3139\n",
      "Epoch 992/1000\n",
      "209/209 [==============================] - 0s 1ms/step - loss: 5.3139\n",
      "Epoch 993/1000\n",
      "209/209 [==============================] - 0s 897us/step - loss: 5.3139\n",
      "Epoch 994/1000\n",
      "209/209 [==============================] - 0s 1ms/step - loss: 5.3139\n",
      "Epoch 995/1000\n",
      "209/209 [==============================] - 0s 1ms/step - loss: 5.3139\n",
      "Epoch 996/1000\n",
      "209/209 [==============================] - 0s 1ms/step - loss: 5.3139\n",
      "Epoch 997/1000\n",
      "209/209 [==============================] - 0s 2ms/step - loss: 5.3139\n",
      "Epoch 998/1000\n",
      "209/209 [==============================] - 0s 1ms/step - loss: 5.3139\n",
      "Epoch 999/1000\n",
      "209/209 [==============================] - 0s 1ms/step - loss: 5.3139\n",
      "Epoch 1000/1000\n",
      "209/209 [==============================] - 0s 1ms/step - loss: 5.3139\n"
     ]
    },
    {
     "data": {
      "text/plain": [
       "<keras.src.callbacks.History at 0x7f145c2eef80>"
      ]
     },
     "execution_count": 49,
     "metadata": {},
     "output_type": "execute_result"
    }
   ],
   "source": [
    "# Try using different iterations using a simple layout like above. 10, 100, 1000 epochs. \n",
    "# What happens with your loss?\n",
    "print(\"Epochs = 10\\n\")\n",
    "model.add(Dense(units = 1, activation = 'relu', input_dim = X_train.shape[1]))\n",
    "model.compile(optimizer = 'rmsprop', loss = 'binary_crossentropy')\n",
    "model.fit(X_train.astype('float'), y_train, batch_size = 1, epochs = 10)\n",
    "print(\"\\n\")\n",
    "print(\"Epochs = 100\\n\")\n",
    "model.add(Dense(units = 1, activation = 'relu', input_dim = X_train.shape[1]))\n",
    "model.compile(optimizer = 'rmsprop', loss = 'binary_crossentropy')\n",
    "model.fit(X_train.astype('float'), y_train, batch_size = 1, epochs = 100)\n",
    "print(\"\\n\")\n",
    "print(\"Epochs = 1000\\n\")\n",
    "model.add(Dense(units = 1, activation = 'relu', input_dim = X_train.shape[1]))\n",
    "model.compile(optimizer = 'rmsprop', loss = 'binary_crossentropy')\n",
    "model.fit(X_train.astype('float'), y_train, batch_size = 1, epochs = 1000)"
   ]
  },
  {
   "cell_type": "markdown",
   "metadata": {},
   "source": [
    "As per the compilation done above, the loss does not change at all in any number of epochs. It stays at a constant value and that is shown above in the given compilation. This is probably due to the same model being used and the values being used here are the same dataset. This is the result of the model and the kind of data. "
   ]
  },
  {
   "cell_type": "markdown",
   "metadata": {},
   "source": [
    "When just trying all the different epoch levels, the value for loss doesn't change at all.\n",
    "\n",
    "Next, we try using different activation methods. Above, we used the relu function. Now, we shall test with sigmoid and tanh. "
   ]
  },
  {
   "cell_type": "code",
   "execution_count": 50,
   "metadata": {
    "id": "VGUrbX9ysgJJ"
   },
   "outputs": [
    {
     "name": "stdout",
     "output_type": "stream",
     "text": [
      "Tanh: \n",
      "\n",
      "Epoch 1/15\n",
      "209/209 [==============================] - 1s 1ms/step - loss: 5.3139\n",
      "Epoch 2/15\n",
      "209/209 [==============================] - 0s 931us/step - loss: 5.3139\n",
      "Epoch 3/15\n",
      "209/209 [==============================] - 0s 1ms/step - loss: 5.3139\n",
      "Epoch 4/15\n",
      "209/209 [==============================] - 0s 994us/step - loss: 5.3139\n",
      "Epoch 5/15\n",
      "209/209 [==============================] - 0s 1ms/step - loss: 5.3139\n",
      "Epoch 6/15\n",
      "209/209 [==============================] - 0s 1ms/step - loss: 5.3139\n",
      "Epoch 7/15\n",
      "209/209 [==============================] - 0s 1ms/step - loss: 5.3139\n",
      "Epoch 8/15\n",
      "209/209 [==============================] - 0s 1ms/step - loss: 5.3139\n",
      "Epoch 9/15\n",
      "209/209 [==============================] - 0s 926us/step - loss: 5.3139\n",
      "Epoch 10/15\n",
      "209/209 [==============================] - 0s 977us/step - loss: 5.3139\n",
      "Epoch 11/15\n",
      "209/209 [==============================] - 0s 1ms/step - loss: 5.3139\n",
      "Epoch 12/15\n",
      "209/209 [==============================] - 0s 952us/step - loss: 5.3139\n",
      "Epoch 13/15\n",
      "209/209 [==============================] - 0s 1ms/step - loss: 5.3139\n",
      "Epoch 14/15\n",
      "209/209 [==============================] - 0s 1ms/step - loss: 5.3139\n",
      "Epoch 15/15\n",
      "209/209 [==============================] - 0s 1ms/step - loss: 5.3139\n",
      "\n",
      "Sigmoid: \n",
      "\n",
      "Epoch 1/20\n",
      "209/209 [==============================] - 1s 1ms/step - loss: 0.6664\n",
      "Epoch 2/20\n",
      "209/209 [==============================] - 0s 983us/step - loss: 0.6492\n",
      "Epoch 3/20\n",
      "209/209 [==============================] - 0s 932us/step - loss: 0.6468\n",
      "Epoch 4/20\n",
      "209/209 [==============================] - 0s 1ms/step - loss: 0.6457\n",
      "Epoch 5/20\n",
      "209/209 [==============================] - 0s 955us/step - loss: 0.6474\n",
      "Epoch 6/20\n",
      "209/209 [==============================] - 0s 968us/step - loss: 0.6467\n",
      "Epoch 7/20\n",
      "209/209 [==============================] - 0s 1ms/step - loss: 0.6465\n",
      "Epoch 8/20\n",
      "209/209 [==============================] - 0s 1ms/step - loss: 0.6471\n",
      "Epoch 9/20\n",
      "209/209 [==============================] - 0s 1ms/step - loss: 0.6471\n",
      "Epoch 10/20\n",
      "209/209 [==============================] - 0s 1ms/step - loss: 0.6474\n",
      "Epoch 11/20\n",
      "209/209 [==============================] - 0s 957us/step - loss: 0.6457\n",
      "Epoch 12/20\n",
      "209/209 [==============================] - 0s 1ms/step - loss: 0.6440\n",
      "Epoch 13/20\n",
      "209/209 [==============================] - 0s 949us/step - loss: 0.6477\n",
      "Epoch 14/20\n",
      "209/209 [==============================] - 0s 955us/step - loss: 0.6470\n",
      "Epoch 15/20\n",
      "209/209 [==============================] - 0s 1ms/step - loss: 0.6483\n",
      "Epoch 16/20\n",
      "209/209 [==============================] - 0s 1ms/step - loss: 0.6467\n",
      "Epoch 17/20\n",
      "209/209 [==============================] - 0s 1ms/step - loss: 0.6476\n",
      "Epoch 18/20\n",
      "209/209 [==============================] - 0s 992us/step - loss: 0.6470\n",
      "Epoch 19/20\n",
      "209/209 [==============================] - 0s 949us/step - loss: 0.6469\n",
      "Epoch 20/20\n",
      "209/209 [==============================] - 0s 1ms/step - loss: 0.6471\n"
     ]
    },
    {
     "data": {
      "text/plain": [
       "<keras.src.callbacks.History at 0x7f145c093160>"
      ]
     },
     "execution_count": 50,
     "metadata": {},
     "output_type": "execute_result"
    }
   ],
   "source": [
    "# Try using different layers and activation function with different number of nodes\n",
    "print(\"Tanh: \\n\")\n",
    "\n",
    "model.add(Dense(units = 21, activation = 'tanh', input_dim = X_train.shape[1]))\n",
    "model.compile(optimizer = 'rmsprop', loss = 'binary_crossentropy')\n",
    "model.fit(X_train.astype('float'), y_train, batch_size = 1, epochs = 15)\n",
    "\n",
    "print(\"\\nSigmoid: \\n\")\n",
    "\n",
    "model.add(Dense(units = 1, activation = 'sigmoid', input_dim = X_train.shape[1]))\n",
    "model.compile(optimizer = 'rmsprop', loss = 'binary_crossentropy')\n",
    "model.fit(X_train.astype('float'), y_train, batch_size = 1, epochs = 20)"
   ]
  },
  {
   "cell_type": "markdown",
   "metadata": {},
   "source": [
    "We can see here, the other activation functions dropped down our values significantly. Relu dropped it a bit but sigmoid dropped it significantly. "
   ]
  },
  {
   "cell_type": "code",
   "execution_count": 55,
   "metadata": {
    "colab": {
     "base_uri": "https://localhost:8080/"
    },
    "id": "G7xQi21-Ynak",
    "outputId": "f6f8b73e-52d5-4d29-87c6-fb0955b0227c"
   },
   "outputs": [
    {
     "name": "stdout",
     "output_type": "stream",
     "text": [
      "5/5 [==============================] - 0s 2ms/step\n",
      "              precision    recall  f1-score   support\n",
      "\n",
      "         0.0       0.58      0.99      0.73        92\n",
      "         1.0       0.00      0.00      0.00        67\n",
      "\n",
      "    accuracy                           0.57       159\n",
      "   macro avg       0.29      0.49      0.36       159\n",
      "weighted avg       0.33      0.57      0.42       159\n",
      "\n"
     ]
    }
   ],
   "source": [
    "yhat_test = model.predict(X_test)\n",
    "yhat_test = [ 1 if y>=0.5 else 0 for y in yhat_test ]\n",
    "labels=np.unique(yhat_test)\n",
    "confusionmatrix = confusion_matrix(y_test, yhat_test)\n",
    "print(classification_report(y_test, yhat_test))"
   ]
  }
 ],
 "metadata": {
  "colab": {
   "collapsed_sections": [
    "z0ja7ns_Ynan"
   ],
   "provenance": []
  },
  "kernelspec": {
   "display_name": "Python 3 (ipykernel)",
   "language": "python",
   "name": "python3"
  },
  "language_info": {
   "codemirror_mode": {
    "name": "ipython",
    "version": 3
   },
   "file_extension": ".py",
   "mimetype": "text/x-python",
   "name": "python",
   "nbconvert_exporter": "python",
   "pygments_lexer": "ipython3",
   "version": "3.10.6"
  }
 },
 "nbformat": 4,
 "nbformat_minor": 4
}
